{
<<<<<<< HEAD:mnist-project/automl/.ipynb_checkpoints/automl-mnist-classifier-submit-checkpoint.ipynb
 "cells": [
  {
   "cell_type": "code",
   "execution_count": 5,
   "metadata": {},
   "outputs": [
    {
     "ename": "ModuleNotFoundError",
     "evalue": "No module named 'ruamel'",
     "output_type": "error",
     "traceback": [
      "\u001b[1;31m---------------------------------------------------------------------------\u001b[0m",
      "\u001b[1;31mModuleNotFoundError\u001b[0m                       Traceback (most recent call last)",
      "\u001b[1;32m<ipython-input-5-74d53c0cf3af>\u001b[0m in \u001b[0;36m<module>\u001b[1;34m\u001b[0m\n\u001b[1;32m----> 1\u001b[1;33m \u001b[1;32mimport\u001b[0m \u001b[0mazureml\u001b[0m\u001b[1;33m.\u001b[0m\u001b[0mcore\u001b[0m\u001b[1;33m\u001b[0m\u001b[1;33m\u001b[0m\u001b[0m\n\u001b[0m\u001b[0;32m      2\u001b[0m \u001b[1;32mimport\u001b[0m \u001b[0mpandas\u001b[0m \u001b[1;32mas\u001b[0m \u001b[0mpd\u001b[0m\u001b[1;33m\u001b[0m\u001b[1;33m\u001b[0m\u001b[0m\n\u001b[0;32m      3\u001b[0m \u001b[1;32mfrom\u001b[0m \u001b[0mazureml\u001b[0m\u001b[1;33m.\u001b[0m\u001b[0mcore\u001b[0m\u001b[1;33m.\u001b[0m\u001b[0mworkspace\u001b[0m \u001b[1;32mimport\u001b[0m \u001b[0mWorkspace\u001b[0m\u001b[1;33m\u001b[0m\u001b[1;33m\u001b[0m\u001b[0m\n\u001b[0;32m      4\u001b[0m \u001b[1;32mfrom\u001b[0m \u001b[0mazureml\u001b[0m\u001b[1;33m.\u001b[0m\u001b[0mtrain\u001b[0m\u001b[1;33m.\u001b[0m\u001b[0mautoml\u001b[0m\u001b[1;33m.\u001b[0m\u001b[0mrun\u001b[0m \u001b[1;32mimport\u001b[0m \u001b[0mAutoMLRun\u001b[0m\u001b[1;33m\u001b[0m\u001b[1;33m\u001b[0m\u001b[0m\n\u001b[0;32m      5\u001b[0m \u001b[1;32mimport\u001b[0m \u001b[0mtime\u001b[0m\u001b[1;33m\u001b[0m\u001b[1;33m\u001b[0m\u001b[0m\n",
      "\u001b[1;32mD:\\conda\\lib\\site-packages\\azureml\\core\\__init__.py\u001b[0m in \u001b[0;36m<module>\u001b[1;34m\u001b[0m\n\u001b[0;32m     11\u001b[0m \u001b[1;32mimport\u001b[0m \u001b[0mpkg_resources\u001b[0m\u001b[1;33m\u001b[0m\u001b[1;33m\u001b[0m\u001b[0m\n\u001b[0;32m     12\u001b[0m \u001b[1;33m\u001b[0m\u001b[0m\n\u001b[1;32m---> 13\u001b[1;33m \u001b[1;32mfrom\u001b[0m \u001b[1;33m.\u001b[0m\u001b[0mworkspace\u001b[0m \u001b[1;32mimport\u001b[0m \u001b[0mWorkspace\u001b[0m\u001b[1;33m\u001b[0m\u001b[1;33m\u001b[0m\u001b[0m\n\u001b[0m\u001b[0;32m     14\u001b[0m \u001b[1;32mfrom\u001b[0m \u001b[1;33m.\u001b[0m\u001b[0mexperiment\u001b[0m \u001b[1;32mimport\u001b[0m \u001b[0mExperiment\u001b[0m\u001b[1;33m\u001b[0m\u001b[1;33m\u001b[0m\u001b[0m\n\u001b[0;32m     15\u001b[0m \u001b[1;32mfrom\u001b[0m \u001b[1;33m.\u001b[0m\u001b[0mrunconfig\u001b[0m \u001b[1;32mimport\u001b[0m \u001b[0mRunConfiguration\u001b[0m\u001b[1;33m\u001b[0m\u001b[1;33m\u001b[0m\u001b[0m\n",
      "\u001b[1;32mD:\\conda\\lib\\site-packages\\azureml\\core\\workspace.py\u001b[0m in \u001b[0;36m<module>\u001b[1;34m\u001b[0m\n\u001b[0;32m     32\u001b[0m \u001b[1;32mfrom\u001b[0m \u001b[0mazureml\u001b[0m\u001b[1;33m.\u001b[0m\u001b[0mcore\u001b[0m\u001b[1;33m.\u001b[0m\u001b[0mauthentication\u001b[0m \u001b[1;32mimport\u001b[0m \u001b[0mInteractiveLoginAuthentication\u001b[0m\u001b[1;33m\u001b[0m\u001b[1;33m\u001b[0m\u001b[0m\n\u001b[0;32m     33\u001b[0m \u001b[1;32mfrom\u001b[0m \u001b[0mazureml\u001b[0m\u001b[1;33m.\u001b[0m\u001b[0mcore\u001b[0m\u001b[1;33m.\u001b[0m\u001b[0mcompute\u001b[0m \u001b[1;32mimport\u001b[0m \u001b[0mAmlCompute\u001b[0m\u001b[1;33m,\u001b[0m \u001b[0mComputeTarget\u001b[0m\u001b[1;33m\u001b[0m\u001b[1;33m\u001b[0m\u001b[0m\n\u001b[1;32m---> 34\u001b[1;33m \u001b[1;32mfrom\u001b[0m \u001b[0mazureml\u001b[0m\u001b[1;33m.\u001b[0m\u001b[0mcore\u001b[0m\u001b[1;33m.\u001b[0m\u001b[0mimage\u001b[0m \u001b[1;32mimport\u001b[0m \u001b[0mImage\u001b[0m\u001b[1;33m\u001b[0m\u001b[1;33m\u001b[0m\u001b[0m\n\u001b[0m\u001b[0;32m     35\u001b[0m \u001b[1;32mfrom\u001b[0m \u001b[0mazureml\u001b[0m\u001b[1;33m.\u001b[0m\u001b[0mcore\u001b[0m\u001b[1;33m.\u001b[0m\u001b[0mkeyvault\u001b[0m \u001b[1;32mimport\u001b[0m \u001b[0mKeyvault\u001b[0m\u001b[1;33m\u001b[0m\u001b[1;33m\u001b[0m\u001b[0m\n\u001b[0;32m     36\u001b[0m \u001b[1;32mfrom\u001b[0m \u001b[0mazureml\u001b[0m\u001b[1;33m.\u001b[0m\u001b[0mcore\u001b[0m\u001b[1;33m.\u001b[0m\u001b[0mmodel\u001b[0m \u001b[1;32mimport\u001b[0m \u001b[0mModel\u001b[0m\u001b[1;33m\u001b[0m\u001b[1;33m\u001b[0m\u001b[0m\n",
      "\u001b[1;32mD:\\conda\\lib\\site-packages\\azureml\\core\\image\\__init__.py\u001b[0m in \u001b[0;36m<module>\u001b[1;34m\u001b[0m\n\u001b[0;32m     26\u001b[0m \u001b[1;33m\u001b[0m\u001b[0m\n\u001b[0;32m     27\u001b[0m \u001b[1;32mfrom\u001b[0m \u001b[0mazureml\u001b[0m\u001b[1;33m.\u001b[0m\u001b[0m_base_sdk_common\u001b[0m \u001b[1;32mimport\u001b[0m \u001b[0m__version__\u001b[0m \u001b[1;32mas\u001b[0m \u001b[0mVERSION\u001b[0m\u001b[1;33m\u001b[0m\u001b[1;33m\u001b[0m\u001b[0m\n\u001b[1;32m---> 28\u001b[1;33m \u001b[1;32mfrom\u001b[0m \u001b[1;33m.\u001b[0m\u001b[0mimage\u001b[0m \u001b[1;32mimport\u001b[0m \u001b[0mImage\u001b[0m\u001b[1;33m\u001b[0m\u001b[1;33m\u001b[0m\u001b[0m\n\u001b[0m\u001b[0;32m     29\u001b[0m \u001b[1;32mfrom\u001b[0m \u001b[1;33m.\u001b[0m\u001b[0mcontainer\u001b[0m \u001b[1;32mimport\u001b[0m \u001b[0mContainerImage\u001b[0m\u001b[1;33m\u001b[0m\u001b[1;33m\u001b[0m\u001b[0m\n\u001b[0;32m     30\u001b[0m \u001b[1;32mfrom\u001b[0m \u001b[1;33m.\u001b[0m\u001b[0munknown_image\u001b[0m \u001b[1;32mimport\u001b[0m \u001b[0mUnknownImage\u001b[0m\u001b[1;33m\u001b[0m\u001b[1;33m\u001b[0m\u001b[0m\n",
      "\u001b[1;32mD:\\conda\\lib\\site-packages\\azureml\\core\\image\\image.py\u001b[0m in \u001b[0;36m<module>\u001b[1;34m\u001b[0m\n\u001b[0;32m     17\u001b[0m \u001b[1;32mimport\u001b[0m \u001b[0mwarnings\u001b[0m\u001b[1;33m\u001b[0m\u001b[1;33m\u001b[0m\u001b[0m\n\u001b[0;32m     18\u001b[0m \u001b[1;32mfrom\u001b[0m \u001b[0mdateutil\u001b[0m\u001b[1;33m.\u001b[0m\u001b[0mparser\u001b[0m \u001b[1;32mimport\u001b[0m \u001b[0mparse\u001b[0m\u001b[1;33m\u001b[0m\u001b[1;33m\u001b[0m\u001b[0m\n\u001b[1;32m---> 19\u001b[1;33m \u001b[1;32mfrom\u001b[0m \u001b[0mazureml\u001b[0m\u001b[1;33m.\u001b[0m\u001b[0mcore\u001b[0m\u001b[1;33m.\u001b[0m\u001b[0mmodel\u001b[0m \u001b[1;32mimport\u001b[0m \u001b[0mModel\u001b[0m\u001b[1;33m\u001b[0m\u001b[1;33m\u001b[0m\u001b[0m\n\u001b[0m\u001b[0;32m     20\u001b[0m \u001b[1;32mfrom\u001b[0m \u001b[0mazureml\u001b[0m\u001b[1;33m.\u001b[0m\u001b[0mexceptions\u001b[0m \u001b[1;32mimport\u001b[0m \u001b[0mWebserviceException\u001b[0m\u001b[1;33m\u001b[0m\u001b[1;33m\u001b[0m\u001b[0m\n\u001b[0;32m     21\u001b[0m \u001b[1;32mfrom\u001b[0m \u001b[0mazureml\u001b[0m\u001b[1;33m.\u001b[0m\u001b[0m_model_management\u001b[0m\u001b[1;33m.\u001b[0m\u001b[0m_constants\u001b[0m \u001b[1;32mimport\u001b[0m \u001b[0mMMS_SYNC_TIMEOUT_SECONDS\u001b[0m\u001b[1;33m\u001b[0m\u001b[1;33m\u001b[0m\u001b[0m\n",
      "\u001b[1;32mD:\\conda\\lib\\site-packages\\azureml\\core\\model.py\u001b[0m in \u001b[0;36m<module>\u001b[1;34m\u001b[0m\n\u001b[0;32m     38\u001b[0m \u001b[1;32mfrom\u001b[0m \u001b[0mazureml\u001b[0m\u001b[1;33m.\u001b[0m\u001b[0mdata\u001b[0m \u001b[1;32mimport\u001b[0m \u001b[0mTabularDataset\u001b[0m\u001b[1;33m,\u001b[0m \u001b[0mFileDataset\u001b[0m\u001b[1;33m\u001b[0m\u001b[1;33m\u001b[0m\u001b[0m\n\u001b[0;32m     39\u001b[0m \u001b[1;33m\u001b[0m\u001b[0m\n\u001b[1;32m---> 40\u001b[1;33m \u001b[1;32mfrom\u001b[0m \u001b[0mazureml\u001b[0m\u001b[1;33m.\u001b[0m\u001b[0mcore\u001b[0m\u001b[1;33m.\u001b[0m\u001b[0menvironment\u001b[0m \u001b[1;32mimport\u001b[0m \u001b[0mEnvironment\u001b[0m\u001b[1;33m\u001b[0m\u001b[1;33m\u001b[0m\u001b[0m\n\u001b[0m\u001b[0;32m     41\u001b[0m \u001b[1;32mfrom\u001b[0m \u001b[0mazureml\u001b[0m\u001b[1;33m.\u001b[0m\u001b[0mcore\u001b[0m\u001b[1;33m.\u001b[0m\u001b[0mexperiment\u001b[0m \u001b[1;32mimport\u001b[0m \u001b[0mExperiment\u001b[0m\u001b[1;33m\u001b[0m\u001b[1;33m\u001b[0m\u001b[0m\n\u001b[0;32m     42\u001b[0m \u001b[1;32mfrom\u001b[0m \u001b[0mazureml\u001b[0m\u001b[1;33m.\u001b[0m\u001b[0mcore\u001b[0m\u001b[1;33m.\u001b[0m\u001b[0mcompute\u001b[0m \u001b[1;32mimport\u001b[0m \u001b[0mAksCompute\u001b[0m\u001b[1;33m\u001b[0m\u001b[1;33m\u001b[0m\u001b[0m\n",
      "\u001b[1;32mD:\\conda\\lib\\site-packages\\azureml\\core\\environment.py\u001b[0m in \u001b[0;36m<module>\u001b[1;34m\u001b[0m\n\u001b[0;32m     29\u001b[0m \u001b[1;32mfrom\u001b[0m \u001b[0mazureml\u001b[0m\u001b[1;33m.\u001b[0m\u001b[0m_base_sdk_common\u001b[0m\u001b[1;33m.\u001b[0m\u001b[0mabstract_run_config_element\u001b[0m \u001b[1;32mimport\u001b[0m \u001b[0m_AbstractRunConfigElement\u001b[0m\u001b[1;33m\u001b[0m\u001b[1;33m\u001b[0m\u001b[0m\n\u001b[0;32m     30\u001b[0m \u001b[1;32mfrom\u001b[0m \u001b[0mazureml\u001b[0m\u001b[1;33m.\u001b[0m\u001b[0m_base_sdk_common\u001b[0m\u001b[1;33m.\u001b[0m\u001b[0mfield_info\u001b[0m \u001b[1;32mimport\u001b[0m \u001b[0m_FieldInfo\u001b[0m\u001b[1;33m\u001b[0m\u001b[1;33m\u001b[0m\u001b[0m\n\u001b[1;32m---> 31\u001b[1;33m \u001b[1;32mfrom\u001b[0m \u001b[0mazureml\u001b[0m\u001b[1;33m.\u001b[0m\u001b[0mcore\u001b[0m\u001b[1;33m.\u001b[0m\u001b[0mconda_dependencies\u001b[0m \u001b[1;32mimport\u001b[0m \u001b[0mCondaDependencies\u001b[0m\u001b[1;33m,\u001b[0m \u001b[0mPYTHON_DEFAULT_VERSION\u001b[0m\u001b[1;33m\u001b[0m\u001b[1;33m\u001b[0m\u001b[0m\n\u001b[0m\u001b[0;32m     32\u001b[0m \u001b[1;32mfrom\u001b[0m \u001b[0mazureml\u001b[0m\u001b[1;33m.\u001b[0m\u001b[0mcore\u001b[0m\u001b[1;33m.\u001b[0m\u001b[0mcontainer_registry\u001b[0m \u001b[1;32mimport\u001b[0m \u001b[0mContainerRegistry\u001b[0m\u001b[1;33m\u001b[0m\u001b[1;33m\u001b[0m\u001b[0m\n\u001b[0;32m     33\u001b[0m \u001b[1;32mfrom\u001b[0m \u001b[0mazureml\u001b[0m\u001b[1;33m.\u001b[0m\u001b[0mcore\u001b[0m\u001b[1;33m.\u001b[0m\u001b[0mdatabricks\u001b[0m \u001b[1;32mimport\u001b[0m \u001b[0mDatabricksSection\u001b[0m\u001b[1;33m\u001b[0m\u001b[1;33m\u001b[0m\u001b[0m\n",
      "\u001b[1;32mD:\\conda\\lib\\site-packages\\azureml\\core\\conda_dependencies.py\u001b[0m in \u001b[0;36m<module>\u001b[1;34m\u001b[0m\n\u001b[0;32m      9\u001b[0m \"\"\"\n\u001b[0;32m     10\u001b[0m \u001b[1;32mimport\u001b[0m \u001b[0mos\u001b[0m\u001b[1;33m\u001b[0m\u001b[1;33m\u001b[0m\u001b[0m\n\u001b[1;32m---> 11\u001b[1;33m \u001b[1;32mimport\u001b[0m \u001b[0mruamel\u001b[0m\u001b[1;33m.\u001b[0m\u001b[0myaml\u001b[0m\u001b[1;33m\u001b[0m\u001b[1;33m\u001b[0m\u001b[0m\n\u001b[0m\u001b[0;32m     12\u001b[0m \u001b[1;32mimport\u001b[0m \u001b[0mre\u001b[0m\u001b[1;33m\u001b[0m\u001b[1;33m\u001b[0m\u001b[0m\n\u001b[0;32m     13\u001b[0m \u001b[1;32mfrom\u001b[0m \u001b[0mazureml\u001b[0m\u001b[1;33m.\u001b[0m\u001b[0m_base_sdk_common\u001b[0m\u001b[1;33m.\u001b[0m\u001b[0mcommon\u001b[0m \u001b[1;32mimport\u001b[0m \u001b[0mget_run_config_dir_name\u001b[0m\u001b[1;33m\u001b[0m\u001b[1;33m\u001b[0m\u001b[0m\n",
      "\u001b[1;31mModuleNotFoundError\u001b[0m: No module named 'ruamel'"
     ]
    }
   ],
   "source": [
    "import azureml.core\n",
    "import pandas as pd\n",
    "from azureml.core.workspace import Workspace\n",
    "from azureml.train.automl.run import AutoMLRun\n",
    "import time\n",
    "import logging\n",
    "from sklearn import datasets\n",
    "from matplotlib import pyplot as plt\n",
    "from matplotlib.pyplot import imshow\n",
    "import random\n",
    "import numpy as np\n",
    "\n",
    "import os\n",
    "import pandas as pd\n",
    "import numpy as np\n",
    "import json\n",
    "import requests\n",
    "import joblib\n",
    "from sklearn.metrics import confusion_matrix\n",
    "import itertools\n",
    "\n",
    "from azureml.core import Dataset, Workspace, Experiment\n",
    "from azureml.core.compute import ComputeTarget, AmlCompute\n",
    "from azureml.core.compute_target import ComputeTargetException\n",
    "from azureml.widgets import RunDetails\n",
    "from azureml.train.automl import AutoMLConfig\n",
    "\n",
    "from azureml.core.model import InferenceConfig\n",
    "from azureml.core.webservice import AciWebservice, Webservice\n",
    "from azureml.core.model import Model\n",
    "from azureml.core.environment import Environment"
   ]
  },
  {
   "cell_type": "code",
   "execution_count": 4,
   "metadata": {},
   "outputs": [
    {
     "name": "stdout",
     "output_type": "stream",
     "text": [
      "Requirement already satisfied: pip in d:\\conda\\lib\\site-packages (20.2.4)\n",
      "Collecting install\n",
      "  Downloading install-1.3.4-py3-none-any.whl (3.1 kB)\n",
      "Requirement already satisfied: ruamel.yaml in d:\\conda\\lib\\site-packages (0.15.87)\n",
      "Installing collected packages: install\n",
      "Successfully installed install-1.3.4\n"
     ]
    }
   ],
   "source": [
    "!pip install pip install ruamel.yaml"
   ]
  },
  {
   "cell_type": "code",
   "execution_count": null,
   "metadata": {},
   "outputs": [],
   "source": [
    "# from azureml.core import Workspace\n",
    "# ws = Workspace.create(name='mymlworkspace',\n",
    "#                       subscription_id='1e30ba0a-66fa-4479-9bca-95ba2cf71b20',    \n",
    "#                       resource_group='mymlexp',\n",
    "#                       create_resource_group=False,\n",
    "#                       location='eastus2' # or other supported Azure region  \n",
    "#                      )\n",
    "ws = Workspace.from_config()\n",
    "\n",
    "experiment_name = 'automl-experiment'\n",
    "\n",
    "project_folder = './'\n",
    "\n",
    "experiment = Experiment(ws, experiment_name)"
   ]
  },
  {
   "cell_type": "code",
   "execution_count": null,
   "metadata": {},
   "outputs": [],
   "source": [
    "ws.get_details()"
   ]
  },
  {
   "cell_type": "code",
   "execution_count": null,
   "metadata": {},
   "outputs": [],
   "source": [
    "# Create the configuration file.\n",
    "#ws.write_config()\n",
    "\n",
    "# Use this code to load the workspace from \n",
    "# other scripts and notebooks in this directory.\n",
    "# ws = Workspace.from_config()"
   ]
  },
  {
   "cell_type": "code",
   "execution_count": null,
   "metadata": {},
   "outputs": [],
   "source": [
    "# ws = Workspace.from_config()\n",
    "# # choose a name for the run history container in the workspace\n",
    "# experiment_name = 'automl-classifier'\n",
    "# # project folder\n",
    "\n",
    "import os\n",
    "\n",
    "output = {}\n",
    "output['SDK version'] = azureml.core.VERSION\n",
    "output['Subscription ID'] = ws.subscription_id\n",
    "output['Workspace'] = ws.name\n",
    "output['Resource Group'] = ws.resource_group\n",
    "output['Location'] = ws.location\n",
    "output['Project Directory'] = project_folder\n",
    "pd.set_option('display.max_colwidth', -1)\n",
    "pd.DataFrame(data=output, index=['']).T"
   ]
  },
  {
   "cell_type": "code",
   "execution_count": null,
   "metadata": {},
   "outputs": [],
   "source": [
    "cpu_cluster_name = \"AUTOML-cluster\"\n",
    "\n",
    "# Verify that cluster does not exist already\n",
    "try:\n",
    "    compute_target = ComputeTarget(workspace=ws, name=cpu_cluster_name)\n",
    "    print('Found existing cluster, use it.')\n",
    "except ComputeTargetException:\n",
    "    compute_config = AmlCompute.provisioning_configuration(vm_size='STANDARD_D12_V2',\n",
    "                                                           max_nodes=5)\n",
    "    compute_target = ComputeTarget.create(ws, cpu_cluster_name, compute_config)\n",
    "\n",
    "compute_target.wait_for_completion(show_output=True)"
   ]
  },
  {
   "cell_type": "code",
   "execution_count": null,
   "metadata": {},
   "outputs": [],
   "source": [
    "# Method 1 of importing dataset\n",
    "from sklearn import datasets\n",
    "\n",
    "digits = datasets.load_digits()\n",
    "\n",
    "# Exclude the first 100 rows from training so that they can be used for test.\n",
    "X_train = digits.data[100:,:]\n",
    "y_train = digits.target[100:]"
   ]
  },
  {
   "cell_type": "code",
   "execution_count": null,
   "metadata": {},
   "outputs": [],
   "source": [
    "count = 0\n",
    "sample_size = 30\n",
    "plt.figure(figsize = (16, 6))\n",
    "for i in np.random.permutation(X_train.shape[0])[:sample_size]:\n",
    "    count = count + 1\n",
    "    plt.subplot(1, sample_size, count)\n",
    "    plt.axhline('')\n",
    "    plt.axvline('')\n",
    "    plt.text(x = 2, y = -2, s = y_train[i], fontsize = 18)\n",
    "    plt.imshow(X_train[i].reshape(8, 8), cmap = plt.cm.Greys)\n",
    "plt.show()"
   ]
  },
  {
   "cell_type": "code",
   "execution_count": null,
   "metadata": {},
   "outputs": [],
   "source": [
    "# # Method 3 of importing dataset (didn't worked)\n",
    "# from azureml.core import Dataset\n",
    "# from azureml.opendatasets import MNIST\n",
    "\n",
    "# data_folder = os.path.join(os.getcwd(), 'data')\n",
    "# os.makedirs(data_folder, exist_ok=True)\n",
    "\n",
    "# mnist_file_dataset = MNIST.get_file_dataset()\n",
    "# mnist_file_dataset.download(data_folder, overwrite=True)\n",
    "\n",
    "# mnist_file_dataset = mnist_file_dataset.register(workspace=ws,\n",
    "#                                                  name='mnist_opendataset',\n",
    "#                                                  description='training and test dataset',\n",
    "#                                                  create_new_version=True)\n"
   ]
  },
  {
   "cell_type": "code",
   "execution_count": null,
   "metadata": {},
   "outputs": [],
   "source": [
    "###############################################################Didn't worked#################################################\n",
    "# # make sure utils.py is in the same directory as this code\n",
    "# from utils import load_data\n",
    "# import glob\n",
    "\n",
    "\n",
    "# # note we also shrink the intensity values (X) from 0-255 to 0-1. This helps the model converge faster.\n",
    "# X_train = load_data(glob.glob(os.path.join(data_folder,\"**/train-images-idx3-ubyte.gz\"), recursive=True)[0], False) / 255.0\n",
    "# X_test = load_data(glob.glob(os.path.join(data_folder,\"**/t10k-images-idx3-ubyte.gz\"), recursive=True)[0], False) / 255.0\n",
    "# y_train = load_data(glob.glob(os.path.join(data_folder,\"**/train-labels-idx1-ubyte.gz\"), recursive=True)[0], True).reshape(-1)\n",
    "# y_test = load_data(glob.glob(os.path.join(data_folder,\"**/t10k-labels-idx1-ubyte.gz\"), recursive=True)[0], True).reshape(-1)\n",
    "\n",
    "\n",
    "# # now let's show some randomly chosen images from the traininng set.\n",
    "# count = 0\n",
    "# sample_size = 30\n",
    "# plt.figure(figsize=(16, 6))\n",
    "# for i in np.random.permutation(X_train.shape[0])[:sample_size]:\n",
    "#     count = count + 1\n",
    "#     plt.subplot(1, sample_size, count)\n",
    "#     plt.axhline('')\n",
    "#     plt.axvline('')\n",
    "#     plt.text(x=10, y=-10, s=y_train[i], fontsize=18)\n",
    "#     plt.imshow(X_train[i].reshape(28, 28), cmap=plt.cm.Greys)\n",
    "# plt.show()"
   ]
  },
  {
   "cell_type": "code",
   "execution_count": null,
   "metadata": {},
   "outputs": [],
   "source": [
    "# dataset = Dataset.get_by_name(ws, 'mnist_opendataset')\n",
    "# dataset.take(5).to_pandas_dataframe()\n",
    "# data_train, data_test = dataset.random_split(0.9)"
   ]
  },
  {
   "cell_type": "code",
   "execution_count": null,
   "metadata": {},
   "outputs": [],
   "source": [
    "# Method 2 of importing dataset\n",
    "from sklearn import datasets\n",
    "from azureml.core.dataset import Dataset\n",
    "from scipy import sparse\n",
    "import numpy as np\n",
    "import pandas as pd\n",
    "import os\n",
    "\n",
    "# Create a project_folder if it doesn't exist\n",
    "if not os.path.isdir('data'):\n",
    "    os.mkdir('data')\n",
    "    \n",
    "if not os.path.exists('project_folder'):\n",
    "    os.makedirs('project_folder')\n",
    "\n",
    "X = pd.DataFrame(digits.data[100:,:])\n",
    "y = pd.DataFrame(digits.target[100:])\n",
    "\n",
    "# merge X and y\n",
    "label = \"digit\"\n",
    "X[label] = y\n",
    "\n",
    "training_data = X\n",
    "\n",
    "training_data.to_csv('data/digits.csv')\n",
    "ds = ws.get_default_datastore()\n",
    "ds.upload(src_dir='./data', target_path='digitsdata', overwrite=True, show_progress=True)\n",
    "\n",
    "training_data = Dataset.Tabular.from_delimited_files(path=ds.path('digitsdata/digits.csv'))\n"
   ]
  },
  {
   "cell_type": "code",
   "execution_count": null,
   "metadata": {},
   "outputs": [],
   "source": [
    "from azureml.train.automl import AutoMLConfig\n",
    "import time\n",
    "import logging\n",
    "\n",
    "automl_settings = {\n",
    "    \"name\": \"AutoML_Demo_Experiment_{0}\".format(time.time()),\n",
    "    \"experiment_timeout_minutes\" : 20,\n",
    "    \"enable_early_stopping\" : True,\n",
    "    \"iteration_timeout_minutes\": 10,\n",
    "    \"n_cross_validations\": 5,\n",
    "    \"primary_metric\": 'AUC_weighted',\n",
    "    \"max_concurrent_iterations\": 10,\n",
    "}\n",
    "\n",
    "automl_config = AutoMLConfig(task='classification',\n",
    "                             debug_log='automl_errors.log',\n",
    "                             path=project_folder,\n",
    "                             compute_target=compute_target,\n",
    "                             training_data=training_data,\n",
    "                             label_column_name=label,\n",
    "                             **automl_settings,\n",
    "                             )"
   ]
  },
  {
   "cell_type": "code",
   "execution_count": null,
   "metadata": {},
   "outputs": [],
   "source": [
    "# from azureml.train.automl import AutoMLConfig\n",
    "\n",
    "# ##Local compute \n",
    "# Automl_config = AutoMLConfig(task = 'classification',\n",
    "#                              primary_metric = 'AUC_weighted',\n",
    "#                              max_time_sec = 12000,\n",
    "#                              iterations = 20,\n",
    "#                              compute_target=compute_target,\n",
    "#                              n_cross_validations = 3,\n",
    "#                              exit_score = 0.9985,\n",
    "#                              blacklist_algos = ['kNN','LinearSVM'],\n",
    "#                              X = X_train,\n",
    "#                              y = y_train,\n",
    "#                              path=project_folder)"
   ]
  },
  {
   "cell_type": "code",
   "execution_count": null,
   "metadata": {},
   "outputs": [],
   "source": [
    "from azureml.core.experiment import Experiment\n",
    "experiment=Experiment(ws, experiment_name)\n",
    "# local_run = experiment.submit(Automl_config, show_output=True)\n",
    "remote_run = experiment.submit(automl_config, show_output=True)"
   ]
  },
  {
   "cell_type": "code",
   "execution_count": null,
   "metadata": {},
   "outputs": [],
   "source": [
    "# from azureml.train.widgets import RunDetails\n",
    "# RunDetails(local_run).show()"
   ]
  },
  {
   "cell_type": "code",
   "execution_count": null,
   "metadata": {},
   "outputs": [],
   "source": [
    "from azureml.widgets import RunDetails\n",
    "RunDetails(remote_run).show()"
   ]
  },
  {
   "cell_type": "code",
   "execution_count": null,
   "metadata": {},
   "outputs": [],
   "source": [
    "children = list(remote_run.get_children())\n",
    "metricslist = {}\n",
    "for run in children:\n",
    "    properties = run.get_properties()\n",
    "    metrics = {k: v for k, v in run.get_metrics().items() if isinstance(v, float)}\n",
    "    metricslist[int(properties['iteration'])] = metrics\n",
    "\n",
    "import pandas as pd\n",
    "rundata = pd.DataFrame(metricslist).sort_index(1)\n",
    "rundata"
   ]
  },
  {
   "cell_type": "code",
   "execution_count": null,
   "metadata": {},
   "outputs": [],
   "source": [
    "best_run, fitted_model = remote_run.get_output()\n",
    "best_run_metrics = best_run.get_metrics()"
   ]
  },
  {
   "cell_type": "code",
   "execution_count": null,
   "metadata": {},
   "outputs": [],
   "source": [
    "os.makedirs('./outputs', exist_ok=True)\n",
    "\n",
    "joblib.dump(fitted_model, filename='outputs/automl.joblib')\n",
    "\n",
    "model_name = best_run.properties['model_name']\n",
    "model_name"
   ]
  },
  {
   "cell_type": "code",
   "execution_count": null,
   "metadata": {},
   "outputs": [],
   "source": [
    "# best_run, fitted_model = local_run.get_output()\n",
    "# best_run_metrics = best_run.get_metrics()"
   ]
  },
  {
   "cell_type": "code",
   "execution_count": null,
   "metadata": {},
   "outputs": [],
   "source": [
    "script_file = 'score.py'\n",
    "\n",
    "best_run.download_file('outputs/scoring_file_v_1_0_0.py', script_file)"
   ]
  },
  {
   "cell_type": "code",
   "execution_count": null,
   "metadata": {},
   "outputs": [],
   "source": [
    "# find the run with the highest accuracy value.\n",
    "# best_run, fitted_model = remote_run.get_output()\n",
    "\n",
    "# register model in workspace\n",
    "description = 'Automated Machine Learning Model'\n",
    "tags = None\n",
    "model1 = remote_run.register_model(model_name = model_name, description=description, tags=tags)\n",
    "remote_run.model_id # Use this id to deploy the model as a web service in Azure"
   ]
  },
  {
   "cell_type": "code",
   "execution_count": null,
   "metadata": {},
   "outputs": [],
   "source": [
    "# find the run with the highest accuracy value.\n",
    "best_run, fitted_model = local_run.get_output()\n",
    "\n",
    "# register model in workspace\n",
    "description = 'Automated Machine Learning Model'\n",
    "tags = None\n",
    "model2 = local_run.register_model(model_name = model_name, description=description, tags=tags)\n",
    "local_run.model_id # Use this id to deploy the model as a web service in Azure"
   ]
  },
  {
   "cell_type": "code",
   "execution_count": null,
   "metadata": {},
   "outputs": [],
   "source": [
    "# find 30 random samples from test set\n",
    "n = 30\n",
    "X_test = digits.data[:100, :]\n",
    "y_test = digits.target[:100]\n",
    "sample_indices = np.random.permutation(X_test.shape[0])[0:n]\n",
    "test_samples = X_test[sample_indices]\n",
    "\n",
    "\n",
    "# predict using the  model\n",
    "result = fitted_model.predict(test_samples)\n",
    "\n",
    "# compare actual value vs. the predicted values:\n",
    "i = 0\n",
    "plt.figure(figsize = (20, 1))\n",
    "\n",
    "for s in sample_indices:\n",
    "    plt.subplot(1, n, i + 1)\n",
    "    plt.axhline('')\n",
    "    plt.axvline('')\n",
    "    \n",
    "    # use different color for misclassified sample\n",
    "    font_color = 'red' if y_test[s] != result[i] else 'black'\n",
    "    clr_map = plt.cm.gray if y_test[s] != result[i] else plt.cm.Greys\n",
    "    \n",
    "    plt.text(x = 2, y = -2, s = result[i], fontsize = 18, color = font_color)\n",
    "    plt.imshow(X_test[s].reshape(8, 8), cmap = clr_map)\n",
    "    \n",
    "    i = i + 1\n",
    "plt.show()"
   ]
  },
  {
   "cell_type": "code",
   "execution_count": null,
   "metadata": {},
   "outputs": [],
   "source": [
    "# from azureml.core.experiment import Experiment\n",
    "# experiment = Experiment(ws, 'Tutorial-automl-remote')\n",
    "# remote_run = experiment.submit(automl_config, show_output=True)\n",
    "remote_run.get_portal_url()\n",
    "env = best_run.get_environment()\n",
    "\n",
    "script_file = 'score.py'\n",
    "\n",
    "inference_config = InferenceConfig(entry_script = script_file, environment = env)\n",
    "\n",
    "aci_config = AciWebservice.deploy_configuration(cpu_cores = 1, memory_gb = 1)\n",
    "\n",
    "aci_service_name = 'automl-mnist-classifier'\n",
    "print(aci_service_name)"
   ]
  },
  {
   "cell_type": "code",
   "execution_count": null,
   "metadata": {},
   "outputs": [],
   "source": [
    "print('Best Run Id: ', best_run.id)\n",
    "print('\\n Accuracy:', best_run_metrics['accuracy'])\n",
    "print(fitted_model._final_estimator)\n",
    "print(best_run.get_tags())"
   ]
  },
  {
   "cell_type": "code",
   "execution_count": null,
   "metadata": {},
   "outputs": [],
   "source": [
    "service = Model.deploy(ws, aci_service_name, [model1], inference_config, aci_config)\n",
    "service.wait_for_deployment(True)\n",
    "print(\"State: \" + service.state)\n",
    "print(\"Scoring URI: \" + service.scoring_uri)"
   ]
  },
  {
   "cell_type": "code",
   "execution_count": null,
   "metadata": {},
   "outputs": [],
   "source": [
    "# #########################Method 1###########################################\n",
    "# #data_test = data_test.to_pandas_dataframe().dropna()\n",
    "# data_sample = data_test.sample(3)\n",
    "# y_true = data_sample.pop('Species')\n",
    "# sample_json = json.dumps({'data':data_sample.to_dict(orient='records')})\n",
    "# print(sample_json)"
   ]
  },
  {
   "cell_type": "code",
   "execution_count": null,
   "metadata": {},
   "outputs": [],
   "source": [
    "# output = service.run(sample_json)\n",
    "# print('Prediction: ', output)\n",
    "# print('True Values: ', y_true.values)"
   ]
  },
  {
   "cell_type": "code",
   "execution_count": null,
   "metadata": {},
   "outputs": [],
   "source": [
    "%run endpoint.py"
   ]
  },
  {
   "cell_type": "code",
   "execution_count": null,
   "metadata": {},
   "outputs": [],
   "source": [
    "# service.get_logs()"
   ]
  },
  {
   "cell_type": "code",
   "execution_count": null,
   "metadata": {},
   "outputs": [],
   "source": [
    "service.delete()"
   ]
  }
 ],
 "metadata": {
  "kernelspec": {
   "display_name": "Python 3",
   "language": "python",
   "name": "python3"
  },
  "language_info": {
   "codemirror_mode": {
    "name": "ipython",
    "version": 3
   },
   "file_extension": ".py",
   "mimetype": "text/x-python",
   "name": "python",
   "nbconvert_exporter": "python",
   "pygments_lexer": "ipython3",
   "version": "3.8.5"
  }
 },
 "nbformat": 4,
 "nbformat_minor": 2
}
=======
  "cells": [
    {
      "cell_type": "code",
      "source": [
        "import azureml.core\n",
        "import pandas as pd\n",
        "from azureml.core.workspace import Workspace\n",
        "from azureml.train.automl.run import AutoMLRun\n",
        "import time\n",
        "import logging\n",
        "from sklearn import datasets\n",
        "from matplotlib import pyplot as plt\n",
        "from matplotlib.pyplot import imshow\n",
        "import random\n",
        "import numpy as np\n",
        "\n",
        "import os\n",
        "import pandas as pd\n",
        "import numpy as np\n",
        "import json\n",
        "import requests\n",
        "import joblib\n",
        "from sklearn.metrics import confusion_matrix\n",
        "import itertools\n",
        "\n",
        "from azureml.core import Dataset, Workspace, Experiment\n",
        "from azureml.core.compute import ComputeTarget, AmlCompute\n",
        "from azureml.core.compute_target import ComputeTargetException\n",
        "from azureml.widgets import RunDetails\n",
        "from azureml.train.automl import AutoMLConfig\n",
        "\n",
        "from azureml.core.model import InferenceConfig\n",
        "from azureml.core.webservice import AciWebservice, Webservice\n",
        "from azureml.core.model import Model\n",
        "from azureml.core.environment import Environment"
      ],
      "outputs": [],
      "execution_count": 1,
      "metadata": {
        "gather": {
          "logged": 1609978887535
        }
      }
    },
    {
      "cell_type": "code",
      "source": [
        "# from azureml.core import Workspace\n",
        "# ws = Workspace.create(name='mymlworkspace',\n",
        "#                       subscription_id='1e30ba0a-66fa-4479-9bca-95ba2cf71b20',    \n",
        "#                       resource_group='mymlexp',\n",
        "#                       create_resource_group=False,\n",
        "#                       location='eastus2' # or other supported Azure region  \n",
        "#                      )\n",
        "ws = Workspace.from_config()\n",
        "\n",
        "experiment_name = 'automl-experiment-2'\n",
        "\n",
        "project_folder = './'\n",
        "\n",
        "experiment = Experiment(ws, experiment_name)"
      ],
      "outputs": [],
      "execution_count": 10,
      "metadata": {
        "gather": {
          "logged": 1609979019486
        }
      }
    },
    {
      "cell_type": "code",
      "source": [
        "ws.get_details()"
      ],
      "outputs": [
        {
          "output_type": "execute_result",
          "execution_count": 3,
          "data": {
            "text/plain": "{'id': '/subscriptions/f9d5a085-54dc-4215-9ba6-dad5d86e60a0/resourceGroups/aml-quickstarts-133730/providers/Microsoft.MachineLearningServices/workspaces/quick-starts-ws-133730',\n 'name': 'quick-starts-ws-133730',\n 'location': 'southcentralus',\n 'type': 'Microsoft.MachineLearningServices/workspaces',\n 'sku': 'Basic',\n 'workspaceid': '92a2fef2-89f9-47aa-9b17-bf1c5455be01',\n 'sdkTelemetryAppInsightsKey': 'd83d49eb-3973-4a30-937a-eb3fc2d37c24',\n 'description': '',\n 'friendlyName': '',\n 'creationTime': '2021-01-06T23:03:21.0389300+00:00',\n 'containerRegistry': '/subscriptions/f9d5a085-54dc-4215-9ba6-dad5d86e60a0/resourceGroups/aml-quickstarts-133730/providers/Microsoft.ContainerRegistry/registries/92a2fef289f947aa9b17bf1c5455be01',\n 'keyVault': '/subscriptions/f9d5a085-54dc-4215-9ba6-dad5d86e60a0/resourcegroups/aml-quickstarts-133730/providers/microsoft.keyvault/vaults/mlkeyvault133730',\n 'applicationInsights': '/subscriptions/f9d5a085-54dc-4215-9ba6-dad5d86e60a0/resourcegroups/aml-quickstarts-133730/providers/microsoft.insights/components/mlappinsight133730',\n 'identityPrincipalId': '42142bb8-3c2b-498a-805c-a0ba0571994e',\n 'identityTenantId': '660b3398-b80e-49d2-bc5b-ac1dc93b5254',\n 'identityType': 'SystemAssigned',\n 'storageAccount': '/subscriptions/f9d5a085-54dc-4215-9ba6-dad5d86e60a0/resourcegroups/aml-quickstarts-133730/providers/microsoft.storage/storageaccounts/mlstrg133730',\n 'hbiWorkspace': False,\n 'discoveryUrl': 'https://southcentralus.experiments.azureml.net/discovery',\n 'notebookInfo': {'fqdn': 'ml-quick-st-southcentralus-92a2fef2-89f9-47aa-9b17-bf1c5455be01.notebooks.azure.net',\n  'resource_id': 'dbf203aa916447d18a8f031c714c0755'}}"
          },
          "metadata": {}
        }
      ],
      "execution_count": 3,
      "metadata": {
        "gather": {
          "logged": 1609978948425
        }
      }
    },
    {
      "cell_type": "code",
      "source": [
        "# Create the configuration file.\n",
        "#ws.write_config()\n",
        "\n",
        "# Use this code to load the workspace from \n",
        "# other scripts and notebooks in this directory.\n",
        "# ws = Workspace.from_config()"
      ],
      "outputs": [],
      "execution_count": null,
      "metadata": {}
    },
    {
      "cell_type": "code",
      "source": [
        "# ws = Workspace.from_config()\n",
        "# # choose a name for the run history container in the workspace\n",
        "# experiment_name = 'automl-classifier'\n",
        "# # project folder\n",
        "\n",
        "import os\n",
        "\n",
        "output = {}\n",
        "output['SDK version'] = azureml.core.VERSION\n",
        "output['Subscription ID'] = ws.subscription_id\n",
        "output['Workspace'] = ws.name\n",
        "output['Resource Group'] = ws.resource_group\n",
        "output['Location'] = ws.location\n",
        "output['Project Directory'] = project_folder\n",
        "pd.set_option('display.max_colwidth', -1)\n",
        "pd.DataFrame(data=output, index=['']).T"
      ],
      "outputs": [
        {
          "output_type": "execute_result",
          "execution_count": 4,
          "data": {
            "text/plain": "                                                       \nSDK version        1.19.0                              \nSubscription ID    f9d5a085-54dc-4215-9ba6-dad5d86e60a0\nWorkspace          quick-starts-ws-133730              \nResource Group     aml-quickstarts-133730              \nLocation           southcentralus                      \nProject Directory  ./                                  ",
            "text/html": "<div>\n<style scoped>\n    .dataframe tbody tr th:only-of-type {\n        vertical-align: middle;\n    }\n\n    .dataframe tbody tr th {\n        vertical-align: top;\n    }\n\n    .dataframe thead th {\n        text-align: right;\n    }\n</style>\n<table border=\"1\" class=\"dataframe\">\n  <thead>\n    <tr style=\"text-align: right;\">\n      <th></th>\n      <th></th>\n    </tr>\n  </thead>\n  <tbody>\n    <tr>\n      <th>SDK version</th>\n      <td>1.19.0</td>\n    </tr>\n    <tr>\n      <th>Subscription ID</th>\n      <td>f9d5a085-54dc-4215-9ba6-dad5d86e60a0</td>\n    </tr>\n    <tr>\n      <th>Workspace</th>\n      <td>quick-starts-ws-133730</td>\n    </tr>\n    <tr>\n      <th>Resource Group</th>\n      <td>aml-quickstarts-133730</td>\n    </tr>\n    <tr>\n      <th>Location</th>\n      <td>southcentralus</td>\n    </tr>\n    <tr>\n      <th>Project Directory</th>\n      <td>./</td>\n    </tr>\n  </tbody>\n</table>\n</div>"
          },
          "metadata": {}
        }
      ],
      "execution_count": 4,
      "metadata": {
        "gather": {
          "logged": 1609978954022
        }
      }
    },
    {
      "cell_type": "code",
      "source": [
        "cpu_cluster_name = \"AUTOML-cluster\"\n",
        "\n",
        "# Verify that cluster does not exist already\n",
        "try:\n",
        "    compute_target = ComputeTarget(workspace=ws, name=cpu_cluster_name)\n",
        "    print('Found existing cluster, use it.')\n",
        "except ComputeTargetException:\n",
        "    compute_config = AmlCompute.provisioning_configuration(vm_size='STANDARD_D12_V2',\n",
        "                                                           max_nodes=5)\n",
        "    compute_target = ComputeTarget.create(ws, cpu_cluster_name, compute_config)\n",
        "\n",
        "compute_target.wait_for_completion(show_output=True)"
      ],
      "outputs": [
        {
          "output_type": "stream",
          "name": "stdout",
          "text": [
            "Found existing cluster, use it.\n",
            "Succeeded\n",
            "AmlCompute wait for completion finished\n",
            "\n",
            "Minimum number of nodes requested have been provisioned\n"
          ]
        }
      ],
      "execution_count": 5,
      "metadata": {
        "gather": {
          "logged": 1609978960910
        }
      }
    },
    {
      "cell_type": "code",
      "source": [
        "# Method 1 of importing dataset\n",
        "from sklearn import datasets\n",
        "\n",
        "digits = datasets.load_digits()\n",
        "\n",
        "# Exclude the first 100 rows from training so that they can be used for test.\n",
        "X_train = digits.data[100:,:]\n",
        "y_train = digits.target[100:]"
      ],
      "outputs": [],
      "execution_count": 6,
      "metadata": {
        "gather": {
          "logged": 1609978972973
        }
      }
    },
    {
      "cell_type": "code",
      "source": [
        "count = 0\n",
        "sample_size = 30\n",
        "plt.figure(figsize = (16, 6))\n",
        "for i in np.random.permutation(X_train.shape[0])[:sample_size]:\n",
        "    count = count + 1\n",
        "    plt.subplot(1, sample_size, count)\n",
        "    plt.axhline('')\n",
        "    plt.axvline('')\n",
        "    plt.text(x = 2, y = -2, s = y_train[i], fontsize = 18)\n",
        "    plt.imshow(X_train[i].reshape(8, 8), cmap = plt.cm.Greys)\n",
        "plt.show()"
      ],
      "outputs": [
        {
          "output_type": "display_data",
          "data": {
            "text/plain": "<Figure size 1152x432 with 30 Axes>",
            "image/png": "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\n"
          },
          "metadata": {
            "needs_background": "light"
          }
        }
      ],
      "execution_count": 7,
      "metadata": {
        "gather": {
          "logged": 1609978978375
        }
      }
    },
    {
      "cell_type": "code",
      "source": [
        "# # Method 3 of importing dataset (didn't worked)\n",
        "# from azureml.core import Dataset\n",
        "# from azureml.opendatasets import MNIST\n",
        "\n",
        "# data_folder = os.path.join(os.getcwd(), 'data')\n",
        "# os.makedirs(data_folder, exist_ok=True)\n",
        "\n",
        "# mnist_file_dataset = MNIST.get_file_dataset()\n",
        "# mnist_file_dataset.download(data_folder, overwrite=True)\n",
        "\n",
        "# mnist_file_dataset = mnist_file_dataset.register(workspace=ws,\n",
        "#                                                  name='mnist_opendataset',\n",
        "#                                                  description='training and test dataset',\n",
        "#                                                  create_new_version=True)\n"
      ],
      "outputs": [],
      "execution_count": null,
      "metadata": {}
    },
    {
      "cell_type": "code",
      "source": [
        "###############################################################Didn't worked#################################################\n",
        "# # make sure utils.py is in the same directory as this code\n",
        "# from utils import load_data\n",
        "# import glob\n",
        "\n",
        "\n",
        "# # note we also shrink the intensity values (X) from 0-255 to 0-1. This helps the model converge faster.\n",
        "# X_train = load_data(glob.glob(os.path.join(data_folder,\"**/train-images-idx3-ubyte.gz\"), recursive=True)[0], False) / 255.0\n",
        "# X_test = load_data(glob.glob(os.path.join(data_folder,\"**/t10k-images-idx3-ubyte.gz\"), recursive=True)[0], False) / 255.0\n",
        "# y_train = load_data(glob.glob(os.path.join(data_folder,\"**/train-labels-idx1-ubyte.gz\"), recursive=True)[0], True).reshape(-1)\n",
        "# y_test = load_data(glob.glob(os.path.join(data_folder,\"**/t10k-labels-idx1-ubyte.gz\"), recursive=True)[0], True).reshape(-1)\n",
        "\n",
        "\n",
        "# # now let's show some randomly chosen images from the traininng set.\n",
        "# count = 0\n",
        "# sample_size = 30\n",
        "# plt.figure(figsize=(16, 6))\n",
        "# for i in np.random.permutation(X_train.shape[0])[:sample_size]:\n",
        "#     count = count + 1\n",
        "#     plt.subplot(1, sample_size, count)\n",
        "#     plt.axhline('')\n",
        "#     plt.axvline('')\n",
        "#     plt.text(x=10, y=-10, s=y_train[i], fontsize=18)\n",
        "#     plt.imshow(X_train[i].reshape(28, 28), cmap=plt.cm.Greys)\n",
        "# plt.show()"
      ],
      "outputs": [],
      "execution_count": null,
      "metadata": {}
    },
    {
      "cell_type": "code",
      "source": [
        "# dataset = Dataset.get_by_name(ws, 'mnist_opendataset')\n",
        "# dataset.take(5).to_pandas_dataframe()\n",
        "# data_train, data_test = dataset.random_split(0.9)"
      ],
      "outputs": [],
      "execution_count": null,
      "metadata": {}
    },
    {
      "cell_type": "code",
      "source": [
        "# Method 2 of importing dataset\n",
        "from sklearn import datasets\n",
        "from azureml.core.dataset import Dataset\n",
        "from scipy import sparse\n",
        "import numpy as np\n",
        "import pandas as pd\n",
        "import os\n",
        "\n",
        "# Create a project_folder if it doesn't exist\n",
        "if not os.path.isdir('data'):\n",
        "    os.mkdir('data')\n",
        "    \n",
        "if not os.path.exists('project_folder'):\n",
        "    os.makedirs('project_folder')\n",
        "\n",
        "X = pd.DataFrame(digits.data[100:,:])\n",
        "y = pd.DataFrame(digits.target[100:])\n",
        "\n",
        "# merge X and y\n",
        "label = \"digit\"\n",
        "X[label] = y\n",
        "\n",
        "training_data = X\n",
        "\n",
        "training_data.to_csv('data/digits.csv')\n",
        "ds = ws.get_default_datastore()\n",
        "ds.upload(src_dir='./data', target_path='digitsdata', overwrite=True, show_progress=True)\n",
        "\n",
        "training_data = Dataset.Tabular.from_delimited_files(path=ds.path('digitsdata/digits.csv'))\n"
      ],
      "outputs": [
        {
          "output_type": "stream",
          "name": "stdout",
          "text": [
            "Uploading an estimated of 1 files\n",
            "Uploading ./data/digits.csv\n",
            "Uploaded ./data/digits.csv, 1 files out of an estimated total of 1\n",
            "Uploaded 1 files\n"
          ]
        }
      ],
      "execution_count": 8,
      "metadata": {
        "gather": {
          "logged": 1609978993048
        }
      }
    },
    {
      "cell_type": "code",
      "source": [
        "from azureml.train.automl import AutoMLConfig\n",
        "import time\n",
        "import logging\n",
        "\n",
        "automl_settings = {\n",
        "    \"name\": \"AutoML_Demo_Experiment_{0}\".format(time.time()),\n",
        "    \"experiment_timeout_minutes\" : 20,\n",
        "    \"enable_early_stopping\" : True,\n",
        "    \"iteration_timeout_minutes\": 10,\n",
        "    \"n_cross_validations\": 5,\n",
        "    \"primary_metric\": 'AUC_weighted',\n",
        "    \"max_concurrent_iterations\": 10,\n",
        "}\n",
        "\n",
        "automl_config = AutoMLConfig(task='classification',\n",
        "                             debug_log='automl_errors.log',\n",
        "                             path=project_folder,\n",
        "                             compute_target=compute_target,\n",
        "                             training_data=training_data,\n",
        "                             label_column_name=label,\n",
        "                             **automl_settings,\n",
        "                             )"
      ],
      "outputs": [],
      "execution_count": 9,
      "metadata": {
        "gather": {
          "logged": 1609978994739
        }
      }
    },
    {
      "cell_type": "code",
      "source": [
        "# from azureml.train.automl import AutoMLConfig\n",
        "\n",
        "# ##Local compute \n",
        "# Automl_config = AutoMLConfig(task = 'classification',\n",
        "#                              primary_metric = 'AUC_weighted',\n",
        "#                              max_time_sec = 12000,\n",
        "#                              iterations = 20,\n",
        "#                              compute_target=compute_target,\n",
        "#                              n_cross_validations = 3,\n",
        "#                              exit_score = 0.9985,\n",
        "#                              blacklist_algos = ['kNN','LinearSVM'],\n",
        "#                              X = X_train,\n",
        "#                              y = y_train,\n",
        "#                              path=project_folder)"
      ],
      "outputs": [],
      "execution_count": null,
      "metadata": {}
    },
    {
      "cell_type": "code",
      "source": [
        "from azureml.core.experiment import Experiment\n",
        "experiment=Experiment(ws, experiment_name)\n",
        "# local_run = experiment.submit(Automl_config, show_output=True)\n",
        "remote_run = experiment.submit(automl_config, show_output=True)"
      ],
      "outputs": [
        {
          "output_type": "stream",
          "name": "stdout",
          "text": [
            "Running on remote.\n",
            "No run_configuration provided, running on AUTOML-cluster with default configuration\n",
            "Running on remote compute: AUTOML-cluster\n",
            "Parent Run ID: AutoML_1dd22a48-91f4-415b-8bd9-1a986ec1d9c8\n",
            "\n",
            "Current status: FeaturesGeneration. Generating features for the dataset.\n",
            "Current status: DatasetCrossValidationSplit. Generating individually featurized CV splits.\n",
            "Current status: ModelSelection. Beginning model selection.\n",
            "\n",
            "****************************************************************************************************\n",
            "DATA GUARDRAILS: \n",
            "\n",
            "TYPE:         Class balancing detection\n",
            "STATUS:       PASSED\n",
            "DESCRIPTION:  Your inputs were analyzed, and all classes are balanced in your training data.\n",
            "              Learn more about imbalanced data: https://aka.ms/AutomatedMLImbalancedData\n",
            "\n",
            "****************************************************************************************************\n",
            "\n",
            "TYPE:         Missing feature values imputation\n",
            "STATUS:       PASSED\n",
            "DESCRIPTION:  No feature missing values were detected in the training data.\n",
            "              Learn more about missing value imputation: https://aka.ms/AutomatedMLFeaturization\n",
            "\n",
            "****************************************************************************************************\n",
            "\n",
            "TYPE:         High cardinality feature detection\n",
            "STATUS:       PASSED\n",
            "DESCRIPTION:  Your inputs were analyzed, and no high cardinality features were detected.\n",
            "              Learn more about high cardinality feature handling: https://aka.ms/AutomatedMLFeaturization\n",
            "\n",
            "****************************************************************************************************\n",
            "\n",
            "****************************************************************************************************\n",
            "ITERATION: The iteration being evaluated.\n",
            "PIPELINE: A summary description of the pipeline being evaluated.\n",
            "DURATION: Time taken for the current iteration.\n",
            "METRIC: The result of computing score on the fitted pipeline.\n",
            "BEST: The best observed score thus far.\n",
            "****************************************************************************************************\n",
            "\n",
            " ITERATION   PIPELINE                                       DURATION      METRIC      BEST\n",
            "         1   MaxAbsScaler XGBoostClassifier                 0:01:07       0.9991    0.9991\n",
            "         0   MaxAbsScaler LightGBM                          0:01:21       0.9993    0.9993\n",
            "         8   MinMaxScaler ExtremeRandomTrees                0:01:25       0.9932    0.9993\n",
            "         2   MinMaxScaler RandomForest                      0:01:05       0.9881    0.9993\n",
            "         3   RobustScaler ExtremeRandomTrees                0:02:27       0.9933    0.9993\n",
            "         5   MinMaxScaler RandomForest                      0:01:01       0.9818    0.9993\n",
            "         7   MinMaxScaler ExtremeRandomTrees                0:02:35       0.9706    0.9993\n",
            "         6   StandardScalerWrapper RandomForest             0:02:43       0.9937    0.9993\n",
            "         4   MinMaxScaler RandomForest                      0:03:07       0.9957    0.9993\n",
            "        10   MinMaxScaler ExtremeRandomTrees                0:00:58       0.9884    0.9993\n",
            "        11   RobustScaler ExtremeRandomTrees                0:00:59       0.9756    0.9993\n",
            "        12   StandardScalerWrapper RandomForest             0:00:59       0.9802    0.9993\n",
            "         9   SparseNormalizer KNN                           0:01:08       0.9986    0.9993\n",
            "        13   StandardScalerWrapper SGD                      0:01:11       0.9969    0.9993\n",
            "        16   MinMaxScaler RandomForest                      0:01:00       0.9851    0.9993\n",
            "        15   StandardScalerWrapper KNN                      0:01:05       0.9979    0.9993\n",
            "        17   MinMaxScaler ExtremeRandomTrees                0:01:10       0.9881    0.9993\n",
            "        14   RobustScaler RandomForest                      0:01:14       0.9770    0.9993\n",
            "        18   MaxAbsScaler RandomForest                      0:01:07       0.9897    0.9993\n",
            "        19   StandardScalerWrapper XGBoostClassifier        0:00:58       0.9960    0.9993\n",
            "        20   MaxAbsScaler RandomForest                      0:00:56       0.9917    0.9993\n",
            "        22   MaxAbsScaler ExtremeRandomTrees                0:01:11       0.9954    0.9993\n",
            "        21   MaxAbsScaler ExtremeRandomTrees                0:01:14       0.9720    0.9993\n",
            "        23   MaxAbsScaler LightGBM                          0:01:01       0.9980    0.9993\n",
            "        25   SparseNormalizer LightGBM                      0:00:52       0.9858    0.9993\n",
            "        24   StandardScalerWrapper SVM                      0:01:06       0.9996    0.9996\n",
            "        27   MinMaxScaler SVM                               0:01:15       0.9999    0.9999\n",
            "        26   StandardScalerWrapper SVM                      0:01:15       0.9995    0.9999\n",
            "        28   StandardScalerWrapper SVM                      0:01:03       0.9995    0.9999\n",
            "        29   MaxAbsScaler SVM                               0:01:05       0.9999    0.9999\n",
            "        30   SparseNormalizer LightGBM                      0:01:22       0.9970    0.9999\n",
            "        32   MaxAbsScaler KNN                               0:00:54       0.9988    0.9999\n",
            "        31   SparseNormalizer LightGBM                      0:01:12       0.9983    0.9999\n",
            "        33   StandardScalerWrapper KNN                      0:00:54       0.9968    0.9999\n",
            "        34   RobustScaler KNN                               0:00:53       0.9959    0.9999\n",
            "        36   RobustScaler SVM                               0:01:03       0.9995    0.9999\n",
            "        37   RobustScaler SVM                               0:01:02       0.9994    0.9999\n",
            "        35   MaxAbsScaler SVM                               0:01:22       0.0200    0.9999\n",
            "        38   TruncatedSVDWrapper XGBoostClassifier          0:01:04       0.9983    0.9999\n",
            "        39   TruncatedSVDWrapper XGBoostClassifier          0:01:25       0.9949    0.9999\n",
            "        40   PCA SVM                                        0:01:16       0.5586    0.9999\n",
            "        42   RobustScaler SVM                               0:00:58       0.9995    0.9999\n",
            "        41   RobustScaler SVM                               0:01:18       0.9995    0.9999\n",
            "        43   MaxAbsScaler SVM                               0:01:08       0.9999    0.9999\n",
            "        44   MaxAbsScaler SVM                               0:00:58       0.9999    0.9999\n",
            "        45   StandardScalerWrapper SVM                      0:01:26       0.9998    0.9999\n",
            "        47   RobustScaler SVM                               0:01:18       0.9994    0.9999\n",
            "        48   MaxAbsScaler LogisticRegression                0:01:18       0.9979    0.9999\n",
            "        46   TruncatedSVDWrapper XGBoostClassifier          0:01:47       0.9992    0.9999\n",
            "        49   MinMaxScaler SVM                               0:01:08       0.9999    0.9999\n",
            "        50   PCA SVM                                        0:01:04       0.5605    0.9999\n",
            "        52   RobustScaler SVM                               0:01:01       0.9994    0.9999\n",
            "        53   MaxAbsScaler SVM                               0:01:08       0.9999    0.9999\n",
            "        54   StandardScalerWrapper SVM                      0:00:58       0.9995    0.9999\n",
            "        55   MaxAbsScaler SVM                               0:01:01       0.9820    0.9999\n",
            "        57   MaxAbsScaler LogisticRegression                0:00:59       0.9992    0.9999\n",
            "        56   MaxAbsScaler LogisticRegression                0:01:23       0.9980    0.9999\n",
            "        58   RobustScaler SVM                               0:01:03       0.9995    0.9999\n",
            "        51   TruncatedSVDWrapper XGBoostClassifier          0:02:51       0.9987    0.9999\n",
            "        59   MinMaxScaler LogisticRegression                0:00:56       0.9992    0.9999\n",
            "        61   RobustScaler SVM                               0:01:05       0.9995    0.9999\n",
            "        62   MaxAbsScaler LogisticRegression                0:01:09       0.9979    0.9999\n",
            "        60   SparseNormalizer SVM                           0:01:27       0.9882    0.9999\n",
            "        63   SparseNormalizer XGBoostClassifier             0:01:09          nan    0.9999\n",
            "        64   MinMaxScaler LogisticRegression                0:00:59       0.9991    0.9999\n",
            "        65                                                  0:00:19          nan    0.9999\n",
            "        66                                                  0:00:11          nan    0.9999\n",
            "        67                                                  0:00:08          nan    0.9999\n",
            "        68                                                  0:01:07          nan    0.9999\n",
            "        69                                                  0:01:02          nan    0.9999\n",
            "        70                                                  0:00:18          nan    0.9999\n",
            "        71                                                  0:00:17          nan    0.9999\n",
            "        72    VotingEnsemble                                0:02:43       0.9999    0.9999\n",
            "        73    StackEnsemble                                 0:02:51       0.9999    0.9999\n"
          ]
        }
      ],
      "execution_count": 11,
      "metadata": {
        "gather": {
          "logged": 1609980938297
        }
      }
    },
    {
      "cell_type": "code",
      "source": [
        "# from azureml.train.widgets import RunDetails\n",
        "# RunDetails(local_run).show()"
      ],
      "outputs": [],
      "execution_count": null,
      "metadata": {}
    },
    {
      "cell_type": "code",
      "source": [
        "from azureml.widgets import RunDetails\n",
        "RunDetails(remote_run).show()"
      ],
      "outputs": [
        {
          "output_type": "display_data",
          "data": {
            "text/plain": "_AutoMLWidget(widget_settings={'childWidgetDisplay': 'popup', 'send_telemetry': False, 'log_level': 'INFO', 's…",
            "application/vnd.jupyter.widget-view+json": {
              "version_major": 2,
              "version_minor": 0,
              "model_id": "636012b85f3f4588971584e1fc91c845"
            }
          },
          "metadata": {}
        },
        {
          "output_type": "display_data",
          "data": {
            "application/aml.mini.widget.v1": "{\"status\": \"Completed\", \"workbench_run_details_uri\": \"https://ml.azure.com/experiments/automl-experiment-2/runs/AutoML_1dd22a48-91f4-415b-8bd9-1a986ec1d9c8?wsid=/subscriptions/f9d5a085-54dc-4215-9ba6-dad5d86e60a0/resourcegroups/aml-quickstarts-133730/workspaces/quick-starts-ws-133730\", \"run_id\": \"AutoML_1dd22a48-91f4-415b-8bd9-1a986ec1d9c8\", \"run_properties\": {\"run_id\": \"AutoML_1dd22a48-91f4-415b-8bd9-1a986ec1d9c8\", \"created_utc\": \"2021-01-07T00:24:11.801085Z\", \"properties\": {\"num_iterations\": \"1000\", \"training_type\": \"TrainFull\", \"acquisition_function\": \"EI\", \"primary_metric\": \"AUC_weighted\", \"train_split\": \"0\", \"acquisition_parameter\": \"0\", \"num_cross_validation\": \"5\", \"target\": \"AUTOML-cluster\", \"AMLSettingsJsonString\": \"{\\\"path\\\":null,\\\"name\\\":\\\"AutoML_Demo_Experiment_1609978994.5024924\\\",\\\"subscription_id\\\":\\\"f9d5a085-54dc-4215-9ba6-dad5d86e60a0\\\",\\\"resource_group\\\":\\\"aml-quickstarts-133730\\\",\\\"workspace_name\\\":\\\"quick-starts-ws-133730\\\",\\\"region\\\":\\\"southcentralus\\\",\\\"compute_target\\\":\\\"AUTOML-cluster\\\",\\\"spark_service\\\":null,\\\"azure_service\\\":\\\"remote\\\",\\\"many_models\\\":false,\\\"pipeline_fetch_max_batch_size\\\":1,\\\"iterations\\\":1000,\\\"primary_metric\\\":\\\"AUC_weighted\\\",\\\"task_type\\\":\\\"classification\\\",\\\"data_script\\\":null,\\\"validation_size\\\":0.0,\\\"n_cross_validations\\\":5,\\\"y_min\\\":null,\\\"y_max\\\":null,\\\"num_classes\\\":null,\\\"featurization\\\":\\\"auto\\\",\\\"_ignore_package_version_incompatibilities\\\":false,\\\"is_timeseries\\\":false,\\\"max_cores_per_iteration\\\":1,\\\"max_concurrent_iterations\\\":10,\\\"iteration_timeout_minutes\\\":10,\\\"mem_in_mb\\\":null,\\\"enforce_time_on_windows\\\":false,\\\"experiment_timeout_minutes\\\":20,\\\"experiment_exit_score\\\":null,\\\"whitelist_models\\\":null,\\\"blacklist_algos\\\":[\\\"TensorFlowLinearClassifier\\\",\\\"TensorFlowDNN\\\"],\\\"supported_models\\\":[\\\"BernoulliNaiveBayes\\\",\\\"LogisticRegression\\\",\\\"TensorFlowLinearClassifier\\\",\\\"SGD\\\",\\\"LightGBM\\\",\\\"AveragedPerceptronClassifier\\\",\\\"TensorFlowDNN\\\",\\\"DecisionTree\\\",\\\"MultinomialNaiveBayes\\\",\\\"RandomForest\\\",\\\"ExtremeRandomTrees\\\",\\\"GradientBoosting\\\",\\\"SVM\\\",\\\"LinearSVM\\\",\\\"KNN\\\",\\\"XGBoostClassifier\\\"],\\\"auto_blacklist\\\":true,\\\"blacklist_samples_reached\\\":false,\\\"exclude_nan_labels\\\":true,\\\"verbosity\\\":20,\\\"_debug_log\\\":\\\"azureml_automl.log\\\",\\\"show_warnings\\\":false,\\\"model_explainability\\\":true,\\\"service_url\\\":null,\\\"sdk_url\\\":null,\\\"sdk_packages\\\":null,\\\"enable_onnx_compatible_models\\\":false,\\\"enable_split_onnx_featurizer_estimator_models\\\":false,\\\"vm_type\\\":\\\"STANDARD_D12_V2\\\",\\\"telemetry_verbosity\\\":20,\\\"send_telemetry\\\":true,\\\"enable_dnn\\\":false,\\\"scenario\\\":\\\"SDK-1.13.0\\\",\\\"environment_label\\\":null,\\\"force_text_dnn\\\":false,\\\"enable_feature_sweeping\\\":true,\\\"enable_early_stopping\\\":true,\\\"early_stopping_n_iters\\\":10,\\\"metrics\\\":null,\\\"enable_ensembling\\\":true,\\\"enable_stack_ensembling\\\":true,\\\"ensemble_iterations\\\":15,\\\"enable_tf\\\":false,\\\"enable_subsampling\\\":null,\\\"subsample_seed\\\":null,\\\"enable_nimbusml\\\":false,\\\"enable_streaming\\\":false,\\\"force_streaming\\\":false,\\\"track_child_runs\\\":true,\\\"allowed_private_models\\\":[],\\\"label_column_name\\\":\\\"digit\\\",\\\"weight_column_name\\\":null,\\\"cv_split_column_names\\\":null,\\\"enable_local_managed\\\":false,\\\"_local_managed_run_id\\\":null,\\\"cost_mode\\\":1,\\\"lag_length\\\":0,\\\"metric_operation\\\":\\\"maximize\\\",\\\"preprocess\\\":true}\", \"DataPrepJsonString\": \"{\\\\\\\"training_data\\\\\\\": \\\\\\\"{\\\\\\\\\\\\\\\"blocks\\\\\\\\\\\\\\\": [{\\\\\\\\\\\\\\\"id\\\\\\\\\\\\\\\": \\\\\\\\\\\\\\\"117a1e79-7ef1-48bc-9eb0-cb20ffb36aba\\\\\\\\\\\\\\\", \\\\\\\\\\\\\\\"type\\\\\\\\\\\\\\\": \\\\\\\\\\\\\\\"Microsoft.DPrep.GetDatastoreFilesBlock\\\\\\\\\\\\\\\", \\\\\\\\\\\\\\\"arguments\\\\\\\\\\\\\\\": {\\\\\\\\\\\\\\\"datastores\\\\\\\\\\\\\\\": [{\\\\\\\\\\\\\\\"datastoreName\\\\\\\\\\\\\\\": \\\\\\\\\\\\\\\"workspaceblobstore\\\\\\\\\\\\\\\", \\\\\\\\\\\\\\\"path\\\\\\\\\\\\\\\": \\\\\\\\\\\\\\\"digitsdata/digits.csv\\\\\\\\\\\\\\\", \\\\\\\\\\\\\\\"resourceGroup\\\\\\\\\\\\\\\": \\\\\\\\\\\\\\\"aml-quickstarts-133730\\\\\\\\\\\\\\\", \\\\\\\\\\\\\\\"subscription\\\\\\\\\\\\\\\": \\\\\\\\\\\\\\\"f9d5a085-54dc-4215-9ba6-dad5d86e60a0\\\\\\\\\\\\\\\", \\\\\\\\\\\\\\\"workspaceName\\\\\\\\\\\\\\\": \\\\\\\\\\\\\\\"quick-starts-ws-133730\\\\\\\\\\\\\\\"}]}, \\\\\\\\\\\\\\\"localData\\\\\\\\\\\\\\\": {}, \\\\\\\\\\\\\\\"isEnabled\\\\\\\\\\\\\\\": true, \\\\\\\\\\\\\\\"name\\\\\\\\\\\\\\\": null, \\\\\\\\\\\\\\\"annotation\\\\\\\\\\\\\\\": null}, {\\\\\\\\\\\\\\\"id\\\\\\\\\\\\\\\": \\\\\\\\\\\\\\\"68f938a0-6919-4b9a-9aab-2dc3f578d683\\\\\\\\\\\\\\\", \\\\\\\\\\\\\\\"type\\\\\\\\\\\\\\\": \\\\\\\\\\\\\\\"Microsoft.DPrep.ParseDelimitedBlock\\\\\\\\\\\\\\\", \\\\\\\\\\\\\\\"arguments\\\\\\\\\\\\\\\": {\\\\\\\\\\\\\\\"columnHeadersMode\\\\\\\\\\\\\\\": 3, \\\\\\\\\\\\\\\"fileEncoding\\\\\\\\\\\\\\\": 0, \\\\\\\\\\\\\\\"handleQuotedLineBreaks\\\\\\\\\\\\\\\": false, \\\\\\\\\\\\\\\"preview\\\\\\\\\\\\\\\": false, \\\\\\\\\\\\\\\"separator\\\\\\\\\\\\\\\": \\\\\\\\\\\\\\\",\\\\\\\\\\\\\\\", \\\\\\\\\\\\\\\"skipRows\\\\\\\\\\\\\\\": 0, \\\\\\\\\\\\\\\"skipRowsMode\\\\\\\\\\\\\\\": 0}, \\\\\\\\\\\\\\\"localData\\\\\\\\\\\\\\\": {}, \\\\\\\\\\\\\\\"isEnabled\\\\\\\\\\\\\\\": true, \\\\\\\\\\\\\\\"name\\\\\\\\\\\\\\\": null, \\\\\\\\\\\\\\\"annotation\\\\\\\\\\\\\\\": null}, {\\\\\\\\\\\\\\\"id\\\\\\\\\\\\\\\": \\\\\\\\\\\\\\\"82f9286e-f86a-4eaa-b4d5-50e2f80eade1\\\\\\\\\\\\\\\", \\\\\\\\\\\\\\\"type\\\\\\\\\\\\\\\": \\\\\\\\\\\\\\\"Microsoft.DPrep.DropColumnsBlock\\\\\\\\\\\\\\\", \\\\\\\\\\\\\\\"arguments\\\\\\\\\\\\\\\": {\\\\\\\\\\\\\\\"columns\\\\\\\\\\\\\\\": {\\\\\\\\\\\\\\\"type\\\\\\\\\\\\\\\": 0, \\\\\\\\\\\\\\\"details\\\\\\\\\\\\\\\": {\\\\\\\\\\\\\\\"selectedColumns\\\\\\\\\\\\\\\": [\\\\\\\\\\\\\\\"Path\\\\\\\\\\\\\\\"]}}}, \\\\\\\\\\\\\\\"localData\\\\\\\\\\\\\\\": {}, \\\\\\\\\\\\\\\"isEnabled\\\\\\\\\\\\\\\": true, \\\\\\\\\\\\\\\"name\\\\\\\\\\\\\\\": null, \\\\\\\\\\\\\\\"annotation\\\\\\\\\\\\\\\": null}, {\\\\\\\\\\\\\\\"id\\\\\\\\\\\\\\\": \\\\\\\\\\\\\\\"2b8a9fc3-d43f-46b1-b7db-cc95f67c6523\\\\\\\\\\\\\\\", \\\\\\\\\\\\\\\"type\\\\\\\\\\\\\\\": \\\\\\\\\\\\\\\"Microsoft.DPrep.SetColumnTypesBlock\\\\\\\\\\\\\\\", \\\\\\\\\\\\\\\"arguments\\\\\\\\\\\\\\\": {\\\\\\\\\\\\\\\"columnConversion\\\\\\\\\\\\\\\": [{\\\\\\\\\\\\\\\"column\\\\\\\\\\\\\\\": {\\\\\\\\\\\\\\\"type\\\\\\\\\\\\\\\": 2, \\\\\\\\\\\\\\\"details\\\\\\\\\\\\\\\": {\\\\\\\\\\\\\\\"selectedColumn\\\\\\\\\\\\\\\": \\\\\\\\\\\\\\\"Column1\\\\\\\\\\\\\\\"}}, \\\\\\\\\\\\\\\"typeProperty\\\\\\\\\\\\\\\": 2}, {\\\\\\\\\\\\\\\"column\\\\\\\\\\\\\\\": {\\\\\\\\\\\\\\\"type\\\\\\\\\\\\\\\": 2, \\\\\\\\\\\\\\\"details\\\\\\\\\\\\\\\": {\\\\\\\\\\\\\\\"selectedColumn\\\\\\\\\\\\\\\": \\\\\\\\\\\\\\\"0\\\\\\\\\\\\\\\"}}, \\\\\\\\\\\\\\\"typeProperty\\\\\\\\\\\\\\\": 3}, {\\\\\\\\\\\\\\\"column\\\\\\\\\\\\\\\": {\\\\\\\\\\\\\\\"type\\\\\\\\\\\\\\\": 2, \\\\\\\\\\\\\\\"details\\\\\\\\\\\\\\\": {\\\\\\\\\\\\\\\"selectedColumn\\\\\\\\\\\\\\\": \\\\\\\\\\\\\\\"1\\\\\\\\\\\\\\\"}}, \\\\\\\\\\\\\\\"typeProperty\\\\\\\\\\\\\\\": 3}, {\\\\\\\\\\\\\\\"column\\\\\\\\\\\\\\\": {\\\\\\\\\\\\\\\"type\\\\\\\\\\\\\\\": 2, \\\\\\\\\\\\\\\"details\\\\\\\\\\\\\\\": {\\\\\\\\\\\\\\\"selectedColumn\\\\\\\\\\\\\\\": \\\\\\\\\\\\\\\"2\\\\\\\\\\\\\\\"}}, \\\\\\\\\\\\\\\"typeProperty\\\\\\\\\\\\\\\": 3}, {\\\\\\\\\\\\\\\"column\\\\\\\\\\\\\\\": {\\\\\\\\\\\\\\\"type\\\\\\\\\\\\\\\": 2, \\\\\\\\\\\\\\\"details\\\\\\\\\\\\\\\": {\\\\\\\\\\\\\\\"selectedColumn\\\\\\\\\\\\\\\": \\\\\\\\\\\\\\\"3\\\\\\\\\\\\\\\"}}, \\\\\\\\\\\\\\\"typeProperty\\\\\\\\\\\\\\\": 3}, {\\\\\\\\\\\\\\\"column\\\\\\\\\\\\\\\": {\\\\\\\\\\\\\\\"type\\\\\\\\\\\\\\\": 2, \\\\\\\\\\\\\\\"details\\\\\\\\\\\\\\\": {\\\\\\\\\\\\\\\"selectedColumn\\\\\\\\\\\\\\\": \\\\\\\\\\\\\\\"4\\\\\\\\\\\\\\\"}}, \\\\\\\\\\\\\\\"typeProperty\\\\\\\\\\\\\\\": 3}, {\\\\\\\\\\\\\\\"column\\\\\\\\\\\\\\\": {\\\\\\\\\\\\\\\"type\\\\\\\\\\\\\\\": 2, \\\\\\\\\\\\\\\"details\\\\\\\\\\\\\\\": {\\\\\\\\\\\\\\\"selectedColumn\\\\\\\\\\\\\\\": \\\\\\\\\\\\\\\"5\\\\\\\\\\\\\\\"}}, \\\\\\\\\\\\\\\"typeProperty\\\\\\\\\\\\\\\": 3}, {\\\\\\\\\\\\\\\"column\\\\\\\\\\\\\\\": {\\\\\\\\\\\\\\\"type\\\\\\\\\\\\\\\": 2, \\\\\\\\\\\\\\\"details\\\\\\\\\\\\\\\": {\\\\\\\\\\\\\\\"selectedColumn\\\\\\\\\\\\\\\": \\\\\\\\\\\\\\\"6\\\\\\\\\\\\\\\"}}, \\\\\\\\\\\\\\\"typeProperty\\\\\\\\\\\\\\\": 3}, {\\\\\\\\\\\\\\\"column\\\\\\\\\\\\\\\": {\\\\\\\\\\\\\\\"type\\\\\\\\\\\\\\\": 2, \\\\\\\\\\\\\\\"details\\\\\\\\\\\\\\\": {\\\\\\\\\\\\\\\"selectedColumn\\\\\\\\\\\\\\\": \\\\\\\\\\\\\\\"7\\\\\\\\\\\\\\\"}}, \\\\\\\\\\\\\\\"typeProperty\\\\\\\\\\\\\\\": 3}, {\\\\\\\\\\\\\\\"column\\\\\\\\\\\\\\\": {\\\\\\\\\\\\\\\"type\\\\\\\\\\\\\\\": 2, \\\\\\\\\\\\\\\"details\\\\\\\\\\\\\\\": {\\\\\\\\\\\\\\\"selectedColumn\\\\\\\\\\\\\\\": \\\\\\\\\\\\\\\"8\\\\\\\\\\\\\\\"}}, \\\\\\\\\\\\\\\"typeProperty\\\\\\\\\\\\\\\": 3}, {\\\\\\\\\\\\\\\"column\\\\\\\\\\\\\\\": {\\\\\\\\\\\\\\\"type\\\\\\\\\\\\\\\": 2, \\\\\\\\\\\\\\\"details\\\\\\\\\\\\\\\": {\\\\\\\\\\\\\\\"selectedColumn\\\\\\\\\\\\\\\": \\\\\\\\\\\\\\\"9\\\\\\\\\\\\\\\"}}, \\\\\\\\\\\\\\\"typeProperty\\\\\\\\\\\\\\\": 3}, {\\\\\\\\\\\\\\\"column\\\\\\\\\\\\\\\": {\\\\\\\\\\\\\\\"type\\\\\\\\\\\\\\\": 2, \\\\\\\\\\\\\\\"details\\\\\\\\\\\\\\\": {\\\\\\\\\\\\\\\"selectedColumn\\\\\\\\\\\\\\\": \\\\\\\\\\\\\\\"10\\\\\\\\\\\\\\\"}}, \\\\\\\\\\\\\\\"typeProperty\\\\\\\\\\\\\\\": 3}, {\\\\\\\\\\\\\\\"column\\\\\\\\\\\\\\\": {\\\\\\\\\\\\\\\"type\\\\\\\\\\\\\\\": 2, \\\\\\\\\\\\\\\"details\\\\\\\\\\\\\\\": {\\\\\\\\\\\\\\\"selectedColumn\\\\\\\\\\\\\\\": \\\\\\\\\\\\\\\"11\\\\\\\\\\\\\\\"}}, \\\\\\\\\\\\\\\"typeProperty\\\\\\\\\\\\\\\": 3}, {\\\\\\\\\\\\\\\"column\\\\\\\\\\\\\\\": {\\\\\\\\\\\\\\\"type\\\\\\\\\\\\\\\": 2, \\\\\\\\\\\\\\\"details\\\\\\\\\\\\\\\": {\\\\\\\\\\\\\\\"selectedColumn\\\\\\\\\\\\\\\": \\\\\\\\\\\\\\\"12\\\\\\\\\\\\\\\"}}, \\\\\\\\\\\\\\\"typeProperty\\\\\\\\\\\\\\\": 3}, {\\\\\\\\\\\\\\\"column\\\\\\\\\\\\\\\": {\\\\\\\\\\\\\\\"type\\\\\\\\\\\\\\\": 2, \\\\\\\\\\\\\\\"details\\\\\\\\\\\\\\\": {\\\\\\\\\\\\\\\"selectedColumn\\\\\\\\\\\\\\\": \\\\\\\\\\\\\\\"13\\\\\\\\\\\\\\\"}}, \\\\\\\\\\\\\\\"typeProperty\\\\\\\\\\\\\\\": 3}, {\\\\\\\\\\\\\\\"column\\\\\\\\\\\\\\\": {\\\\\\\\\\\\\\\"type\\\\\\\\\\\\\\\": 2, \\\\\\\\\\\\\\\"details\\\\\\\\\\\\\\\": {\\\\\\\\\\\\\\\"selectedColumn\\\\\\\\\\\\\\\": \\\\\\\\\\\\\\\"14\\\\\\\\\\\\\\\"}}, \\\\\\\\\\\\\\\"typeProperty\\\\\\\\\\\\\\\": 3}, {\\\\\\\\\\\\\\\"column\\\\\\\\\\\\\\\": {\\\\\\\\\\\\\\\"type\\\\\\\\\\\\\\\": 2, \\\\\\\\\\\\\\\"details\\\\\\\\\\\\\\\": {\\\\\\\\\\\\\\\"selectedColumn\\\\\\\\\\\\\\\": \\\\\\\\\\\\\\\"15\\\\\\\\\\\\\\\"}}, \\\\\\\\\\\\\\\"typeProperty\\\\\\\\\\\\\\\": 3}, {\\\\\\\\\\\\\\\"column\\\\\\\\\\\\\\\": {\\\\\\\\\\\\\\\"type\\\\\\\\\\\\\\\": 2, \\\\\\\\\\\\\\\"details\\\\\\\\\\\\\\\": {\\\\\\\\\\\\\\\"selectedColumn\\\\\\\\\\\\\\\": \\\\\\\\\\\\\\\"16\\\\\\\\\\\\\\\"}}, \\\\\\\\\\\\\\\"typeProperty\\\\\\\\\\\\\\\": 3}, {\\\\\\\\\\\\\\\"column\\\\\\\\\\\\\\\": {\\\\\\\\\\\\\\\"type\\\\\\\\\\\\\\\": 2, \\\\\\\\\\\\\\\"details\\\\\\\\\\\\\\\": {\\\\\\\\\\\\\\\"selectedColumn\\\\\\\\\\\\\\\": \\\\\\\\\\\\\\\"17\\\\\\\\\\\\\\\"}}, \\\\\\\\\\\\\\\"typeProperty\\\\\\\\\\\\\\\": 3}, {\\\\\\\\\\\\\\\"column\\\\\\\\\\\\\\\": {\\\\\\\\\\\\\\\"type\\\\\\\\\\\\\\\": 2, \\\\\\\\\\\\\\\"details\\\\\\\\\\\\\\\": {\\\\\\\\\\\\\\\"selectedColumn\\\\\\\\\\\\\\\": \\\\\\\\\\\\\\\"18\\\\\\\\\\\\\\\"}}, \\\\\\\\\\\\\\\"typeProperty\\\\\\\\\\\\\\\": 3}, {\\\\\\\\\\\\\\\"column\\\\\\\\\\\\\\\": {\\\\\\\\\\\\\\\"type\\\\\\\\\\\\\\\": 2, \\\\\\\\\\\\\\\"details\\\\\\\\\\\\\\\": {\\\\\\\\\\\\\\\"selectedColumn\\\\\\\\\\\\\\\": \\\\\\\\\\\\\\\"19\\\\\\\\\\\\\\\"}}, \\\\\\\\\\\\\\\"typeProperty\\\\\\\\\\\\\\\": 3}, {\\\\\\\\\\\\\\\"column\\\\\\\\\\\\\\\": {\\\\\\\\\\\\\\\"type\\\\\\\\\\\\\\\": 2, \\\\\\\\\\\\\\\"details\\\\\\\\\\\\\\\": {\\\\\\\\\\\\\\\"selectedColumn\\\\\\\\\\\\\\\": \\\\\\\\\\\\\\\"20\\\\\\\\\\\\\\\"}}, \\\\\\\\\\\\\\\"typeProperty\\\\\\\\\\\\\\\": 3}, {\\\\\\\\\\\\\\\"column\\\\\\\\\\\\\\\": {\\\\\\\\\\\\\\\"type\\\\\\\\\\\\\\\": 2, \\\\\\\\\\\\\\\"details\\\\\\\\\\\\\\\": {\\\\\\\\\\\\\\\"selectedColumn\\\\\\\\\\\\\\\": \\\\\\\\\\\\\\\"21\\\\\\\\\\\\\\\"}}, \\\\\\\\\\\\\\\"typeProperty\\\\\\\\\\\\\\\": 3}, {\\\\\\\\\\\\\\\"column\\\\\\\\\\\\\\\": {\\\\\\\\\\\\\\\"type\\\\\\\\\\\\\\\": 2, \\\\\\\\\\\\\\\"details\\\\\\\\\\\\\\\": {\\\\\\\\\\\\\\\"selectedColumn\\\\\\\\\\\\\\\": \\\\\\\\\\\\\\\"22\\\\\\\\\\\\\\\"}}, \\\\\\\\\\\\\\\"typeProperty\\\\\\\\\\\\\\\": 3}, {\\\\\\\\\\\\\\\"column\\\\\\\\\\\\\\\": {\\\\\\\\\\\\\\\"type\\\\\\\\\\\\\\\": 2, \\\\\\\\\\\\\\\"details\\\\\\\\\\\\\\\": {\\\\\\\\\\\\\\\"selectedColumn\\\\\\\\\\\\\\\": \\\\\\\\\\\\\\\"23\\\\\\\\\\\\\\\"}}, \\\\\\\\\\\\\\\"typeProperty\\\\\\\\\\\\\\\": 3}, {\\\\\\\\\\\\\\\"column\\\\\\\\\\\\\\\": {\\\\\\\\\\\\\\\"type\\\\\\\\\\\\\\\": 2, \\\\\\\\\\\\\\\"details\\\\\\\\\\\\\\\": {\\\\\\\\\\\\\\\"selectedColumn\\\\\\\\\\\\\\\": \\\\\\\\\\\\\\\"24\\\\\\\\\\\\\\\"}}, \\\\\\\\\\\\\\\"typeProperty\\\\\\\\\\\\\\\": 3}, {\\\\\\\\\\\\\\\"column\\\\\\\\\\\\\\\": {\\\\\\\\\\\\\\\"type\\\\\\\\\\\\\\\": 2, \\\\\\\\\\\\\\\"details\\\\\\\\\\\\\\\": {\\\\\\\\\\\\\\\"selectedColumn\\\\\\\\\\\\\\\": \\\\\\\\\\\\\\\"25\\\\\\\\\\\\\\\"}}, \\\\\\\\\\\\\\\"typeProperty\\\\\\\\\\\\\\\": 3}, {\\\\\\\\\\\\\\\"column\\\\\\\\\\\\\\\": {\\\\\\\\\\\\\\\"type\\\\\\\\\\\\\\\": 2, \\\\\\\\\\\\\\\"details\\\\\\\\\\\\\\\": {\\\\\\\\\\\\\\\"selectedColumn\\\\\\\\\\\\\\\": \\\\\\\\\\\\\\\"26\\\\\\\\\\\\\\\"}}, \\\\\\\\\\\\\\\"typeProperty\\\\\\\\\\\\\\\": 3}, {\\\\\\\\\\\\\\\"column\\\\\\\\\\\\\\\": {\\\\\\\\\\\\\\\"type\\\\\\\\\\\\\\\": 2, \\\\\\\\\\\\\\\"details\\\\\\\\\\\\\\\": {\\\\\\\\\\\\\\\"selectedColumn\\\\\\\\\\\\\\\": \\\\\\\\\\\\\\\"27\\\\\\\\\\\\\\\"}}, \\\\\\\\\\\\\\\"typeProperty\\\\\\\\\\\\\\\": 3}, {\\\\\\\\\\\\\\\"column\\\\\\\\\\\\\\\": {\\\\\\\\\\\\\\\"type\\\\\\\\\\\\\\\": 2, \\\\\\\\\\\\\\\"details\\\\\\\\\\\\\\\": {\\\\\\\\\\\\\\\"selectedColumn\\\\\\\\\\\\\\\": \\\\\\\\\\\\\\\"28\\\\\\\\\\\\\\\"}}, \\\\\\\\\\\\\\\"typeProperty\\\\\\\\\\\\\\\": 3}, {\\\\\\\\\\\\\\\"column\\\\\\\\\\\\\\\": {\\\\\\\\\\\\\\\"type\\\\\\\\\\\\\\\": 2, \\\\\\\\\\\\\\\"details\\\\\\\\\\\\\\\": {\\\\\\\\\\\\\\\"selectedColumn\\\\\\\\\\\\\\\": \\\\\\\\\\\\\\\"29\\\\\\\\\\\\\\\"}}, \\\\\\\\\\\\\\\"typeProperty\\\\\\\\\\\\\\\": 3}, {\\\\\\\\\\\\\\\"column\\\\\\\\\\\\\\\": {\\\\\\\\\\\\\\\"type\\\\\\\\\\\\\\\": 2, \\\\\\\\\\\\\\\"details\\\\\\\\\\\\\\\": {\\\\\\\\\\\\\\\"selectedColumn\\\\\\\\\\\\\\\": \\\\\\\\\\\\\\\"30\\\\\\\\\\\\\\\"}}, \\\\\\\\\\\\\\\"typeProperty\\\\\\\\\\\\\\\": 3}, {\\\\\\\\\\\\\\\"column\\\\\\\\\\\\\\\": {\\\\\\\\\\\\\\\"type\\\\\\\\\\\\\\\": 2, \\\\\\\\\\\\\\\"details\\\\\\\\\\\\\\\": {\\\\\\\\\\\\\\\"selectedColumn\\\\\\\\\\\\\\\": \\\\\\\\\\\\\\\"31\\\\\\\\\\\\\\\"}}, \\\\\\\\\\\\\\\"typeProperty\\\\\\\\\\\\\\\": 3}, {\\\\\\\\\\\\\\\"column\\\\\\\\\\\\\\\": {\\\\\\\\\\\\\\\"type\\\\\\\\\\\\\\\": 2, \\\\\\\\\\\\\\\"details\\\\\\\\\\\\\\\": {\\\\\\\\\\\\\\\"selectedColumn\\\\\\\\\\\\\\\": \\\\\\\\\\\\\\\"32\\\\\\\\\\\\\\\"}}, \\\\\\\\\\\\\\\"typeProperty\\\\\\\\\\\\\\\": 3}, {\\\\\\\\\\\\\\\"column\\\\\\\\\\\\\\\": {\\\\\\\\\\\\\\\"type\\\\\\\\\\\\\\\": 2, \\\\\\\\\\\\\\\"details\\\\\\\\\\\\\\\": {\\\\\\\\\\\\\\\"selectedColumn\\\\\\\\\\\\\\\": \\\\\\\\\\\\\\\"33\\\\\\\\\\\\\\\"}}, \\\\\\\\\\\\\\\"typeProperty\\\\\\\\\\\\\\\": 3}, {\\\\\\\\\\\\\\\"column\\\\\\\\\\\\\\\": {\\\\\\\\\\\\\\\"type\\\\\\\\\\\\\\\": 2, \\\\\\\\\\\\\\\"details\\\\\\\\\\\\\\\": {\\\\\\\\\\\\\\\"selectedColumn\\\\\\\\\\\\\\\": \\\\\\\\\\\\\\\"34\\\\\\\\\\\\\\\"}}, \\\\\\\\\\\\\\\"typeProperty\\\\\\\\\\\\\\\": 3}, {\\\\\\\\\\\\\\\"column\\\\\\\\\\\\\\\": {\\\\\\\\\\\\\\\"type\\\\\\\\\\\\\\\": 2, \\\\\\\\\\\\\\\"details\\\\\\\\\\\\\\\": {\\\\\\\\\\\\\\\"selectedColumn\\\\\\\\\\\\\\\": \\\\\\\\\\\\\\\"35\\\\\\\\\\\\\\\"}}, \\\\\\\\\\\\\\\"typeProperty\\\\\\\\\\\\\\\": 3}, {\\\\\\\\\\\\\\\"column\\\\\\\\\\\\\\\": {\\\\\\\\\\\\\\\"type\\\\\\\\\\\\\\\": 2, \\\\\\\\\\\\\\\"details\\\\\\\\\\\\\\\": {\\\\\\\\\\\\\\\"selectedColumn\\\\\\\\\\\\\\\": \\\\\\\\\\\\\\\"36\\\\\\\\\\\\\\\"}}, \\\\\\\\\\\\\\\"typeProperty\\\\\\\\\\\\\\\": 3}, {\\\\\\\\\\\\\\\"column\\\\\\\\\\\\\\\": {\\\\\\\\\\\\\\\"type\\\\\\\\\\\\\\\": 2, \\\\\\\\\\\\\\\"details\\\\\\\\\\\\\\\": {\\\\\\\\\\\\\\\"selectedColumn\\\\\\\\\\\\\\\": \\\\\\\\\\\\\\\"37\\\\\\\\\\\\\\\"}}, \\\\\\\\\\\\\\\"typeProperty\\\\\\\\\\\\\\\": 3}, {\\\\\\\\\\\\\\\"column\\\\\\\\\\\\\\\": {\\\\\\\\\\\\\\\"type\\\\\\\\\\\\\\\": 2, \\\\\\\\\\\\\\\"details\\\\\\\\\\\\\\\": {\\\\\\\\\\\\\\\"selectedColumn\\\\\\\\\\\\\\\": \\\\\\\\\\\\\\\"38\\\\\\\\\\\\\\\"}}, \\\\\\\\\\\\\\\"typeProperty\\\\\\\\\\\\\\\": 3}, {\\\\\\\\\\\\\\\"column\\\\\\\\\\\\\\\": {\\\\\\\\\\\\\\\"type\\\\\\\\\\\\\\\": 2, \\\\\\\\\\\\\\\"details\\\\\\\\\\\\\\\": {\\\\\\\\\\\\\\\"selectedColumn\\\\\\\\\\\\\\\": \\\\\\\\\\\\\\\"39\\\\\\\\\\\\\\\"}}, \\\\\\\\\\\\\\\"typeProperty\\\\\\\\\\\\\\\": 3}, {\\\\\\\\\\\\\\\"column\\\\\\\\\\\\\\\": {\\\\\\\\\\\\\\\"type\\\\\\\\\\\\\\\": 2, \\\\\\\\\\\\\\\"details\\\\\\\\\\\\\\\": {\\\\\\\\\\\\\\\"selectedColumn\\\\\\\\\\\\\\\": \\\\\\\\\\\\\\\"40\\\\\\\\\\\\\\\"}}, \\\\\\\\\\\\\\\"typeProperty\\\\\\\\\\\\\\\": 3}, {\\\\\\\\\\\\\\\"column\\\\\\\\\\\\\\\": {\\\\\\\\\\\\\\\"type\\\\\\\\\\\\\\\": 2, \\\\\\\\\\\\\\\"details\\\\\\\\\\\\\\\": {\\\\\\\\\\\\\\\"selectedColumn\\\\\\\\\\\\\\\": \\\\\\\\\\\\\\\"41\\\\\\\\\\\\\\\"}}, \\\\\\\\\\\\\\\"typeProperty\\\\\\\\\\\\\\\": 3}, {\\\\\\\\\\\\\\\"column\\\\\\\\\\\\\\\": {\\\\\\\\\\\\\\\"type\\\\\\\\\\\\\\\": 2, \\\\\\\\\\\\\\\"details\\\\\\\\\\\\\\\": {\\\\\\\\\\\\\\\"selectedColumn\\\\\\\\\\\\\\\": \\\\\\\\\\\\\\\"42\\\\\\\\\\\\\\\"}}, \\\\\\\\\\\\\\\"typeProperty\\\\\\\\\\\\\\\": 3}, {\\\\\\\\\\\\\\\"column\\\\\\\\\\\\\\\": {\\\\\\\\\\\\\\\"type\\\\\\\\\\\\\\\": 2, \\\\\\\\\\\\\\\"details\\\\\\\\\\\\\\\": {\\\\\\\\\\\\\\\"selectedColumn\\\\\\\\\\\\\\\": \\\\\\\\\\\\\\\"43\\\\\\\\\\\\\\\"}}, \\\\\\\\\\\\\\\"typeProperty\\\\\\\\\\\\\\\": 3}, {\\\\\\\\\\\\\\\"column\\\\\\\\\\\\\\\": {\\\\\\\\\\\\\\\"type\\\\\\\\\\\\\\\": 2, \\\\\\\\\\\\\\\"details\\\\\\\\\\\\\\\": {\\\\\\\\\\\\\\\"selectedColumn\\\\\\\\\\\\\\\": \\\\\\\\\\\\\\\"44\\\\\\\\\\\\\\\"}}, \\\\\\\\\\\\\\\"typeProperty\\\\\\\\\\\\\\\": 3}, {\\\\\\\\\\\\\\\"column\\\\\\\\\\\\\\\": {\\\\\\\\\\\\\\\"type\\\\\\\\\\\\\\\": 2, \\\\\\\\\\\\\\\"details\\\\\\\\\\\\\\\": {\\\\\\\\\\\\\\\"selectedColumn\\\\\\\\\\\\\\\": \\\\\\\\\\\\\\\"45\\\\\\\\\\\\\\\"}}, \\\\\\\\\\\\\\\"typeProperty\\\\\\\\\\\\\\\": 3}, {\\\\\\\\\\\\\\\"column\\\\\\\\\\\\\\\": {\\\\\\\\\\\\\\\"type\\\\\\\\\\\\\\\": 2, \\\\\\\\\\\\\\\"details\\\\\\\\\\\\\\\": {\\\\\\\\\\\\\\\"selectedColumn\\\\\\\\\\\\\\\": \\\\\\\\\\\\\\\"46\\\\\\\\\\\\\\\"}}, \\\\\\\\\\\\\\\"typeProperty\\\\\\\\\\\\\\\": 3}, {\\\\\\\\\\\\\\\"column\\\\\\\\\\\\\\\": {\\\\\\\\\\\\\\\"type\\\\\\\\\\\\\\\": 2, \\\\\\\\\\\\\\\"details\\\\\\\\\\\\\\\": {\\\\\\\\\\\\\\\"selectedColumn\\\\\\\\\\\\\\\": \\\\\\\\\\\\\\\"47\\\\\\\\\\\\\\\"}}, \\\\\\\\\\\\\\\"typeProperty\\\\\\\\\\\\\\\": 3}, {\\\\\\\\\\\\\\\"column\\\\\\\\\\\\\\\": {\\\\\\\\\\\\\\\"type\\\\\\\\\\\\\\\": 2, \\\\\\\\\\\\\\\"details\\\\\\\\\\\\\\\": {\\\\\\\\\\\\\\\"selectedColumn\\\\\\\\\\\\\\\": \\\\\\\\\\\\\\\"48\\\\\\\\\\\\\\\"}}, \\\\\\\\\\\\\\\"typeProperty\\\\\\\\\\\\\\\": 3}, {\\\\\\\\\\\\\\\"column\\\\\\\\\\\\\\\": {\\\\\\\\\\\\\\\"type\\\\\\\\\\\\\\\": 2, \\\\\\\\\\\\\\\"details\\\\\\\\\\\\\\\": {\\\\\\\\\\\\\\\"selectedColumn\\\\\\\\\\\\\\\": \\\\\\\\\\\\\\\"49\\\\\\\\\\\\\\\"}}, \\\\\\\\\\\\\\\"typeProperty\\\\\\\\\\\\\\\": 3}, {\\\\\\\\\\\\\\\"column\\\\\\\\\\\\\\\": {\\\\\\\\\\\\\\\"type\\\\\\\\\\\\\\\": 2, \\\\\\\\\\\\\\\"details\\\\\\\\\\\\\\\": {\\\\\\\\\\\\\\\"selectedColumn\\\\\\\\\\\\\\\": \\\\\\\\\\\\\\\"50\\\\\\\\\\\\\\\"}}, \\\\\\\\\\\\\\\"typeProperty\\\\\\\\\\\\\\\": 3}, {\\\\\\\\\\\\\\\"column\\\\\\\\\\\\\\\": {\\\\\\\\\\\\\\\"type\\\\\\\\\\\\\\\": 2, \\\\\\\\\\\\\\\"details\\\\\\\\\\\\\\\": {\\\\\\\\\\\\\\\"selectedColumn\\\\\\\\\\\\\\\": \\\\\\\\\\\\\\\"51\\\\\\\\\\\\\\\"}}, \\\\\\\\\\\\\\\"typeProperty\\\\\\\\\\\\\\\": 3}, {\\\\\\\\\\\\\\\"column\\\\\\\\\\\\\\\": {\\\\\\\\\\\\\\\"type\\\\\\\\\\\\\\\": 2, \\\\\\\\\\\\\\\"details\\\\\\\\\\\\\\\": {\\\\\\\\\\\\\\\"selectedColumn\\\\\\\\\\\\\\\": \\\\\\\\\\\\\\\"52\\\\\\\\\\\\\\\"}}, \\\\\\\\\\\\\\\"typeProperty\\\\\\\\\\\\\\\": 3}, {\\\\\\\\\\\\\\\"column\\\\\\\\\\\\\\\": {\\\\\\\\\\\\\\\"type\\\\\\\\\\\\\\\": 2, \\\\\\\\\\\\\\\"details\\\\\\\\\\\\\\\": {\\\\\\\\\\\\\\\"selectedColumn\\\\\\\\\\\\\\\": \\\\\\\\\\\\\\\"53\\\\\\\\\\\\\\\"}}, \\\\\\\\\\\\\\\"typeProperty\\\\\\\\\\\\\\\": 3}, {\\\\\\\\\\\\\\\"column\\\\\\\\\\\\\\\": {\\\\\\\\\\\\\\\"type\\\\\\\\\\\\\\\": 2, \\\\\\\\\\\\\\\"details\\\\\\\\\\\\\\\": {\\\\\\\\\\\\\\\"selectedColumn\\\\\\\\\\\\\\\": \\\\\\\\\\\\\\\"54\\\\\\\\\\\\\\\"}}, \\\\\\\\\\\\\\\"typeProperty\\\\\\\\\\\\\\\": 3}, {\\\\\\\\\\\\\\\"column\\\\\\\\\\\\\\\": {\\\\\\\\\\\\\\\"type\\\\\\\\\\\\\\\": 2, \\\\\\\\\\\\\\\"details\\\\\\\\\\\\\\\": {\\\\\\\\\\\\\\\"selectedColumn\\\\\\\\\\\\\\\": \\\\\\\\\\\\\\\"55\\\\\\\\\\\\\\\"}}, \\\\\\\\\\\\\\\"typeProperty\\\\\\\\\\\\\\\": 3}, {\\\\\\\\\\\\\\\"column\\\\\\\\\\\\\\\": {\\\\\\\\\\\\\\\"type\\\\\\\\\\\\\\\": 2, \\\\\\\\\\\\\\\"details\\\\\\\\\\\\\\\": {\\\\\\\\\\\\\\\"selectedColumn\\\\\\\\\\\\\\\": \\\\\\\\\\\\\\\"56\\\\\\\\\\\\\\\"}}, \\\\\\\\\\\\\\\"typeProperty\\\\\\\\\\\\\\\": 3}, {\\\\\\\\\\\\\\\"column\\\\\\\\\\\\\\\": {\\\\\\\\\\\\\\\"type\\\\\\\\\\\\\\\": 2, \\\\\\\\\\\\\\\"details\\\\\\\\\\\\\\\": {\\\\\\\\\\\\\\\"selectedColumn\\\\\\\\\\\\\\\": \\\\\\\\\\\\\\\"57\\\\\\\\\\\\\\\"}}, \\\\\\\\\\\\\\\"typeProperty\\\\\\\\\\\\\\\": 3}, {\\\\\\\\\\\\\\\"column\\\\\\\\\\\\\\\": {\\\\\\\\\\\\\\\"type\\\\\\\\\\\\\\\": 2, \\\\\\\\\\\\\\\"details\\\\\\\\\\\\\\\": {\\\\\\\\\\\\\\\"selectedColumn\\\\\\\\\\\\\\\": \\\\\\\\\\\\\\\"58\\\\\\\\\\\\\\\"}}, \\\\\\\\\\\\\\\"typeProperty\\\\\\\\\\\\\\\": 3}, {\\\\\\\\\\\\\\\"column\\\\\\\\\\\\\\\": {\\\\\\\\\\\\\\\"type\\\\\\\\\\\\\\\": 2, \\\\\\\\\\\\\\\"details\\\\\\\\\\\\\\\": {\\\\\\\\\\\\\\\"selectedColumn\\\\\\\\\\\\\\\": \\\\\\\\\\\\\\\"59\\\\\\\\\\\\\\\"}}, \\\\\\\\\\\\\\\"typeProperty\\\\\\\\\\\\\\\": 3}, {\\\\\\\\\\\\\\\"column\\\\\\\\\\\\\\\": {\\\\\\\\\\\\\\\"type\\\\\\\\\\\\\\\": 2, \\\\\\\\\\\\\\\"details\\\\\\\\\\\\\\\": {\\\\\\\\\\\\\\\"selectedColumn\\\\\\\\\\\\\\\": \\\\\\\\\\\\\\\"60\\\\\\\\\\\\\\\"}}, \\\\\\\\\\\\\\\"typeProperty\\\\\\\\\\\\\\\": 3}, {\\\\\\\\\\\\\\\"column\\\\\\\\\\\\\\\": {\\\\\\\\\\\\\\\"type\\\\\\\\\\\\\\\": 2, \\\\\\\\\\\\\\\"details\\\\\\\\\\\\\\\": {\\\\\\\\\\\\\\\"selectedColumn\\\\\\\\\\\\\\\": \\\\\\\\\\\\\\\"61\\\\\\\\\\\\\\\"}}, \\\\\\\\\\\\\\\"typeProperty\\\\\\\\\\\\\\\": 3}, {\\\\\\\\\\\\\\\"column\\\\\\\\\\\\\\\": {\\\\\\\\\\\\\\\"type\\\\\\\\\\\\\\\": 2, \\\\\\\\\\\\\\\"details\\\\\\\\\\\\\\\": {\\\\\\\\\\\\\\\"selectedColumn\\\\\\\\\\\\\\\": \\\\\\\\\\\\\\\"62\\\\\\\\\\\\\\\"}}, \\\\\\\\\\\\\\\"typeProperty\\\\\\\\\\\\\\\": 3}, {\\\\\\\\\\\\\\\"column\\\\\\\\\\\\\\\": {\\\\\\\\\\\\\\\"type\\\\\\\\\\\\\\\": 2, \\\\\\\\\\\\\\\"details\\\\\\\\\\\\\\\": {\\\\\\\\\\\\\\\"selectedColumn\\\\\\\\\\\\\\\": \\\\\\\\\\\\\\\"63\\\\\\\\\\\\\\\"}}, \\\\\\\\\\\\\\\"typeProperty\\\\\\\\\\\\\\\": 3}, {\\\\\\\\\\\\\\\"column\\\\\\\\\\\\\\\": {\\\\\\\\\\\\\\\"type\\\\\\\\\\\\\\\": 2, \\\\\\\\\\\\\\\"details\\\\\\\\\\\\\\\": {\\\\\\\\\\\\\\\"selectedColumn\\\\\\\\\\\\\\\": \\\\\\\\\\\\\\\"digit\\\\\\\\\\\\\\\"}}, \\\\\\\\\\\\\\\"typeProperty\\\\\\\\\\\\\\\": 2}]}, \\\\\\\\\\\\\\\"localData\\\\\\\\\\\\\\\": {}, \\\\\\\\\\\\\\\"isEnabled\\\\\\\\\\\\\\\": true, \\\\\\\\\\\\\\\"name\\\\\\\\\\\\\\\": null, \\\\\\\\\\\\\\\"annotation\\\\\\\\\\\\\\\": null}], \\\\\\\\\\\\\\\"inspectors\\\\\\\\\\\\\\\": [], \\\\\\\\\\\\\\\"meta\\\\\\\\\\\\\\\": {\\\\\\\\\\\\\\\"savedDatasetId\\\\\\\\\\\\\\\": \\\\\\\\\\\\\\\"63ea4aeb-020a-4d30-900d-6fbd4f0c0a07\\\\\\\\\\\\\\\", \\\\\\\\\\\\\\\"datasetType\\\\\\\\\\\\\\\": \\\\\\\\\\\\\\\"tabular\\\\\\\\\\\\\\\", \\\\\\\\\\\\\\\"subscriptionId\\\\\\\\\\\\\\\": \\\\\\\\\\\\\\\"f9d5a085-54dc-4215-9ba6-dad5d86e60a0\\\\\\\\\\\\\\\", \\\\\\\\\\\\\\\"workspaceId\\\\\\\\\\\\\\\": \\\\\\\\\\\\\\\"92a2fef2-89f9-47aa-9b17-bf1c5455be01\\\\\\\\\\\\\\\", \\\\\\\\\\\\\\\"workspaceLocation\\\\\\\\\\\\\\\": \\\\\\\\\\\\\\\"southcentralus\\\\\\\\\\\\\\\"}}\\\\\\\", \\\\\\\"activities\\\\\\\": 0}\", \"EnableSubsampling\": null, \"runTemplate\": \"AutoML\", \"azureml.runsource\": \"automl\", \"display_task_type\": \"classification\", \"dependencies_versions\": \"{\\\"azureml-widgets\\\": \\\"1.19.0\\\", \\\"azureml-train\\\": \\\"1.19.0\\\", \\\"azureml-train-restclients-hyperdrive\\\": \\\"1.19.0\\\", \\\"azureml-train-core\\\": \\\"1.19.0\\\", \\\"azureml-train-automl\\\": \\\"1.19.0\\\", \\\"azureml-train-automl-runtime\\\": \\\"1.19.0\\\", \\\"azureml-train-automl-client\\\": \\\"1.19.0\\\", \\\"azureml-tensorboard\\\": \\\"1.19.0\\\", \\\"azureml-telemetry\\\": \\\"1.19.0\\\", \\\"azureml-sdk\\\": \\\"1.19.0\\\", \\\"azureml-samples\\\": \\\"0+unknown\\\", \\\"azureml-pipeline\\\": \\\"1.19.0\\\", \\\"azureml-pipeline-steps\\\": \\\"1.19.0\\\", \\\"azureml-pipeline-core\\\": \\\"1.19.0\\\", \\\"azureml-opendatasets\\\": \\\"1.19.0\\\", \\\"azureml-model-management-sdk\\\": \\\"1.0.1b6.post1\\\", \\\"azureml-mlflow\\\": \\\"1.19.0\\\", \\\"azureml-interpret\\\": \\\"1.19.0\\\", \\\"azureml-explain-model\\\": \\\"1.19.0\\\", \\\"azureml-defaults\\\": \\\"1.19.0\\\", \\\"azureml-dataset-runtime\\\": \\\"1.19.0\\\", \\\"azureml-dataprep\\\": \\\"2.6.1\\\", \\\"azureml-dataprep-rslex\\\": \\\"1.4.0\\\", \\\"azureml-dataprep-native\\\": \\\"26.0.0\\\", \\\"azureml-datadrift\\\": \\\"1.19.0\\\", \\\"azureml-core\\\": \\\"1.19.0\\\", \\\"azureml-contrib-services\\\": \\\"1.19.0\\\", \\\"azureml-contrib-server\\\": \\\"1.19.0\\\", \\\"azureml-contrib-reinforcementlearning\\\": \\\"1.19.0\\\", \\\"azureml-contrib-pipeline-steps\\\": \\\"1.19.0\\\", \\\"azureml-contrib-notebook\\\": \\\"1.19.0\\\", \\\"azureml-contrib-interpret\\\": \\\"1.19.0\\\", \\\"azureml-contrib-gbdt\\\": \\\"1.19.0\\\", \\\"azureml-contrib-fairness\\\": \\\"1.19.0\\\", \\\"azureml-contrib-dataset\\\": \\\"1.19.0\\\", \\\"azureml-cli-common\\\": \\\"1.19.0\\\", \\\"azureml-automl-runtime\\\": \\\"1.19.0\\\", \\\"azureml-automl-core\\\": \\\"1.19.0\\\", \\\"azureml-accel-models\\\": \\\"1.19.0\\\"}\", \"_aml_system_scenario_identification\": \"Remote.Parent\", \"ClientType\": \"SDK\", \"environment_cpu_name\": \"AzureML-AutoML\", \"environment_cpu_label\": \"prod\", \"environment_gpu_name\": \"AzureML-AutoML-GPU\", \"environment_gpu_label\": \"prod\", \"root_attribution\": \"automl\", \"attribution\": \"AutoML\", \"Orchestrator\": \"AutoML\", \"CancelUri\": \"https://southcentralus.experiments.azureml.net/jasmine/v1.0/subscriptions/f9d5a085-54dc-4215-9ba6-dad5d86e60a0/resourceGroups/aml-quickstarts-133730/providers/Microsoft.MachineLearningServices/workspaces/quick-starts-ws-133730/experimentids/f7c04668-7f79-4d02-b2fc-5ddca54a8c18/cancel/AutoML_1dd22a48-91f4-415b-8bd9-1a986ec1d9c8\", \"ClientSdkVersion\": \"1.19.0\", \"snapshotId\": \"00000000-0000-0000-0000-000000000000\", \"SetupRunId\": \"AutoML_1dd22a48-91f4-415b-8bd9-1a986ec1d9c8_setup\", \"SetupRunContainerId\": \"dcid.AutoML_1dd22a48-91f4-415b-8bd9-1a986ec1d9c8_setup\", \"FeaturizationRunJsonPath\": \"featurizer_container.json\", \"FeaturizationRunId\": \"AutoML_1dd22a48-91f4-415b-8bd9-1a986ec1d9c8_featurize\", \"ProblemInfoJsonString\": \"{\\\"dataset_num_categorical\\\": 0, \\\"is_sparse\\\": false, \\\"subsampling\\\": false, \\\"dataset_classes\\\": 10, \\\"dataset_features\\\": 62, \\\"dataset_samples\\\": 1697, \\\"single_frequency_class_detected\\\": false}\", \"ModelExplainRunId\": \"AutoML_1dd22a48-91f4-415b-8bd9-1a986ec1d9c8_ModelExplain\"}, \"tags\": {\"model_explain_run\": \"best_run\", \"_aml_system_azureml.automlComponent\": \"AutoML\", \"pipeline_id\": \"\", \"score\": \"\", \"predicted_cost\": \"\", \"fit_time\": \"\", \"training_percent\": \"\", \"iteration\": \"\", \"run_preprocessor\": \"\", \"run_algorithm\": \"\", \"dynamic_whitelisting_iterations\": \"<25>;<30>;<35>;<40>;<45>;<50>;<55>;<60>;<65>;<70>;\", \"automl_best_child_run_id\": \"AutoML_1dd22a48-91f4-415b-8bd9-1a986ec1d9c8_72\", \"model_explain_best_run_child_id\": \"AutoML_1dd22a48-91f4-415b-8bd9-1a986ec1d9c8_72\"}, \"end_time_utc\": \"2021-01-07T00:55:30.855813Z\", \"status\": \"Completed\", \"log_files\": {}, \"log_groups\": [], \"run_duration\": \"0:31:19\"}, \"child_runs\": [{\"run_id\": \"AutoML_1dd22a48-91f4-415b-8bd9-1a986ec1d9c8_1\", \"run_number\": 5, \"metric\": null, \"status\": \"Completed\", \"run_type\": \"azureml.scriptrun\", \"training_percent\": \"100\", \"start_time\": \"2021-01-07T00:31:58.467803Z\", \"end_time\": \"2021-01-07T00:33:05.586262Z\", \"created_time\": \"2021-01-07T00:31:47.98501Z\", \"created_time_dt\": \"2021-01-07T00:31:47.98501Z\", \"duration\": \"0:01:17\", \"iteration\": \"1\", \"goal\": \"AUC_weighted_max\", \"run_name\": \"MaxAbsScaler, XGBoostClassifier\", \"run_properties\": \"copy=True\", \"primary_metric\": 0.99912436, \"best_metric\": 0.99934055}, {\"run_id\": \"AutoML_1dd22a48-91f4-415b-8bd9-1a986ec1d9c8_5\", \"run_number\": 6, \"metric\": null, \"status\": \"Completed\", \"run_type\": \"azureml.scriptrun\", \"training_percent\": \"100\", \"start_time\": \"2021-01-07T00:37:17.45297Z\", \"end_time\": \"2021-01-07T00:38:18.071927Z\", \"created_time\": \"2021-01-07T00:31:48.130442Z\", \"created_time_dt\": \"2021-01-07T00:31:48.130442Z\", \"duration\": \"0:06:29\", \"iteration\": \"5\", \"goal\": \"AUC_weighted_max\", \"run_name\": \"MinMaxScaler, RandomForest\", \"run_properties\": \"copy=True, feature_range=(0, 1\", \"primary_metric\": 0.98179193, \"best_metric\": 0.99934055}, {\"run_id\": \"AutoML_1dd22a48-91f4-415b-8bd9-1a986ec1d9c8_9\", \"run_number\": 7, \"metric\": null, \"status\": \"Completed\", \"run_type\": \"azureml.scriptrun\", \"training_percent\": \"100\", \"start_time\": \"2021-01-07T00:38:17.636345Z\", \"end_time\": \"2021-01-07T00:39:25.711891Z\", \"created_time\": \"2021-01-07T00:31:48.138002Z\", \"created_time_dt\": \"2021-01-07T00:31:48.138002Z\", \"duration\": \"0:07:37\", \"iteration\": \"9\", \"goal\": \"AUC_weighted_max\", \"run_name\": \"SparseNormalizer, KNN\", \"run_properties\": \"<azureml.automl.runtime.shared.model_wrappers.SparseNormalizer object at 0x7f5ee8c93ba8\", \"primary_metric\": 0.99864419, \"best_metric\": 0.99934055}, {\"run_id\": \"AutoML_1dd22a48-91f4-415b-8bd9-1a986ec1d9c8_2\", \"run_number\": 8, \"metric\": null, \"status\": \"Completed\", \"run_type\": \"azureml.scriptrun\", \"training_percent\": \"100\", \"start_time\": \"2021-01-07T00:36:06.298493Z\", \"end_time\": \"2021-01-07T00:37:11.113489Z\", \"created_time\": \"2021-01-07T00:31:48.162896Z\", \"created_time_dt\": \"2021-01-07T00:31:48.162896Z\", \"duration\": \"0:05:22\", \"iteration\": \"2\", \"goal\": \"AUC_weighted_max\", \"run_name\": \"MinMaxScaler, RandomForest\", \"run_properties\": \"copy=True, feature_range=(0, 1\", \"primary_metric\": 0.98814032, \"best_metric\": 0.99934055}, {\"run_id\": \"AutoML_1dd22a48-91f4-415b-8bd9-1a986ec1d9c8_8\", \"run_number\": 9, \"metric\": null, \"status\": \"Completed\", \"run_type\": \"azureml.scriptrun\", \"training_percent\": \"100\", \"start_time\": \"2021-01-07T00:34:40.170823Z\", \"end_time\": \"2021-01-07T00:36:05.197964Z\", \"created_time\": \"2021-01-07T00:31:48.170396Z\", \"created_time_dt\": \"2021-01-07T00:31:48.170396Z\", \"duration\": \"0:04:17\", \"iteration\": \"8\", \"goal\": \"AUC_weighted_max\", \"run_name\": \"MinMaxScaler, ExtremeRandomTrees\", \"run_properties\": \"copy=True, feature_range=(0, 1\", \"primary_metric\": 0.99317078, \"best_metric\": 0.99934055}, {\"run_id\": \"AutoML_1dd22a48-91f4-415b-8bd9-1a986ec1d9c8_6\", \"run_number\": 10, \"metric\": null, \"status\": \"Completed\", \"run_type\": \"azureml.scriptrun\", \"training_percent\": \"100\", \"start_time\": \"2021-01-07T00:35:41.803333Z\", \"end_time\": \"2021-01-07T00:38:24.617635Z\", \"created_time\": \"2021-01-07T00:31:48.19067Z\", \"created_time_dt\": \"2021-01-07T00:31:48.19067Z\", \"duration\": \"0:06:36\", \"iteration\": \"6\", \"goal\": \"AUC_weighted_max\", \"run_name\": \"StandardScalerWrapper, RandomForest\", \"run_properties\": \"<azureml.automl.runtime.shared.model_wrappers.StandardScalerWrapper object at 0x7fc784ddc080\", \"primary_metric\": 0.99374623, \"best_metric\": 0.99934055}, {\"run_id\": \"AutoML_1dd22a48-91f4-415b-8bd9-1a986ec1d9c8_4\", \"run_number\": 11, \"metric\": null, \"status\": \"Completed\", \"run_type\": \"azureml.scriptrun\", \"training_percent\": \"100\", \"start_time\": \"2021-01-07T00:35:40.453785Z\", \"end_time\": \"2021-01-07T00:38:47.070678Z\", \"created_time\": \"2021-01-07T00:31:48.309645Z\", \"created_time_dt\": \"2021-01-07T00:31:48.309645Z\", \"duration\": \"0:06:58\", \"iteration\": \"4\", \"goal\": \"AUC_weighted_max\", \"run_name\": \"MinMaxScaler, RandomForest\", \"run_properties\": \"copy=True, feature_range=(0, 1\", \"primary_metric\": 0.99568047, \"best_metric\": 0.99934055}, {\"run_id\": \"AutoML_1dd22a48-91f4-415b-8bd9-1a986ec1d9c8_3\", \"run_number\": 12, \"metric\": null, \"status\": \"Completed\", \"run_type\": \"azureml.scriptrun\", \"training_percent\": \"100\", \"start_time\": \"2021-01-07T00:35:41.416311Z\", \"end_time\": \"2021-01-07T00:38:08.546578Z\", \"created_time\": \"2021-01-07T00:31:48.310446Z\", \"created_time_dt\": \"2021-01-07T00:31:48.310446Z\", \"duration\": \"0:06:20\", \"iteration\": \"3\", \"goal\": \"AUC_weighted_max\", \"run_name\": \"RobustScaler, ExtremeRandomTrees\", \"run_properties\": \"copy=True, quantile_range=[10, 90], with_centering=False,\\n             with_scaling=False\", \"primary_metric\": 0.99334102, \"best_metric\": 0.99934055}, {\"run_id\": \"AutoML_1dd22a48-91f4-415b-8bd9-1a986ec1d9c8_7\", \"run_number\": 13, \"metric\": null, \"status\": \"Completed\", \"run_type\": \"azureml.scriptrun\", \"training_percent\": \"100\", \"start_time\": \"2021-01-07T00:35:43.713388Z\", \"end_time\": \"2021-01-07T00:38:19.186363Z\", \"created_time\": \"2021-01-07T00:31:48.398271Z\", \"created_time_dt\": \"2021-01-07T00:31:48.398271Z\", \"duration\": \"0:06:30\", \"iteration\": \"7\", \"goal\": \"AUC_weighted_max\", \"run_name\": \"MinMaxScaler, ExtremeRandomTrees\", \"run_properties\": \"copy=True, feature_range=(0, 1\", \"primary_metric\": 0.970632, \"best_metric\": 0.99934055}, {\"run_id\": \"AutoML_1dd22a48-91f4-415b-8bd9-1a986ec1d9c8_0\", \"run_number\": 14, \"metric\": null, \"status\": \"Completed\", \"run_type\": \"azureml.scriptrun\", \"training_percent\": \"100\", \"start_time\": \"2021-01-07T00:33:10.322012Z\", \"end_time\": \"2021-01-07T00:34:31.325301Z\", \"created_time\": \"2021-01-07T00:31:47.985638Z\", \"created_time_dt\": \"2021-01-07T00:31:47.985638Z\", \"duration\": \"0:02:43\", \"iteration\": \"0\", \"goal\": \"AUC_weighted_max\", \"run_name\": \"MaxAbsScaler, LightGBM\", \"run_properties\": \"copy=True\", \"primary_metric\": 0.99934055, \"best_metric\": 0.99934055}, {\"run_id\": \"AutoML_1dd22a48-91f4-415b-8bd9-1a986ec1d9c8_10\", \"run_number\": 15, \"metric\": null, \"status\": \"Completed\", \"run_type\": \"azureml.scriptrun\", \"training_percent\": \"100\", \"start_time\": \"2021-01-07T00:38:23.279882Z\", \"end_time\": \"2021-01-07T00:39:21.64321Z\", \"created_time\": \"2021-01-07T00:33:08.012853Z\", \"created_time_dt\": \"2021-01-07T00:33:08.012853Z\", \"duration\": \"0:06:13\", \"iteration\": \"10\", \"goal\": \"AUC_weighted_max\", \"run_name\": \"MinMaxScaler, ExtremeRandomTrees\", \"run_properties\": \"copy=True, feature_range=(0, 1\", \"primary_metric\": 0.98844045, \"best_metric\": 0.99934055}, {\"run_id\": \"AutoML_1dd22a48-91f4-415b-8bd9-1a986ec1d9c8_11\", \"run_number\": 16, \"metric\": null, \"status\": \"Completed\", \"run_type\": \"azureml.scriptrun\", \"training_percent\": \"100\", \"start_time\": \"2021-01-07T00:38:23.495291Z\", \"end_time\": \"2021-01-07T00:39:22.887989Z\", \"created_time\": \"2021-01-07T00:34:34.750757Z\", \"created_time_dt\": \"2021-01-07T00:34:34.750757Z\", \"duration\": \"0:04:48\", \"iteration\": \"11\", \"goal\": \"AUC_weighted_max\", \"run_name\": \"RobustScaler, ExtremeRandomTrees\", \"run_properties\": \"copy=True, quantile_range=[10, 90], with_centering=True,\\n             with_scaling=False\", \"primary_metric\": 0.97557843, \"best_metric\": 0.99934055}, {\"run_id\": \"AutoML_1dd22a48-91f4-415b-8bd9-1a986ec1d9c8_12\", \"run_number\": 17, \"metric\": null, \"status\": \"Completed\", \"run_type\": \"azureml.scriptrun\", \"training_percent\": \"100\", \"start_time\": \"2021-01-07T00:38:23.89628Z\", \"end_time\": \"2021-01-07T00:39:23.34638Z\", \"created_time\": \"2021-01-07T00:36:40.108155Z\", \"created_time_dt\": \"2021-01-07T00:36:40.108155Z\", \"duration\": \"0:02:43\", \"iteration\": \"12\", \"goal\": \"AUC_weighted_max\", \"run_name\": \"StandardScalerWrapper, RandomForest\", \"run_properties\": \"<azureml.automl.runtime.shared.model_wrappers.StandardScalerWrapper object at 0x7fc456024080\", \"primary_metric\": 0.98018716, \"best_metric\": 0.99934055}, {\"run_id\": \"AutoML_1dd22a48-91f4-415b-8bd9-1a986ec1d9c8_13\", \"run_number\": 18, \"metric\": null, \"status\": \"Completed\", \"run_type\": \"azureml.scriptrun\", \"training_percent\": \"100\", \"start_time\": \"2021-01-07T00:38:49.187276Z\", \"end_time\": \"2021-01-07T00:40:00.369099Z\", \"created_time\": \"2021-01-07T00:37:15.228388Z\", \"created_time_dt\": \"2021-01-07T00:37:15.228388Z\", \"duration\": \"0:02:45\", \"iteration\": \"13\", \"goal\": \"AUC_weighted_max\", \"run_name\": \"StandardScalerWrapper, SGD\", \"run_properties\": \"<azureml.automl.runtime.shared.model_wrappers.StandardScalerWrapper object at 0x7f5ed1e04668\", \"primary_metric\": 0.99686845, \"best_metric\": 0.99934055}, {\"run_id\": \"AutoML_1dd22a48-91f4-415b-8bd9-1a986ec1d9c8_14\", \"run_number\": 19, \"metric\": null, \"status\": \"Completed\", \"run_type\": \"azureml.scriptrun\", \"training_percent\": \"100\", \"start_time\": \"2021-01-07T00:39:23.373472Z\", \"end_time\": \"2021-01-07T00:40:36.913133Z\", \"created_time\": \"2021-01-07T00:38:12.477141Z\", \"created_time_dt\": \"2021-01-07T00:38:12.477141Z\", \"duration\": \"0:02:24\", \"iteration\": \"14\", \"goal\": \"AUC_weighted_max\", \"run_name\": \"RobustScaler, RandomForest\", \"run_properties\": \"copy=True, quantile_range=[10, 90], with_centering=True,\\n             with_scaling=False\", \"primary_metric\": 0.97695984, \"best_metric\": 0.99934055}, {\"run_id\": \"AutoML_1dd22a48-91f4-415b-8bd9-1a986ec1d9c8_15\", \"run_number\": 20, \"metric\": null, \"status\": \"Completed\", \"run_type\": \"azureml.scriptrun\", \"training_percent\": \"100\", \"start_time\": \"2021-01-07T00:39:22.812544Z\", \"end_time\": \"2021-01-07T00:40:27.343426Z\", \"created_time\": \"2021-01-07T00:38:22.282562Z\", \"created_time_dt\": \"2021-01-07T00:38:22.282562Z\", \"duration\": \"0:02:05\", \"iteration\": \"15\", \"goal\": \"AUC_weighted_max\", \"run_name\": \"StandardScalerWrapper, KNN\", \"run_properties\": \"<azureml.automl.runtime.shared.model_wrappers.StandardScalerWrapper object at 0x7ff64001be10\", \"primary_metric\": 0.99785296, \"best_metric\": 0.99934055}, {\"run_id\": \"AutoML_1dd22a48-91f4-415b-8bd9-1a986ec1d9c8_16\", \"run_number\": 21, \"metric\": null, \"status\": \"Completed\", \"run_type\": \"azureml.scriptrun\", \"training_percent\": \"100\", \"start_time\": \"2021-01-07T00:39:25.330178Z\", \"end_time\": \"2021-01-07T00:40:25.027351Z\", \"created_time\": \"2021-01-07T00:38:28.03458Z\", \"created_time_dt\": \"2021-01-07T00:38:28.03458Z\", \"duration\": \"0:01:56\", \"iteration\": \"16\", \"goal\": \"AUC_weighted_max\", \"run_name\": \"MinMaxScaler, RandomForest\", \"run_properties\": \"copy=True, feature_range=(0, 1\", \"primary_metric\": 0.98513415, \"best_metric\": 0.99934055}, {\"run_id\": \"AutoML_1dd22a48-91f4-415b-8bd9-1a986ec1d9c8_17\", \"run_number\": 22, \"metric\": null, \"status\": \"Completed\", \"run_type\": \"azureml.scriptrun\", \"training_percent\": \"100\", \"start_time\": \"2021-01-07T00:39:26.1093Z\", \"end_time\": \"2021-01-07T00:40:36.118966Z\", \"created_time\": \"2021-01-07T00:38:33.592342Z\", \"created_time_dt\": \"2021-01-07T00:38:33.592342Z\", \"duration\": \"0:02:02\", \"iteration\": \"17\", \"goal\": \"AUC_weighted_max\", \"run_name\": \"MinMaxScaler, ExtremeRandomTrees\", \"run_properties\": \"copy=True, feature_range=(0, 1\", \"primary_metric\": 0.98814089, \"best_metric\": 0.99934055}, {\"run_id\": \"AutoML_1dd22a48-91f4-415b-8bd9-1a986ec1d9c8_18\", \"run_number\": 23, \"metric\": null, \"status\": \"Completed\", \"run_type\": \"azureml.scriptrun\", \"training_percent\": \"100\", \"start_time\": \"2021-01-07T00:40:06.313961Z\", \"end_time\": \"2021-01-07T00:41:13.005127Z\", \"created_time\": \"2021-01-07T00:38:51.119914Z\", \"created_time_dt\": \"2021-01-07T00:38:51.119914Z\", \"duration\": \"0:02:21\", \"iteration\": \"18\", \"goal\": \"AUC_weighted_max\", \"run_name\": \"MaxAbsScaler, RandomForest\", \"run_properties\": \"copy=True\", \"primary_metric\": 0.98968734, \"best_metric\": 0.99934055}, {\"run_id\": \"AutoML_1dd22a48-91f4-415b-8bd9-1a986ec1d9c8_19\", \"run_number\": 24, \"metric\": null, \"status\": \"Completed\", \"run_type\": \"azureml.scriptrun\", \"training_percent\": \"100\", \"start_time\": \"2021-01-07T00:40:32.013634Z\", \"end_time\": \"2021-01-07T00:41:30.276871Z\", \"created_time\": \"2021-01-07T00:39:27.653877Z\", \"created_time_dt\": \"2021-01-07T00:39:27.653877Z\", \"duration\": \"0:02:02\", \"iteration\": \"19\", \"goal\": \"AUC_weighted_max\", \"run_name\": \"StandardScalerWrapper, XGBoostClassifier\", \"run_properties\": \"<azureml.automl.runtime.shared.model_wrappers.StandardScalerWrapper object at 0x7fd170403eb8\", \"primary_metric\": 0.99596261, \"best_metric\": 0.99934055}, {\"run_id\": \"AutoML_1dd22a48-91f4-415b-8bd9-1a986ec1d9c8_20\", \"run_number\": 25, \"metric\": null, \"status\": \"Completed\", \"run_type\": \"azureml.scriptrun\", \"training_percent\": \"100\", \"start_time\": \"2021-01-07T00:40:38.478922Z\", \"end_time\": \"2021-01-07T00:41:34.392623Z\", \"created_time\": \"2021-01-07T00:39:33.840193Z\", \"created_time_dt\": \"2021-01-07T00:39:33.840193Z\", \"duration\": \"0:02:00\", \"iteration\": \"20\", \"goal\": \"AUC_weighted_max\", \"run_name\": \"MaxAbsScaler, RandomForest\", \"run_properties\": \"copy=True\", \"primary_metric\": 0.99167872, \"best_metric\": 0.99934055}, {\"run_id\": \"AutoML_1dd22a48-91f4-415b-8bd9-1a986ec1d9c8_21\", \"run_number\": 26, \"metric\": null, \"status\": \"Completed\", \"run_type\": \"azureml.scriptrun\", \"training_percent\": \"100\", \"start_time\": \"2021-01-07T00:40:42.352416Z\", \"end_time\": \"2021-01-07T00:41:55.933256Z\", \"created_time\": \"2021-01-07T00:39:33.929269Z\", \"created_time_dt\": \"2021-01-07T00:39:33.929269Z\", \"duration\": \"0:02:22\", \"iteration\": \"21\", \"goal\": \"AUC_weighted_max\", \"run_name\": \"MaxAbsScaler, ExtremeRandomTrees\", \"run_properties\": \"copy=True\", \"primary_metric\": 0.97196799, \"best_metric\": 0.99934055}, {\"run_id\": \"AutoML_1dd22a48-91f4-415b-8bd9-1a986ec1d9c8_22\", \"run_number\": 27, \"metric\": null, \"status\": \"Completed\", \"run_type\": \"azureml.scriptrun\", \"training_percent\": \"100\", \"start_time\": \"2021-01-07T00:40:31.099989Z\", \"end_time\": \"2021-01-07T00:41:42.446215Z\", \"created_time\": \"2021-01-07T00:39:33.937903Z\", \"created_time_dt\": \"2021-01-07T00:39:33.937903Z\", \"duration\": \"0:02:08\", \"iteration\": \"22\", \"goal\": \"AUC_weighted_max\", \"run_name\": \"MaxAbsScaler, ExtremeRandomTrees\", \"run_properties\": \"copy=True\", \"primary_metric\": 0.99537833, \"best_metric\": 0.99934055}, {\"run_id\": \"AutoML_1dd22a48-91f4-415b-8bd9-1a986ec1d9c8_23\", \"run_number\": 28, \"metric\": null, \"status\": \"Completed\", \"run_type\": \"azureml.scriptrun\", \"training_percent\": \"100\", \"start_time\": \"2021-01-07T00:41:14.347859Z\", \"end_time\": \"2021-01-07T00:42:15.45361Z\", \"created_time\": \"2021-01-07T00:40:04.38017Z\", \"created_time_dt\": \"2021-01-07T00:40:04.38017Z\", \"duration\": \"0:02:11\", \"iteration\": \"23\", \"goal\": \"AUC_weighted_max\", \"run_name\": \"MaxAbsScaler, LightGBM\", \"run_properties\": \"copy=True\", \"primary_metric\": 0.998002, \"best_metric\": 0.99934055}, {\"run_id\": \"AutoML_1dd22a48-91f4-415b-8bd9-1a986ec1d9c8_24\", \"run_number\": 29, \"metric\": null, \"status\": \"Completed\", \"run_type\": \"azureml.scriptrun\", \"training_percent\": \"100\", \"start_time\": \"2021-01-07T00:41:31.492791Z\", \"end_time\": \"2021-01-07T00:42:37.966908Z\", \"created_time\": \"2021-01-07T00:40:28.688429Z\", \"created_time_dt\": \"2021-01-07T00:40:28.688429Z\", \"duration\": \"0:02:09\", \"iteration\": \"24\", \"goal\": \"AUC_weighted_max\", \"run_name\": \"StandardScalerWrapper, SVM\", \"run_properties\": \"<azureml.automl.runtime.shared.model_wrappers.StandardScalerWrapper object at 0x7f9e6d134f98\", \"primary_metric\": 0.99956539, \"best_metric\": 0.99956539}, {\"run_id\": \"AutoML_1dd22a48-91f4-415b-8bd9-1a986ec1d9c8_25\", \"run_number\": 30, \"metric\": null, \"status\": \"Completed\", \"run_type\": \"azureml.scriptrun\", \"training_percent\": \"100\", \"start_time\": \"2021-01-07T00:41:35.622116Z\", \"end_time\": \"2021-01-07T00:42:27.869945Z\", \"created_time\": \"2021-01-07T00:40:35.762316Z\", \"created_time_dt\": \"2021-01-07T00:40:35.762316Z\", \"duration\": \"0:01:52\", \"iteration\": \"25\", \"goal\": \"AUC_weighted_max\", \"run_name\": \"SparseNormalizer, LightGBM\", \"run_properties\": \"<azureml.automl.runtime.shared.model_wrappers.SparseNormalizer object at 0x7f6fd0b02780\", \"primary_metric\": 0.985802, \"best_metric\": 0.99956539}, {\"run_id\": \"AutoML_1dd22a48-91f4-415b-8bd9-1a986ec1d9c8_26\", \"run_number\": 31, \"metric\": null, \"status\": \"Completed\", \"run_type\": \"azureml.scriptrun\", \"training_percent\": \"100\", \"start_time\": \"2021-01-07T00:41:55.533355Z\", \"end_time\": \"2021-01-07T00:43:10.097236Z\", \"created_time\": \"2021-01-07T00:40:42.774964Z\", \"created_time_dt\": \"2021-01-07T00:40:42.774964Z\", \"duration\": \"0:02:27\", \"iteration\": \"26\", \"goal\": \"AUC_weighted_max\", \"run_name\": \"StandardScalerWrapper, SVM\", \"run_properties\": \"<azureml.automl.runtime.shared.model_wrappers.StandardScalerWrapper object at 0x7f45251aa240\", \"primary_metric\": 0.99953649, \"best_metric\": 0.99956539}, {\"run_id\": \"AutoML_1dd22a48-91f4-415b-8bd9-1a986ec1d9c8_27\", \"run_number\": 32, \"metric\": null, \"status\": \"Completed\", \"run_type\": \"azureml.scriptrun\", \"training_percent\": \"100\", \"start_time\": \"2021-01-07T00:41:46.380359Z\", \"end_time\": \"2021-01-07T00:43:01.407274Z\", \"created_time\": \"2021-01-07T00:40:42.783327Z\", \"created_time_dt\": \"2021-01-07T00:40:42.783327Z\", \"duration\": \"0:02:18\", \"iteration\": \"27\", \"goal\": \"AUC_weighted_max\", \"run_name\": \"MinMaxScaler, SVM\", \"run_properties\": \"copy=True, feature_range=(0, 1\", \"primary_metric\": 0.99992096, \"best_metric\": 0.99992096}, {\"run_id\": \"AutoML_1dd22a48-91f4-415b-8bd9-1a986ec1d9c8_28\", \"run_number\": 33, \"metric\": null, \"status\": \"Completed\", \"run_type\": \"azureml.scriptrun\", \"training_percent\": \"100\", \"start_time\": \"2021-01-07T00:42:17.988853Z\", \"end_time\": \"2021-01-07T00:43:20.508112Z\", \"created_time\": \"2021-01-07T00:41:15.748341Z\", \"created_time_dt\": \"2021-01-07T00:41:15.748341Z\", \"duration\": \"0:02:04\", \"iteration\": \"28\", \"goal\": \"AUC_weighted_max\", \"run_name\": \"StandardScalerWrapper, SVM\", \"run_properties\": \"<azureml.automl.runtime.shared.model_wrappers.StandardScalerWrapper object at 0x7f4fd5112be0\", \"primary_metric\": 0.99954805, \"best_metric\": 0.99992096}, {\"run_id\": \"AutoML_1dd22a48-91f4-415b-8bd9-1a986ec1d9c8_29\", \"run_number\": 34, \"metric\": null, \"status\": \"Completed\", \"run_type\": \"azureml.scriptrun\", \"training_percent\": \"100\", \"start_time\": \"2021-01-07T00:42:32.745896Z\", \"end_time\": \"2021-01-07T00:43:37.403814Z\", \"created_time\": \"2021-01-07T00:41:32.775179Z\", \"created_time_dt\": \"2021-01-07T00:41:32.775179Z\", \"duration\": \"0:02:04\", \"iteration\": \"29\", \"goal\": \"AUC_weighted_max\", \"run_name\": \"MaxAbsScaler, SVM\", \"run_properties\": \"copy=True\", \"primary_metric\": 0.999919, \"best_metric\": 0.99992096}, {\"run_id\": \"AutoML_1dd22a48-91f4-415b-8bd9-1a986ec1d9c8_30\", \"run_number\": 35, \"metric\": null, \"status\": \"Completed\", \"run_type\": \"azureml.scriptrun\", \"training_percent\": \"100\", \"start_time\": \"2021-01-07T00:42:40.459532Z\", \"end_time\": \"2021-01-07T00:44:02.48417Z\", \"created_time\": \"2021-01-07T00:41:38.535741Z\", \"created_time_dt\": \"2021-01-07T00:41:38.535741Z\", \"duration\": \"0:02:23\", \"iteration\": \"30\", \"goal\": \"AUC_weighted_max\", \"run_name\": \"SparseNormalizer, LightGBM\", \"run_properties\": \"<azureml.automl.runtime.shared.model_wrappers.SparseNormalizer object at 0x7f5dde580908\", \"primary_metric\": 0.99700205, \"best_metric\": 0.99992096}, {\"run_id\": \"AutoML_1dd22a48-91f4-415b-8bd9-1a986ec1d9c8_31\", \"run_number\": 36, \"metric\": null, \"status\": \"Completed\", \"run_type\": \"azureml.scriptrun\", \"training_percent\": \"100\", \"start_time\": \"2021-01-07T00:43:03.963649Z\", \"end_time\": \"2021-01-07T00:44:15.703692Z\", \"created_time\": \"2021-01-07T00:41:44.305752Z\", \"created_time_dt\": \"2021-01-07T00:41:44.305752Z\", \"duration\": \"0:02:31\", \"iteration\": \"31\", \"goal\": \"AUC_weighted_max\", \"run_name\": \"SparseNormalizer, LightGBM\", \"run_properties\": \"<azureml.automl.runtime.shared.model_wrappers.SparseNormalizer object at 0x7fb426dfab38\", \"primary_metric\": 0.99825572, \"best_metric\": 0.99992096}, {\"run_id\": \"AutoML_1dd22a48-91f4-415b-8bd9-1a986ec1d9c8_32\", \"run_number\": 37, \"metric\": null, \"status\": \"Completed\", \"run_type\": \"azureml.scriptrun\", \"training_percent\": \"100\", \"start_time\": \"2021-01-07T00:43:13.34747Z\", \"end_time\": \"2021-01-07T00:44:07.175697Z\", \"created_time\": \"2021-01-07T00:41:57.795661Z\", \"created_time_dt\": \"2021-01-07T00:41:57.795661Z\", \"duration\": \"0:02:09\", \"iteration\": \"32\", \"goal\": \"AUC_weighted_max\", \"run_name\": \"MaxAbsScaler, KNN\", \"run_properties\": \"copy=True\", \"primary_metric\": 0.99877452, \"best_metric\": 0.99992096}, {\"run_id\": \"AutoML_1dd22a48-91f4-415b-8bd9-1a986ec1d9c8_33\", \"run_number\": 38, \"metric\": null, \"status\": \"Completed\", \"run_type\": \"azureml.scriptrun\", \"training_percent\": \"100\", \"start_time\": \"2021-01-07T00:43:20.476204Z\", \"end_time\": \"2021-01-07T00:44:14.287275Z\", \"created_time\": \"2021-01-07T00:42:17.325455Z\", \"created_time_dt\": \"2021-01-07T00:42:17.325455Z\", \"duration\": \"0:01:56\", \"iteration\": \"33\", \"goal\": \"AUC_weighted_max\", \"run_name\": \"StandardScalerWrapper, KNN\", \"run_properties\": \"<azureml.automl.runtime.shared.model_wrappers.StandardScalerWrapper object at 0x7fa7b1af3cc0\", \"primary_metric\": 0.99682637, \"best_metric\": 0.99992096}, {\"run_id\": \"AutoML_1dd22a48-91f4-415b-8bd9-1a986ec1d9c8_34\", \"run_number\": 39, \"metric\": null, \"status\": \"Completed\", \"run_type\": \"azureml.scriptrun\", \"training_percent\": \"100\", \"start_time\": \"2021-01-07T00:43:41.745136Z\", \"end_time\": \"2021-01-07T00:44:34.245212Z\", \"created_time\": \"2021-01-07T00:42:29.588082Z\", \"created_time_dt\": \"2021-01-07T00:42:29.588082Z\", \"duration\": \"0:02:04\", \"iteration\": \"34\", \"goal\": \"AUC_weighted_max\", \"run_name\": \"RobustScaler, KNN\", \"run_properties\": \"copy=True, quantile_range=[10, 90], with_centering=True,\\n             with_scaling=False\", \"primary_metric\": 0.99585482, \"best_metric\": 0.99992096}, {\"run_id\": \"AutoML_1dd22a48-91f4-415b-8bd9-1a986ec1d9c8_35\", \"run_number\": 40, \"metric\": null, \"status\": \"Completed\", \"run_type\": \"azureml.scriptrun\", \"training_percent\": \"100\", \"start_time\": \"2021-01-07T00:44:06.054901Z\", \"end_time\": \"2021-01-07T00:45:28.175593Z\", \"created_time\": \"2021-01-07T00:42:40.959396Z\", \"created_time_dt\": \"2021-01-07T00:42:40.959396Z\", \"duration\": \"0:02:47\", \"iteration\": \"35\", \"goal\": \"AUC_weighted_max\", \"run_name\": \"MaxAbsScaler, SVM\", \"run_properties\": \"copy=True\", \"primary_metric\": 0.01999535, \"best_metric\": 0.99992096}, {\"run_id\": \"AutoML_1dd22a48-91f4-415b-8bd9-1a986ec1d9c8_36\", \"run_number\": 41, \"metric\": null, \"status\": \"Completed\", \"run_type\": \"azureml.scriptrun\", \"training_percent\": \"100\", \"start_time\": \"2021-01-07T00:44:09.612746Z\", \"end_time\": \"2021-01-07T00:45:12.670994Z\", \"created_time\": \"2021-01-07T00:43:03.643743Z\", \"created_time_dt\": \"2021-01-07T00:43:03.643743Z\", \"duration\": \"0:02:09\", \"iteration\": \"36\", \"goal\": \"AUC_weighted_max\", \"run_name\": \"RobustScaler, SVM\", \"run_properties\": \"copy=True, quantile_range=[10, 90], with_centering=False,\\n             with_scaling=True\", \"primary_metric\": 0.9995155, \"best_metric\": 0.99992096}, {\"run_id\": \"AutoML_1dd22a48-91f4-415b-8bd9-1a986ec1d9c8_37\", \"run_number\": 42, \"metric\": null, \"status\": \"Completed\", \"run_type\": \"azureml.scriptrun\", \"training_percent\": \"100\", \"start_time\": \"2021-01-07T00:44:14.659727Z\", \"end_time\": \"2021-01-07T00:45:16.706511Z\", \"created_time\": \"2021-01-07T00:43:11.704152Z\", \"created_time_dt\": \"2021-01-07T00:43:11.704152Z\", \"duration\": \"0:02:05\", \"iteration\": \"37\", \"goal\": \"AUC_weighted_max\", \"run_name\": \"RobustScaler, SVM\", \"run_properties\": \"copy=True, quantile_range=[25, 75], with_centering=True,\\n             with_scaling=True\", \"primary_metric\": 0.99944808, \"best_metric\": 0.99992096}, {\"run_id\": \"AutoML_1dd22a48-91f4-415b-8bd9-1a986ec1d9c8_38\", \"run_number\": 43, \"metric\": null, \"status\": \"Completed\", \"run_type\": \"azureml.scriptrun\", \"training_percent\": \"100\", \"start_time\": \"2021-01-07T00:44:20.143153Z\", \"end_time\": \"2021-01-07T00:45:24.564648Z\", \"created_time\": \"2021-01-07T00:43:22.719719Z\", \"created_time_dt\": \"2021-01-07T00:43:22.719719Z\", \"duration\": \"0:02:01\", \"iteration\": \"38\", \"goal\": \"AUC_weighted_max\", \"run_name\": \"TruncatedSVDWrapper, XGBoostClassifier\", \"run_properties\": \"n_components=0.6036842105263158, random_state=None\", \"primary_metric\": 0.99826506, \"best_metric\": 0.99992096}, {\"run_id\": \"AutoML_1dd22a48-91f4-415b-8bd9-1a986ec1d9c8_39\", \"run_number\": 44, \"metric\": null, \"status\": \"Completed\", \"run_type\": \"azureml.scriptrun\", \"training_percent\": \"100\", \"start_time\": \"2021-01-07T00:44:36.525471Z\", \"end_time\": \"2021-01-07T00:46:01.755562Z\", \"created_time\": \"2021-01-07T00:43:39.248057Z\", \"created_time_dt\": \"2021-01-07T00:43:39.248057Z\", \"duration\": \"0:02:22\", \"iteration\": \"39\", \"goal\": \"AUC_weighted_max\", \"run_name\": \"TruncatedSVDWrapper, XGBoostClassifier\", \"run_properties\": \"n_components=0.9005263157894737, random_state=None\", \"primary_metric\": 0.99486306, \"best_metric\": 0.99992096}, {\"run_id\": \"AutoML_1dd22a48-91f4-415b-8bd9-1a986ec1d9c8_40\", \"run_number\": 45, \"metric\": null, \"status\": \"Completed\", \"run_type\": \"azureml.scriptrun\", \"training_percent\": \"100\", \"start_time\": \"2021-01-07T00:45:12.447773Z\", \"end_time\": \"2021-01-07T00:46:28.852502Z\", \"created_time\": \"2021-01-07T00:44:05.351622Z\", \"created_time_dt\": \"2021-01-07T00:44:05.351622Z\", \"duration\": \"0:02:23\", \"iteration\": \"40\", \"goal\": \"AUC_weighted_max\", \"run_name\": \"PCA, SVM\", \"run_properties\": \"copy=True, iterated_power='auto', n_components=0.3068421052631579,\\n    random_state=None, svd_solver='auto', tol=0.0, whiten=True\", \"primary_metric\": 0.55861978, \"best_metric\": 0.99992096}, {\"run_id\": \"AutoML_1dd22a48-91f4-415b-8bd9-1a986ec1d9c8_41\", \"run_number\": 46, \"metric\": null, \"status\": \"Completed\", \"run_type\": \"azureml.scriptrun\", \"training_percent\": \"100\", \"start_time\": \"2021-01-07T00:45:22.177801Z\", \"end_time\": \"2021-01-07T00:46:40.144912Z\", \"created_time\": \"2021-01-07T00:44:09.791987Z\", \"created_time_dt\": \"2021-01-07T00:44:09.791987Z\", \"duration\": \"0:02:30\", \"iteration\": \"41\", \"goal\": \"AUC_weighted_max\", \"run_name\": \"RobustScaler, SVM\", \"run_properties\": \"copy=True, quantile_range=[10, 90], with_centering=True,\\n             with_scaling=True\", \"primary_metric\": 0.99949228, \"best_metric\": 0.99992096}, {\"run_id\": \"AutoML_1dd22a48-91f4-415b-8bd9-1a986ec1d9c8_42\", \"run_number\": 47, \"metric\": null, \"status\": \"Completed\", \"run_type\": \"azureml.scriptrun\", \"training_percent\": \"100\", \"start_time\": \"2021-01-07T00:45:29.936606Z\", \"end_time\": \"2021-01-07T00:46:28.362605Z\", \"created_time\": \"2021-01-07T00:44:16.411672Z\", \"created_time_dt\": \"2021-01-07T00:44:16.411672Z\", \"duration\": \"0:02:11\", \"iteration\": \"42\", \"goal\": \"AUC_weighted_max\", \"run_name\": \"RobustScaler, SVM\", \"run_properties\": \"copy=True, quantile_range=[10, 90], with_centering=False,\\n             with_scaling=True\", \"primary_metric\": 0.99950002, \"best_metric\": 0.99992096}, {\"run_id\": \"AutoML_1dd22a48-91f4-415b-8bd9-1a986ec1d9c8_43\", \"run_number\": 48, \"metric\": null, \"status\": \"Completed\", \"run_type\": \"azureml.scriptrun\", \"training_percent\": \"100\", \"start_time\": \"2021-01-07T00:45:28.84512Z\", \"end_time\": \"2021-01-07T00:46:37.191993Z\", \"created_time\": \"2021-01-07T00:44:19.872623Z\", \"created_time_dt\": \"2021-01-07T00:44:19.872623Z\", \"duration\": \"0:02:17\", \"iteration\": \"43\", \"goal\": \"AUC_weighted_max\", \"run_name\": \"MaxAbsScaler, SVM\", \"run_properties\": \"copy=True\", \"primary_metric\": 0.99992292, \"best_metric\": 0.99992292}, {\"run_id\": \"AutoML_1dd22a48-91f4-415b-8bd9-1a986ec1d9c8_44\", \"run_number\": 49, \"metric\": null, \"status\": \"Completed\", \"run_type\": \"azureml.scriptrun\", \"training_percent\": \"100\", \"start_time\": \"2021-01-07T00:46:10.288799Z\", \"end_time\": \"2021-01-07T00:47:08.770568Z\", \"created_time\": \"2021-01-07T00:44:36.03125Z\", \"created_time_dt\": \"2021-01-07T00:44:36.03125Z\", \"duration\": \"0:02:32\", \"iteration\": \"44\", \"goal\": \"AUC_weighted_max\", \"run_name\": \"MaxAbsScaler, SVM\", \"run_properties\": \"copy=True\", \"primary_metric\": 0.99992864, \"best_metric\": 0.99992864}, {\"run_id\": \"AutoML_1dd22a48-91f4-415b-8bd9-1a986ec1d9c8_45\", \"run_number\": 50, \"metric\": null, \"status\": \"Completed\", \"run_type\": \"azureml.scriptrun\", \"training_percent\": \"100\", \"start_time\": \"2021-01-07T00:46:28.109624Z\", \"end_time\": \"2021-01-07T00:47:54.065817Z\", \"created_time\": \"2021-01-07T00:45:15.48617Z\", \"created_time_dt\": \"2021-01-07T00:45:15.48617Z\", \"duration\": \"0:02:38\", \"iteration\": \"45\", \"goal\": \"AUC_weighted_max\", \"run_name\": \"StandardScalerWrapper, SVM\", \"run_properties\": \"<azureml.automl.runtime.shared.model_wrappers.StandardScalerWrapper object at 0x7f07180d8e10\", \"primary_metric\": 0.99979541, \"best_metric\": 0.99992864}, {\"run_id\": \"AutoML_1dd22a48-91f4-415b-8bd9-1a986ec1d9c8_46\", \"run_number\": 51, \"metric\": null, \"status\": \"Completed\", \"run_type\": \"azureml.scriptrun\", \"training_percent\": \"100\", \"start_time\": \"2021-01-07T00:46:28.389132Z\", \"end_time\": \"2021-01-07T00:48:15.020948Z\", \"created_time\": \"2021-01-07T00:45:20.787974Z\", \"created_time_dt\": \"2021-01-07T00:45:20.787974Z\", \"duration\": \"0:02:54\", \"iteration\": \"46\", \"goal\": \"AUC_weighted_max\", \"run_name\": \"TruncatedSVDWrapper, XGBoostClassifier\", \"run_properties\": \"n_components=0.95, random_state=None\", \"primary_metric\": 0.99915887, \"best_metric\": 0.99992864}, {\"run_id\": \"AutoML_1dd22a48-91f4-415b-8bd9-1a986ec1d9c8_47\", \"run_number\": 52, \"metric\": null, \"status\": \"Completed\", \"run_type\": \"azureml.scriptrun\", \"training_percent\": \"100\", \"start_time\": \"2021-01-07T00:46:40.863305Z\", \"end_time\": \"2021-01-07T00:47:59.063804Z\", \"created_time\": \"2021-01-07T00:45:26.977859Z\", \"created_time_dt\": \"2021-01-07T00:45:26.977859Z\", \"duration\": \"0:02:32\", \"iteration\": \"47\", \"goal\": \"AUC_weighted_max\", \"run_name\": \"RobustScaler, SVM\", \"run_properties\": \"copy=True, quantile_range=[25, 75], with_centering=False,\\n             with_scaling=True\", \"primary_metric\": 0.99940922, \"best_metric\": 0.99992864}, {\"run_id\": \"AutoML_1dd22a48-91f4-415b-8bd9-1a986ec1d9c8_48\", \"run_number\": 53, \"metric\": null, \"status\": \"Completed\", \"run_type\": \"azureml.scriptrun\", \"training_percent\": \"100\", \"start_time\": \"2021-01-07T00:46:44.650939Z\", \"end_time\": \"2021-01-07T00:48:02.792917Z\", \"created_time\": \"2021-01-07T00:45:30.789859Z\", \"created_time_dt\": \"2021-01-07T00:45:30.789859Z\", \"duration\": \"0:02:32\", \"iteration\": \"48\", \"goal\": \"AUC_weighted_max\", \"run_name\": \"MaxAbsScaler, LogisticRegression\", \"run_properties\": \"copy=True\", \"primary_metric\": 0.99791916, \"best_metric\": 0.99992864}, {\"run_id\": \"AutoML_1dd22a48-91f4-415b-8bd9-1a986ec1d9c8_49\", \"run_number\": 54, \"metric\": null, \"status\": \"Completed\", \"run_type\": \"azureml.scriptrun\", \"training_percent\": \"100\", \"start_time\": \"2021-01-07T00:47:13.469328Z\", \"end_time\": \"2021-01-07T00:48:21.908048Z\", \"created_time\": \"2021-01-07T00:46:03.594041Z\", \"created_time_dt\": \"2021-01-07T00:46:03.594041Z\", \"duration\": \"0:02:18\", \"iteration\": \"49\", \"goal\": \"AUC_weighted_max\", \"run_name\": \"MinMaxScaler, SVM\", \"run_properties\": \"copy=True, feature_range=(0, 1\", \"primary_metric\": 0.99993056, \"best_metric\": 0.99993056}, {\"run_id\": \"AutoML_1dd22a48-91f4-415b-8bd9-1a986ec1d9c8_50\", \"run_number\": 55, \"metric\": null, \"status\": \"Completed\", \"run_type\": \"azureml.scriptrun\", \"training_percent\": \"100\", \"start_time\": \"2021-01-07T00:47:53.202825Z\", \"end_time\": \"2021-01-07T00:48:56.941187Z\", \"created_time\": \"2021-01-07T00:46:31.475525Z\", \"created_time_dt\": \"2021-01-07T00:46:31.475525Z\", \"duration\": \"0:02:25\", \"iteration\": \"50\", \"goal\": \"AUC_weighted_max\", \"run_name\": \"PCA, SVM\", \"run_properties\": \"copy=True, iterated_power='auto', n_components=0.95, random_state=None,\\n    svd_solver='auto', tol=0.0, whiten=True\", \"primary_metric\": 0.56053547, \"best_metric\": 0.99993056}, {\"run_id\": \"AutoML_1dd22a48-91f4-415b-8bd9-1a986ec1d9c8_51\", \"run_number\": 56, \"metric\": null, \"status\": \"Completed\", \"run_type\": \"azureml.scriptrun\", \"training_percent\": \"100\", \"start_time\": \"2021-01-07T00:48:01.299826Z\", \"end_time\": \"2021-01-07T00:50:52.792566Z\", \"created_time\": \"2021-01-07T00:46:31.491683Z\", \"created_time_dt\": \"2021-01-07T00:46:31.491683Z\", \"duration\": \"0:04:21\", \"iteration\": \"51\", \"goal\": \"AUC_weighted_max\", \"run_name\": \"TruncatedSVDWrapper, XGBoostClassifier\", \"run_properties\": \"n_components=0.8015789473684211, random_state=None\", \"primary_metric\": 0.9986805, \"best_metric\": 0.99993056}, {\"run_id\": \"AutoML_1dd22a48-91f4-415b-8bd9-1a986ec1d9c8_52\", \"run_number\": 57, \"metric\": null, \"status\": \"Completed\", \"run_type\": \"azureml.scriptrun\", \"training_percent\": \"100\", \"start_time\": \"2021-01-07T00:48:07.607102Z\", \"end_time\": \"2021-01-07T00:49:08.518341Z\", \"created_time\": \"2021-01-07T00:46:39.034431Z\", \"created_time_dt\": \"2021-01-07T00:46:39.034431Z\", \"duration\": \"0:02:29\", \"iteration\": \"52\", \"goal\": \"AUC_weighted_max\", \"run_name\": \"RobustScaler, SVM\", \"run_properties\": \"copy=True, quantile_range=[25, 75], with_centering=False,\\n             with_scaling=True\", \"primary_metric\": 0.99943793, \"best_metric\": 0.99993056}, {\"run_id\": \"AutoML_1dd22a48-91f4-415b-8bd9-1a986ec1d9c8_53\", \"run_number\": 58, \"metric\": null, \"status\": \"Completed\", \"run_type\": \"azureml.scriptrun\", \"training_percent\": \"100\", \"start_time\": \"2021-01-07T00:48:14.932719Z\", \"end_time\": \"2021-01-07T00:49:22.724168Z\", \"created_time\": \"2021-01-07T00:46:42.457415Z\", \"created_time_dt\": \"2021-01-07T00:46:42.457415Z\", \"duration\": \"0:02:40\", \"iteration\": \"53\", \"goal\": \"AUC_weighted_max\", \"run_name\": \"MaxAbsScaler, SVM\", \"run_properties\": \"copy=True\", \"primary_metric\": 0.99992291, \"best_metric\": 0.99993056}, {\"run_id\": \"AutoML_1dd22a48-91f4-415b-8bd9-1a986ec1d9c8_54\", \"run_number\": 59, \"metric\": null, \"status\": \"Completed\", \"run_type\": \"azureml.scriptrun\", \"training_percent\": \"100\", \"start_time\": \"2021-01-07T00:48:26.654843Z\", \"end_time\": \"2021-01-07T00:49:24.421598Z\", \"created_time\": \"2021-01-07T00:47:10.621019Z\", \"created_time_dt\": \"2021-01-07T00:47:10.621019Z\", \"duration\": \"0:02:13\", \"iteration\": \"54\", \"goal\": \"AUC_weighted_max\", \"run_name\": \"StandardScalerWrapper, SVM\", \"run_properties\": \"<azureml.automl.runtime.shared.model_wrappers.StandardScalerWrapper object at 0x7ff6a428d668\", \"primary_metric\": 0.9995481, \"best_metric\": 0.99993056}, {\"run_id\": \"AutoML_1dd22a48-91f4-415b-8bd9-1a986ec1d9c8_55\", \"run_number\": 60, \"metric\": null, \"status\": \"Completed\", \"run_type\": \"azureml.scriptrun\", \"training_percent\": \"100\", \"start_time\": \"2021-01-07T00:48:57.859767Z\", \"end_time\": \"2021-01-07T00:49:58.92401Z\", \"created_time\": \"2021-01-07T00:47:58.192451Z\", \"created_time_dt\": \"2021-01-07T00:47:58.192451Z\", \"duration\": \"0:02:00\", \"iteration\": \"55\", \"goal\": \"AUC_weighted_max\", \"run_name\": \"MaxAbsScaler, SVM\", \"run_properties\": \"copy=True\", \"primary_metric\": 0.98197949, \"best_metric\": 0.99993056}, {\"run_id\": \"AutoML_1dd22a48-91f4-415b-8bd9-1a986ec1d9c8_56\", \"run_number\": 61, \"metric\": null, \"status\": \"Completed\", \"run_type\": \"azureml.scriptrun\", \"training_percent\": \"100\", \"start_time\": \"2021-01-07T00:49:12.606919Z\", \"end_time\": \"2021-01-07T00:50:35.108268Z\", \"created_time\": \"2021-01-07T00:48:01.574778Z\", \"created_time_dt\": \"2021-01-07T00:48:01.574778Z\", \"duration\": \"0:02:33\", \"iteration\": \"56\", \"goal\": \"AUC_weighted_max\", \"run_name\": \"MaxAbsScaler, LogisticRegression\", \"run_properties\": \"copy=True\", \"primary_metric\": 0.99803247, \"best_metric\": 0.99993056}, {\"run_id\": \"AutoML_1dd22a48-91f4-415b-8bd9-1a986ec1d9c8_57\", \"run_number\": 62, \"metric\": null, \"status\": \"Completed\", \"run_type\": \"azureml.scriptrun\", \"training_percent\": \"100\", \"start_time\": \"2021-01-07T00:49:23.679119Z\", \"end_time\": \"2021-01-07T00:50:22.643689Z\", \"created_time\": \"2021-01-07T00:48:05.022498Z\", \"created_time_dt\": \"2021-01-07T00:48:05.022498Z\", \"duration\": \"0:02:17\", \"iteration\": \"57\", \"goal\": \"AUC_weighted_max\", \"run_name\": \"MaxAbsScaler, LogisticRegression\", \"run_properties\": \"copy=True\", \"primary_metric\": 0.99918778, \"best_metric\": 0.99993056}, {\"run_id\": \"AutoML_1dd22a48-91f4-415b-8bd9-1a986ec1d9c8_58\", \"run_number\": 63, \"metric\": null, \"status\": \"Completed\", \"run_type\": \"azureml.scriptrun\", \"training_percent\": \"100\", \"start_time\": \"2021-01-07T00:49:31.99396Z\", \"end_time\": \"2021-01-07T00:50:34.67898Z\", \"created_time\": \"2021-01-07T00:48:16.746358Z\", \"created_time_dt\": \"2021-01-07T00:48:16.746358Z\", \"duration\": \"0:02:17\", \"iteration\": \"58\", \"goal\": \"AUC_weighted_max\", \"run_name\": \"RobustScaler, SVM\", \"run_properties\": \"copy=True, quantile_range=[10, 90], with_centering=True,\\n             with_scaling=True\", \"primary_metric\": 0.99950002, \"best_metric\": 0.99993056}, {\"run_id\": \"AutoML_1dd22a48-91f4-415b-8bd9-1a986ec1d9c8_59\", \"run_number\": 64, \"metric\": null, \"status\": \"Completed\", \"run_type\": \"azureml.scriptrun\", \"training_percent\": \"100\", \"start_time\": \"2021-01-07T00:50:02.92639Z\", \"end_time\": \"2021-01-07T00:50:59.104376Z\", \"created_time\": \"2021-01-07T00:48:23.684597Z\", \"created_time_dt\": \"2021-01-07T00:48:23.684597Z\", \"duration\": \"0:02:35\", \"iteration\": \"59\", \"goal\": \"AUC_weighted_max\", \"run_name\": \"MinMaxScaler, LogisticRegression\", \"run_properties\": \"copy=True, feature_range=(0, 1\", \"primary_metric\": 0.99915959, \"best_metric\": 0.99993056}, {\"run_id\": \"AutoML_1dd22a48-91f4-415b-8bd9-1a986ec1d9c8_60\", \"run_number\": 65, \"metric\": null, \"status\": \"Completed\", \"run_type\": \"azureml.scriptrun\", \"training_percent\": \"100\", \"start_time\": \"2021-01-07T00:50:26.863719Z\", \"end_time\": \"2021-01-07T00:51:54.040656Z\", \"created_time\": \"2021-01-07T00:48:59.768038Z\", \"created_time_dt\": \"2021-01-07T00:48:59.768038Z\", \"duration\": \"0:02:54\", \"iteration\": \"60\", \"goal\": \"AUC_weighted_max\", \"run_name\": \"SparseNormalizer, SVM\", \"run_properties\": \"<azureml.automl.runtime.shared.model_wrappers.SparseNormalizer object at 0x7faf2e692f28\", \"primary_metric\": 0.98817581, \"best_metric\": 0.99993056}, {\"run_id\": \"AutoML_1dd22a48-91f4-415b-8bd9-1a986ec1d9c8_61\", \"run_number\": 66, \"metric\": null, \"status\": \"Completed\", \"run_type\": \"azureml.scriptrun\", \"training_percent\": \"100\", \"start_time\": \"2021-01-07T00:50:35.618148Z\", \"end_time\": \"2021-01-07T00:51:40.747609Z\", \"created_time\": \"2021-01-07T00:49:10.242882Z\", \"created_time_dt\": \"2021-01-07T00:49:10.242882Z\", \"duration\": \"0:02:30\", \"iteration\": \"61\", \"goal\": \"AUC_weighted_max\", \"run_name\": \"RobustScaler, SVM\", \"run_properties\": \"copy=True, quantile_range=[10, 90], with_centering=False,\\n             with_scaling=True\", \"primary_metric\": 0.99952915, \"best_metric\": 0.99993056}, {\"run_id\": \"AutoML_1dd22a48-91f4-415b-8bd9-1a986ec1d9c8_62\", \"run_number\": 67, \"metric\": null, \"status\": \"Completed\", \"run_type\": \"azureml.scriptrun\", \"training_percent\": \"100\", \"start_time\": \"2021-01-07T00:50:36.975526Z\", \"end_time\": \"2021-01-07T00:51:45.634448Z\", \"created_time\": \"2021-01-07T00:49:24.517997Z\", \"created_time_dt\": \"2021-01-07T00:49:24.517997Z\", \"duration\": \"0:02:21\", \"iteration\": \"62\", \"goal\": \"AUC_weighted_max\", \"run_name\": \"MaxAbsScaler, LogisticRegression\", \"run_properties\": \"copy=True\", \"primary_metric\": 0.99794255, \"best_metric\": 0.99993056}, {\"run_id\": \"AutoML_1dd22a48-91f4-415b-8bd9-1a986ec1d9c8_63\", \"run_number\": 68, \"metric\": null, \"status\": \"Canceled\", \"run_type\": \"azureml.scriptrun\", \"training_percent\": \"100\", \"start_time\": \"2021-01-07T00:50:53.348674Z\", \"end_time\": \"2021-01-07T00:52:02.794745Z\", \"created_time\": \"2021-01-07T00:49:27.888598Z\", \"created_time_dt\": \"2021-01-07T00:49:27.888598Z\", \"duration\": \"0:02:34\", \"iteration\": \"63\", \"goal\": null, \"run_name\": \"SparseNormalizer, XGBoostClassifier\", \"run_properties\": null}, {\"run_id\": \"AutoML_1dd22a48-91f4-415b-8bd9-1a986ec1d9c8_64\", \"run_number\": 69, \"metric\": null, \"status\": \"Canceled\", \"run_type\": \"azureml.scriptrun\", \"training_percent\": \"100\", \"start_time\": \"2021-01-07T00:51:02.702543Z\", \"end_time\": \"2021-01-07T00:52:01.315254Z\", \"created_time\": \"2021-01-07T00:50:00.905967Z\", \"created_time_dt\": \"2021-01-07T00:50:00.905967Z\", \"duration\": \"0:02:00\", \"iteration\": \"64\", \"goal\": \"AUC_weighted_max\", \"run_name\": \"MinMaxScaler, LogisticRegression\", \"run_properties\": \"copy=True, feature_range=(0, 1\", \"primary_metric\": 0.99914602, \"best_metric\": 0.99993056}, {\"run_id\": \"AutoML_1dd22a48-91f4-415b-8bd9-1a986ec1d9c8_65\", \"run_number\": 70, \"metric\": null, \"status\": \"Canceled\", \"run_type\": \"azureml.scriptrun\", \"training_percent\": \"100\", \"start_time\": \"2021-01-07T00:51:45.106635Z\", \"end_time\": \"2021-01-07T00:52:03.967182Z\", \"created_time\": \"2021-01-07T00:50:25.280332Z\", \"created_time_dt\": \"2021-01-07T00:50:25.280332Z\", \"duration\": \"0:01:38\", \"iteration\": \"65\", \"goal\": null, \"run_name\": \"Canceled\", \"run_properties\": null}, {\"run_id\": \"AutoML_1dd22a48-91f4-415b-8bd9-1a986ec1d9c8_66\", \"run_number\": 71, \"metric\": null, \"status\": \"Canceled\", \"run_type\": \"azureml.scriptrun\", \"training_percent\": \"100\", \"start_time\": \"2021-01-07T00:51:49.644539Z\", \"end_time\": \"2021-01-07T00:52:01.057917Z\", \"created_time\": \"2021-01-07T00:50:36.572424Z\", \"created_time_dt\": \"2021-01-07T00:50:36.572424Z\", \"duration\": \"0:01:24\", \"iteration\": \"66\", \"goal\": null, \"run_name\": \"Canceled\", \"run_properties\": null}, {\"run_id\": \"AutoML_1dd22a48-91f4-415b-8bd9-1a986ec1d9c8_67\", \"run_number\": 72, \"metric\": null, \"status\": \"Canceled\", \"run_type\": \"azureml.scriptrun\", \"training_percent\": \"100\", \"start_time\": \"2021-01-07T00:51:55.476012Z\", \"end_time\": \"2021-01-07T00:52:03.861254Z\", \"created_time\": \"2021-01-07T00:50:40.184722Z\", \"created_time_dt\": \"2021-01-07T00:50:40.184722Z\", \"duration\": \"0:01:23\", \"iteration\": \"67\", \"goal\": null, \"run_name\": \"Canceled\", \"run_properties\": null}, {\"run_id\": \"AutoML_1dd22a48-91f4-415b-8bd9-1a986ec1d9c8_68\", \"run_number\": 73, \"metric\": null, \"status\": \"Canceled\", \"run_type\": \"azureml.scriptrun\", \"training_percent\": \"100\", \"start_time\": \"2021-01-07T00:50:54.645433Z\", \"end_time\": \"2021-01-07T00:52:01.233857Z\", \"created_time\": \"2021-01-07T00:50:54.645433Z\", \"created_time_dt\": \"2021-01-07T00:50:54.645433Z\", \"duration\": \"0:01:06\", \"iteration\": \"68\", \"goal\": null, \"run_name\": \"Canceled\", \"run_properties\": null}, {\"run_id\": \"AutoML_1dd22a48-91f4-415b-8bd9-1a986ec1d9c8_69\", \"run_number\": 74, \"metric\": null, \"status\": \"Canceled\", \"run_type\": \"azureml.scriptrun\", \"training_percent\": \"100\", \"start_time\": \"2021-01-07T00:51:00.923172Z\", \"end_time\": \"2021-01-07T00:52:03.204577Z\", \"created_time\": \"2021-01-07T00:51:00.923172Z\", \"created_time_dt\": \"2021-01-07T00:51:00.923172Z\", \"duration\": \"0:01:02\", \"iteration\": \"69\", \"goal\": null, \"run_name\": \"Canceled\", \"run_properties\": null}, {\"run_id\": \"AutoML_1dd22a48-91f4-415b-8bd9-1a986ec1d9c8_70\", \"run_number\": 75, \"metric\": null, \"status\": \"Canceled\", \"run_type\": \"azureml.scriptrun\", \"training_percent\": \"100\", \"start_time\": \"2021-01-07T00:51:43.582009Z\", \"end_time\": \"2021-01-07T00:52:01.557886Z\", \"created_time\": \"2021-01-07T00:51:43.582009Z\", \"created_time_dt\": \"2021-01-07T00:51:43.582009Z\", \"duration\": \"0:00:17\", \"iteration\": \"70\", \"goal\": null, \"run_name\": \"Canceled\", \"run_properties\": null}, {\"run_id\": \"AutoML_1dd22a48-91f4-415b-8bd9-1a986ec1d9c8_71\", \"run_number\": 76, \"metric\": null, \"status\": \"Canceled\", \"run_type\": \"azureml.scriptrun\", \"training_percent\": \"100\", \"start_time\": \"2021-01-07T00:51:47.418904Z\", \"end_time\": \"2021-01-07T00:52:03.936895Z\", \"created_time\": \"2021-01-07T00:51:47.418904Z\", \"created_time_dt\": \"2021-01-07T00:51:47.418904Z\", \"duration\": \"0:00:16\", \"iteration\": \"71\", \"goal\": null, \"run_name\": \"Canceled\", \"run_properties\": null}, {\"run_id\": \"AutoML_1dd22a48-91f4-415b-8bd9-1a986ec1d9c8_72\", \"run_number\": 77, \"metric\": null, \"status\": \"Completed\", \"run_type\": \"azureml.scriptrun\", \"training_percent\": \"100\", \"start_time\": \"2021-01-07T00:52:21.034088Z\", \"end_time\": \"2021-01-07T00:55:04.34031Z\", \"created_time\": \"2021-01-07T00:52:05.650333Z\", \"created_time_dt\": \"2021-01-07T00:52:05.650333Z\", \"duration\": \"0:02:58\", \"iteration\": \"72\", \"goal\": \"AUC_weighted_max\", \"run_name\": \"VotingEnsemble\", \"run_properties\": \"classification_labels=None,\\n                              estimators=[('49',\\n                                           Pipeline(memory=None,\\n                                                    steps=[('minmaxscaler',\\n                                                            MinMaxScaler(copy=True,\\n                                                                         feature_range=(0,\\n                                                                                        1\", \"primary_metric\": 0.99994786, \"best_metric\": 0.99994786}, {\"run_id\": \"AutoML_1dd22a48-91f4-415b-8bd9-1a986ec1d9c8_73\", \"run_number\": 78, \"metric\": null, \"status\": \"Completed\", \"run_type\": \"azureml.scriptrun\", \"training_percent\": \"100\", \"start_time\": \"2021-01-07T00:52:15.870201Z\", \"end_time\": \"2021-01-07T00:55:06.98644Z\", \"created_time\": \"2021-01-07T00:52:05.733926Z\", \"created_time_dt\": \"2021-01-07T00:52:05.733926Z\", \"duration\": \"0:03:01\", \"iteration\": \"73\", \"goal\": \"AUC_weighted_max\", \"run_name\": \"StackEnsemble\", \"run_properties\": \"base_learners=[('49',\\n                                        Pipeline(memory=None,\\n                                                 steps=[('minmaxscaler',\\n                                                         MinMaxScaler(copy=True,\\n                                                                      feature_range=(0,\\n                                                                                     1\", \"primary_metric\": 0.99993437, \"best_metric\": 0.99994786}], \"children_metrics\": {\"categories\": [0], \"series\": {\"precision_score_macro\": [{\"categories\": [\"0\", \"1\", \"2\", \"3\", \"4\", \"5\", \"6\", \"7\", \"8\", \"9\", \"10\", \"11\", \"12\", \"13\", \"14\", \"15\", \"16\", \"17\", \"18\", \"19\", \"20\", \"21\", \"22\", \"23\", \"24\", \"25\", \"26\", \"27\", \"28\", \"29\", \"30\", \"31\", \"32\", \"33\", \"34\", \"35\", \"36\", \"37\", \"38\", \"39\", \"40\", \"41\", \"42\", \"43\", \"44\", \"45\", \"46\", \"47\", \"48\", \"49\", \"50\", \"51\", \"52\", \"53\", \"54\", \"55\", \"56\", \"57\", \"58\", \"59\", \"60\", \"61\", \"62\", \"64\", \"72\", \"73\"], \"mode\": \"markers\", \"name\": \"precision_score_macro\", \"stepped\": false, \"type\": \"scatter\", \"data\": [0.9713062642554805, 0.9659052342781236, 0.8873704866175869, 0.9212337822644321, 0.9306338598751074, 0.8517384138816514, 0.9205150158318351, 0.800319403475736, 0.924072339246065, 0.964621733439912, 0.8940296758521518, 0.8270731958867403, 0.8511892378537176, 0.9588714733221287, 0.8244635519467142, 0.9512404246816176, 0.8626164788193359, 0.892759112887763, 0.8945297959922236, 0.9306305933594496, 0.9067770920309999, 0.7991894085917985, 0.9392033067453089, 0.9471924912813539, 0.9844131194784845, 0.8534933896130887, 0.985231140127713, 0.9931789621789623, 0.9847237843398695, 0.993120922100761, 0.9387017521929906, 0.9532252488083973, 0.9827542147704047, 0.939341679473029, 0.9346476387178578, 0.006589336763402313, 0.9811013411389837, 0.9796776864868498, 0.959288271616068, 0.9267512840844327, 0.009309734513274336, 0.9809656141209038, 0.9841300039028766, 0.9931789621789623, 0.9931789621789623, 0.9886455670150598, 0.966859502775888, 0.9799633934408254, 0.969512061054178, 0.9931789621789623, 0.05084210394922563, 0.9641605267128526, 0.9776945363311365, 0.9931789621789623, 0.9849126801603207, 0.8532019842378361, 0.9699095576272635, 0.9745189407803325, 0.9809887080515715, 0.978680636030278, 0.8972470996536559, 0.982287105319009, 0.9700676166097336, 0.9781409534905954, 0.9944097615520029, 0.9908614774023625]}, {\"categories\": [\"0\", \"1\", \"2\", \"3\", \"4\", \"5\", \"6\", \"7\", \"8\", \"9\", \"10\", \"11\", \"12\", \"13\", \"14\", \"15\", \"16\", \"17\", \"18\", \"19\", \"20\", \"21\", \"22\", \"23\", \"24\", \"25\", \"26\", \"27\", \"28\", \"29\", \"30\", \"31\", \"32\", \"33\", \"34\", \"35\", \"36\", \"37\", \"38\", \"39\", \"40\", \"41\", \"42\", \"43\", \"44\", \"45\", \"46\", \"47\", \"48\", \"49\", \"50\", \"51\", \"52\", \"53\", \"54\", \"55\", \"56\", \"57\", \"58\", \"59\", \"60\", \"61\", \"62\", \"64\", \"72\", \"73\"], \"mode\": \"lines\", \"name\": \"precision_score_macro_max\", \"stepped\": true, \"type\": \"scatter\", \"data\": [0.9713062642554805, 0.9713062642554805, 0.9713062642554805, 0.9713062642554805, 0.9713062642554805, 0.9713062642554805, 0.9713062642554805, 0.9713062642554805, 0.9713062642554805, 0.9713062642554805, 0.9713062642554805, 0.9713062642554805, 0.9713062642554805, 0.9713062642554805, 0.9713062642554805, 0.9713062642554805, 0.9713062642554805, 0.9713062642554805, 0.9713062642554805, 0.9713062642554805, 0.9713062642554805, 0.9713062642554805, 0.9713062642554805, 0.9713062642554805, 0.9844131194784845, 0.9844131194784845, 0.985231140127713, 0.9931789621789623, 0.9931789621789623, 0.9931789621789623, 0.9931789621789623, 0.9931789621789623, 0.9931789621789623, 0.9931789621789623, 0.9931789621789623, 0.9931789621789623, 0.9931789621789623, 0.9931789621789623, 0.9931789621789623, 0.9931789621789623, 0.9931789621789623, 0.9931789621789623, 0.9931789621789623, 0.9931789621789623, 0.9931789621789623, 0.9931789621789623, 0.9931789621789623, 0.9931789621789623, 0.9931789621789623, 0.9931789621789623, 0.9931789621789623, 0.9931789621789623, 0.9931789621789623, 0.9931789621789623, 0.9931789621789623, 0.9931789621789623, 0.9931789621789623, 0.9931789621789623, 0.9931789621789623, 0.9931789621789623, 0.9931789621789623, 0.9931789621789623, 0.9931789621789623, 0.9931789621789623, 0.9944097615520029, 0.9944097615520029]}], \"recall_score_micro\": [{\"categories\": [\"0\", \"1\", \"2\", \"3\", \"4\", \"5\", \"6\", \"7\", \"8\", \"9\", \"10\", \"11\", \"12\", \"13\", \"14\", \"15\", \"16\", \"17\", \"18\", \"19\", \"20\", \"21\", \"22\", \"23\", \"24\", \"25\", \"26\", \"27\", \"28\", \"29\", \"30\", \"31\", \"32\", \"33\", \"34\", \"35\", \"36\", \"37\", \"38\", \"39\", \"40\", \"41\", \"42\", \"43\", \"44\", \"45\", \"46\", \"47\", \"48\", \"49\", \"50\", \"51\", \"52\", \"53\", \"54\", \"55\", \"56\", \"57\", \"58\", \"59\", \"60\", \"61\", \"62\", \"64\", \"72\", \"73\"], \"mode\": \"markers\", \"name\": \"recall_score_micro\", \"stepped\": false, \"type\": \"scatter\", \"data\": [0.9717230609057783, 0.9658320319278154, 0.8868696859274683, 0.9204528891202498, 0.9304737116085372, 0.8491428075655041, 0.9216328301231996, 0.7843727225403436, 0.9234010064202673, 0.9652385910116259, 0.8927624501127884, 0.8149904563595352, 0.8491393371507895, 0.9593527676557349, 0.8232309560992539, 0.9510949158424433, 0.8620909248655213, 0.8892139510671525, 0.8909908034010063, 0.929875065070276, 0.9062988027069234, 0.7955266354329342, 0.9387211521776854, 0.9457921221585979, 0.9840985597778934, 0.8497622765920527, 0.9846867950720111, 0.9929290300190873, 0.9840985597778934, 0.9929290300190873, 0.9375446815894499, 0.953461738677772, 0.9829134131528718, 0.9393059170570883, 0.9345878882526462, 0.06543293423564116, 0.9799774423043554, 0.9793857365955232, 0.9605309734513273, 0.926338712476141, 0.09309734513274337, 0.9799774423043554, 0.9829220891896581, 0.9929290300190873, 0.9929290300190873, 0.9882179420440742, 0.9670085025160506, 0.9793857365955232, 0.9699652958528544, 0.9929290300190873, 0.12256290126670137, 0.9640690612528197, 0.9776192955058131, 0.9929290300190873, 0.9846867950720111, 0.8491653652611486, 0.9705587367690438, 0.9740812077043206, 0.9799757070969981, 0.9782023251778588, 0.891584244317196, 0.9811573833073052, 0.9705552663543294, 0.9776123546763837, 0.9941089710220371, 0.9905726184279022]}, {\"categories\": [\"0\", \"1\", \"2\", \"3\", \"4\", \"5\", \"6\", \"7\", \"8\", \"9\", \"10\", \"11\", \"12\", \"13\", \"14\", \"15\", \"16\", \"17\", \"18\", \"19\", \"20\", \"21\", \"22\", \"23\", \"24\", \"25\", \"26\", \"27\", \"28\", \"29\", \"30\", \"31\", \"32\", \"33\", \"34\", \"35\", \"36\", \"37\", \"38\", \"39\", \"40\", \"41\", \"42\", \"43\", \"44\", \"45\", \"46\", \"47\", \"48\", \"49\", \"50\", \"51\", \"52\", \"53\", \"54\", \"55\", \"56\", \"57\", \"58\", \"59\", \"60\", \"61\", \"62\", \"64\", \"72\", \"73\"], \"mode\": \"lines\", \"name\": \"recall_score_micro_max\", \"stepped\": true, \"type\": \"scatter\", \"data\": [0.9717230609057783, 0.9717230609057783, 0.9717230609057783, 0.9717230609057783, 0.9717230609057783, 0.9717230609057783, 0.9717230609057783, 0.9717230609057783, 0.9717230609057783, 0.9717230609057783, 0.9717230609057783, 0.9717230609057783, 0.9717230609057783, 0.9717230609057783, 0.9717230609057783, 0.9717230609057783, 0.9717230609057783, 0.9717230609057783, 0.9717230609057783, 0.9717230609057783, 0.9717230609057783, 0.9717230609057783, 0.9717230609057783, 0.9717230609057783, 0.9840985597778934, 0.9840985597778934, 0.9846867950720111, 0.9929290300190873, 0.9929290300190873, 0.9929290300190873, 0.9929290300190873, 0.9929290300190873, 0.9929290300190873, 0.9929290300190873, 0.9929290300190873, 0.9929290300190873, 0.9929290300190873, 0.9929290300190873, 0.9929290300190873, 0.9929290300190873, 0.9929290300190873, 0.9929290300190873, 0.9929290300190873, 0.9929290300190873, 0.9929290300190873, 0.9929290300190873, 0.9929290300190873, 0.9929290300190873, 0.9929290300190873, 0.9929290300190873, 0.9929290300190873, 0.9929290300190873, 0.9929290300190873, 0.9929290300190873, 0.9929290300190873, 0.9929290300190873, 0.9929290300190873, 0.9929290300190873, 0.9929290300190873, 0.9929290300190873, 0.9929290300190873, 0.9929290300190873, 0.9929290300190873, 0.9929290300190873, 0.9941089710220371, 0.9941089710220371]}], \"AUC_macro\": [{\"categories\": [\"0\", \"1\", \"2\", \"3\", \"4\", \"5\", \"6\", \"7\", \"8\", \"9\", \"10\", \"11\", \"12\", \"13\", \"14\", \"15\", \"16\", \"17\", \"18\", \"19\", \"20\", \"21\", \"22\", \"23\", \"24\", \"25\", \"26\", \"27\", \"28\", \"29\", \"30\", \"31\", \"32\", \"33\", \"34\", \"35\", \"36\", \"37\", \"38\", \"39\", \"40\", \"41\", \"42\", \"43\", \"44\", \"45\", \"46\", \"47\", \"48\", \"49\", \"50\", \"51\", \"52\", \"53\", \"54\", \"55\", \"56\", \"57\", \"58\", \"59\", \"60\", \"61\", \"62\", \"64\", \"72\", \"73\"], \"mode\": \"markers\", \"name\": \"AUC_macro\", \"stepped\": false, \"type\": \"scatter\", \"data\": [0.9993745213704497, 0.9991184042671554, 0.9882323857999975, 0.9932673700728991, 0.9955665758117297, 0.9820156227618057, 0.9936297126545577, 0.9709031693045865, 0.9931897379351307, 0.9985372083193296, 0.9880706807597266, 0.975629127776305, 0.9801868035103795, 0.9968935364459484, 0.9772862941395684, 0.9977677849820749, 0.9848885578434172, 0.987973401007338, 0.9897459297081921, 0.99586646169536, 0.9916146598305234, 0.9720075932737118, 0.9952446452670338, 0.9980243397459535, 0.9995557812750612, 0.9856003382285798, 0.9995278971157161, 0.9999219145062636, 0.9995393703130964, 0.9999204170328063, 0.9970047162816933, 0.9982623856389834, 0.9987480579930965, 0.9967432190766884, 0.9957491211151733, 0.020313798403382433, 0.9995213231243707, 0.9994301180046097, 0.9982159744841367, 0.994907360351756, 0.5586131298440498, 0.9994993051463554, 0.9995065459132617, 0.9999237968092924, 0.9999297501638014, 0.9997980234989283, 0.9991196608391775, 0.9993984282946762, 0.9979189994071348, 0.9999316571393614, 0.5607229525793054, 0.9986627618528805, 0.9994268485471931, 0.999923561346535, 0.9995388556551538, 0.9823991549255903, 0.9980470443944875, 0.9991983839010767, 0.9995063968397491, 0.9991891097167999, 0.9880701087198283, 0.999533711933068, 0.9979409640514602, 0.9991762248895665, 0.9999492902476458, 0.9999360470669953]}, {\"categories\": [\"0\", \"1\", \"2\", \"3\", \"4\", \"5\", \"6\", \"7\", \"8\", \"9\", \"10\", \"11\", \"12\", \"13\", \"14\", \"15\", \"16\", \"17\", \"18\", \"19\", \"20\", \"21\", \"22\", \"23\", \"24\", \"25\", \"26\", \"27\", \"28\", \"29\", \"30\", \"31\", \"32\", \"33\", \"34\", \"35\", \"36\", \"37\", \"38\", \"39\", \"40\", \"41\", \"42\", \"43\", \"44\", \"45\", \"46\", \"47\", \"48\", \"49\", \"50\", \"51\", \"52\", \"53\", \"54\", \"55\", \"56\", \"57\", \"58\", \"59\", \"60\", \"61\", \"62\", \"64\", \"72\", \"73\"], \"mode\": \"lines\", \"name\": \"AUC_macro_max\", \"stepped\": true, \"type\": \"scatter\", \"data\": [0.9993745213704497, 0.9993745213704497, 0.9993745213704497, 0.9993745213704497, 0.9993745213704497, 0.9993745213704497, 0.9993745213704497, 0.9993745213704497, 0.9993745213704497, 0.9993745213704497, 0.9993745213704497, 0.9993745213704497, 0.9993745213704497, 0.9993745213704497, 0.9993745213704497, 0.9993745213704497, 0.9993745213704497, 0.9993745213704497, 0.9993745213704497, 0.9993745213704497, 0.9993745213704497, 0.9993745213704497, 0.9993745213704497, 0.9993745213704497, 0.9995557812750612, 0.9995557812750612, 0.9995557812750612, 0.9999219145062636, 0.9999219145062636, 0.9999219145062636, 0.9999219145062636, 0.9999219145062636, 0.9999219145062636, 0.9999219145062636, 0.9999219145062636, 0.9999219145062636, 0.9999219145062636, 0.9999219145062636, 0.9999219145062636, 0.9999219145062636, 0.9999219145062636, 0.9999219145062636, 0.9999219145062636, 0.9999237968092924, 0.9999297501638014, 0.9999297501638014, 0.9999297501638014, 0.9999297501638014, 0.9999297501638014, 0.9999316571393614, 0.9999316571393614, 0.9999316571393614, 0.9999316571393614, 0.9999316571393614, 0.9999316571393614, 0.9999316571393614, 0.9999316571393614, 0.9999316571393614, 0.9999316571393614, 0.9999316571393614, 0.9999316571393614, 0.9999316571393614, 0.9999316571393614, 0.9999316571393614, 0.9999492902476458, 0.9999492902476458]}], \"balanced_accuracy\": [{\"categories\": [\"0\", \"1\", \"2\", \"3\", \"4\", \"5\", \"6\", \"7\", \"8\", \"9\", \"10\", \"11\", \"12\", \"13\", \"14\", \"15\", \"16\", \"17\", \"18\", \"19\", \"20\", \"21\", \"22\", \"23\", \"24\", \"25\", \"26\", \"27\", \"28\", \"29\", \"30\", \"31\", \"32\", \"33\", \"34\", \"35\", \"36\", \"37\", \"38\", \"39\", \"40\", \"41\", \"42\", \"43\", \"44\", \"45\", \"46\", \"47\", \"48\", \"49\", \"50\", \"51\", \"52\", \"53\", \"54\", \"55\", \"56\", \"57\", \"58\", \"59\", \"60\", \"61\", \"62\", \"64\", \"72\", \"73\"], \"mode\": \"markers\", \"name\": \"balanced_accuracy\", \"stepped\": false, \"type\": \"scatter\", \"data\": [0.9728713905925368, 0.9669559300747956, 0.8879869910987424, 0.920863425787199, 0.9320438054248104, 0.8506586850356659, 0.9211725422254575, 0.7895056564767359, 0.9239100009355979, 0.9649388496985459, 0.894312870439063, 0.8168064762419232, 0.8483244083362795, 0.9601836042914368, 0.8261194715136361, 0.9511706457366176, 0.8641245532309905, 0.8907072906319391, 0.8911960149789678, 0.9312839802300135, 0.9067169650895511, 0.7948159009277835, 0.9396732717720235, 0.9473853533063374, 0.9842445735926073, 0.8521293682105033, 0.9847516520996858, 0.9929412998604175, 0.9841960965441302, 0.9928672257863435, 0.9392518773720274, 0.9545813328798414, 0.9833375809178129, 0.9394697233788893, 0.9352836799305217, 0.07840607210626185, 0.9794268350041622, 0.9795126329701495, 0.9598788064413603, 0.926373850377446, 0.1, 0.979361314938642, 0.9826244257552332, 0.9929412998604175, 0.9929412998604175, 0.9883510838880472, 0.9666363934423396, 0.979567886461124, 0.9704110683640783, 0.9929412998604175, 0.1271074521946139, 0.963543965984351, 0.9776148706813095, 0.9929412998604175, 0.9848160021640361, 0.8512644203900974, 0.9703299169389752, 0.9741431926505433, 0.9793470901875752, 0.9784434995214945, 0.8926869037204141, 0.9805956661729933, 0.9710777350307449, 0.9778879439659388, 0.9942140271331447, 0.9900945664873684]}, {\"categories\": [\"0\", \"1\", \"2\", \"3\", \"4\", \"5\", \"6\", \"7\", \"8\", \"9\", \"10\", \"11\", \"12\", \"13\", \"14\", \"15\", \"16\", \"17\", \"18\", \"19\", \"20\", \"21\", \"22\", \"23\", \"24\", \"25\", \"26\", \"27\", \"28\", \"29\", \"30\", \"31\", \"32\", \"33\", \"34\", \"35\", \"36\", \"37\", \"38\", \"39\", \"40\", \"41\", \"42\", \"43\", \"44\", \"45\", \"46\", \"47\", \"48\", \"49\", \"50\", \"51\", \"52\", \"53\", \"54\", \"55\", \"56\", \"57\", \"58\", \"59\", \"60\", \"61\", \"62\", \"64\", \"72\", \"73\"], \"mode\": \"lines\", \"name\": \"balanced_accuracy_max\", \"stepped\": true, \"type\": \"scatter\", \"data\": [0.9728713905925368, 0.9728713905925368, 0.9728713905925368, 0.9728713905925368, 0.9728713905925368, 0.9728713905925368, 0.9728713905925368, 0.9728713905925368, 0.9728713905925368, 0.9728713905925368, 0.9728713905925368, 0.9728713905925368, 0.9728713905925368, 0.9728713905925368, 0.9728713905925368, 0.9728713905925368, 0.9728713905925368, 0.9728713905925368, 0.9728713905925368, 0.9728713905925368, 0.9728713905925368, 0.9728713905925368, 0.9728713905925368, 0.9728713905925368, 0.9842445735926073, 0.9842445735926073, 0.9847516520996858, 0.9929412998604175, 0.9929412998604175, 0.9929412998604175, 0.9929412998604175, 0.9929412998604175, 0.9929412998604175, 0.9929412998604175, 0.9929412998604175, 0.9929412998604175, 0.9929412998604175, 0.9929412998604175, 0.9929412998604175, 0.9929412998604175, 0.9929412998604175, 0.9929412998604175, 0.9929412998604175, 0.9929412998604175, 0.9929412998604175, 0.9929412998604175, 0.9929412998604175, 0.9929412998604175, 0.9929412998604175, 0.9929412998604175, 0.9929412998604175, 0.9929412998604175, 0.9929412998604175, 0.9929412998604175, 0.9929412998604175, 0.9929412998604175, 0.9929412998604175, 0.9929412998604175, 0.9929412998604175, 0.9929412998604175, 0.9929412998604175, 0.9929412998604175, 0.9929412998604175, 0.9929412998604175, 0.9942140271331447, 0.9942140271331447]}], \"recall_score_macro\": [{\"categories\": [\"0\", \"1\", \"2\", \"3\", \"4\", \"5\", \"6\", \"7\", \"8\", \"9\", \"10\", \"11\", \"12\", \"13\", \"14\", \"15\", \"16\", \"17\", \"18\", \"19\", \"20\", \"21\", \"22\", \"23\", \"24\", \"25\", \"26\", \"27\", \"28\", \"29\", \"30\", \"31\", \"32\", \"33\", \"34\", \"35\", \"36\", \"37\", \"38\", \"39\", \"40\", \"41\", \"42\", \"43\", \"44\", \"45\", \"46\", \"47\", \"48\", \"49\", \"50\", \"51\", \"52\", \"53\", \"54\", \"55\", \"56\", \"57\", \"58\", \"59\", \"60\", \"61\", \"62\", \"64\", \"72\", \"73\"], \"mode\": \"markers\", \"name\": \"recall_score_macro\", \"stepped\": false, \"type\": \"scatter\", \"data\": [0.9728713905925368, 0.9669559300747956, 0.8879869910987424, 0.920863425787199, 0.9320438054248104, 0.8506586850356659, 0.9211725422254575, 0.7895056564767359, 0.9239100009355979, 0.9649388496985459, 0.894312870439063, 0.8168064762419232, 0.8483244083362795, 0.9601836042914368, 0.8261194715136361, 0.9511706457366176, 0.8641245532309905, 0.8907072906319391, 0.8911960149789678, 0.9312839802300135, 0.9067169650895511, 0.7948159009277835, 0.9396732717720235, 0.9473853533063374, 0.9842445735926073, 0.8521293682105033, 0.9847516520996858, 0.9929412998604175, 0.9841960965441302, 0.9928672257863435, 0.9392518773720274, 0.9545813328798414, 0.9833375809178129, 0.9394697233788893, 0.9352836799305217, 0.07840607210626185, 0.9794268350041622, 0.9795126329701495, 0.9598788064413603, 0.926373850377446, 0.1, 0.979361314938642, 0.9826244257552332, 0.9929412998604175, 0.9929412998604175, 0.9883510838880472, 0.9666363934423396, 0.979567886461124, 0.9704110683640783, 0.9929412998604175, 0.1271074521946139, 0.963543965984351, 0.9776148706813095, 0.9929412998604175, 0.9848160021640361, 0.8512644203900974, 0.9703299169389752, 0.9741431926505433, 0.9793470901875752, 0.9784434995214945, 0.8926869037204141, 0.9805956661729933, 0.9710777350307449, 0.9778879439659388, 0.9942140271331447, 0.9900945664873684]}, {\"categories\": [\"0\", \"1\", \"2\", \"3\", \"4\", \"5\", \"6\", \"7\", \"8\", \"9\", \"10\", \"11\", \"12\", \"13\", \"14\", \"15\", \"16\", \"17\", \"18\", \"19\", \"20\", \"21\", \"22\", \"23\", \"24\", \"25\", \"26\", \"27\", \"28\", \"29\", \"30\", \"31\", \"32\", \"33\", \"34\", \"35\", \"36\", \"37\", \"38\", \"39\", \"40\", \"41\", \"42\", \"43\", \"44\", \"45\", \"46\", \"47\", \"48\", \"49\", \"50\", \"51\", \"52\", \"53\", \"54\", \"55\", \"56\", \"57\", \"58\", \"59\", \"60\", \"61\", \"62\", \"64\", \"72\", \"73\"], \"mode\": \"lines\", \"name\": \"recall_score_macro_max\", \"stepped\": true, \"type\": \"scatter\", \"data\": [0.9728713905925368, 0.9728713905925368, 0.9728713905925368, 0.9728713905925368, 0.9728713905925368, 0.9728713905925368, 0.9728713905925368, 0.9728713905925368, 0.9728713905925368, 0.9728713905925368, 0.9728713905925368, 0.9728713905925368, 0.9728713905925368, 0.9728713905925368, 0.9728713905925368, 0.9728713905925368, 0.9728713905925368, 0.9728713905925368, 0.9728713905925368, 0.9728713905925368, 0.9728713905925368, 0.9728713905925368, 0.9728713905925368, 0.9728713905925368, 0.9842445735926073, 0.9842445735926073, 0.9847516520996858, 0.9929412998604175, 0.9929412998604175, 0.9929412998604175, 0.9929412998604175, 0.9929412998604175, 0.9929412998604175, 0.9929412998604175, 0.9929412998604175, 0.9929412998604175, 0.9929412998604175, 0.9929412998604175, 0.9929412998604175, 0.9929412998604175, 0.9929412998604175, 0.9929412998604175, 0.9929412998604175, 0.9929412998604175, 0.9929412998604175, 0.9929412998604175, 0.9929412998604175, 0.9929412998604175, 0.9929412998604175, 0.9929412998604175, 0.9929412998604175, 0.9929412998604175, 0.9929412998604175, 0.9929412998604175, 0.9929412998604175, 0.9929412998604175, 0.9929412998604175, 0.9929412998604175, 0.9929412998604175, 0.9929412998604175, 0.9929412998604175, 0.9929412998604175, 0.9929412998604175, 0.9929412998604175, 0.9942140271331447, 0.9942140271331447]}], \"precision_score_weighted\": [{\"categories\": [\"0\", \"1\", \"2\", \"3\", \"4\", \"5\", \"6\", \"7\", \"8\", \"9\", \"10\", \"11\", \"12\", \"13\", \"14\", \"15\", \"16\", \"17\", \"18\", \"19\", \"20\", \"21\", \"22\", \"23\", \"24\", \"25\", \"26\", \"27\", \"28\", \"29\", \"30\", \"31\", \"32\", \"33\", \"34\", \"35\", \"36\", \"37\", \"38\", \"39\", \"40\", \"41\", \"42\", \"43\", \"44\", \"45\", \"46\", \"47\", \"48\", \"49\", \"50\", \"51\", \"52\", \"53\", \"54\", \"55\", \"56\", \"57\", \"58\", \"59\", \"60\", \"61\", \"62\", \"64\", \"72\", \"73\"], \"mode\": \"markers\", \"name\": \"precision_score_weighted\", \"stepped\": false, \"type\": \"scatter\", \"data\": [0.9728461696655435, 0.9676428235253592, 0.8905159741797359, 0.9243695259780589, 0.9325191290417043, 0.8525875471535098, 0.9237750439386219, 0.8065520360300698, 0.9267341007336691, 0.9665380833460187, 0.8992447302379946, 0.832301248390124, 0.8541265645713082, 0.9599960309292463, 0.8269116181783828, 0.9546291626025061, 0.8696774972766184, 0.8944229481772151, 0.8955104097224187, 0.9334442373914408, 0.9092051869733702, 0.8067246338714066, 0.9414594045109791, 0.9492297474438954, 0.9849163185167743, 0.8597003300520252, 0.9853634644105964, 0.993234608240855, 0.98478429859793, 0.9932005645495888, 0.9400718350147732, 0.9554534452717185, 0.983388904083079, 0.944268080657553, 0.9393843190903388, 0.005636018508954916, 0.9807217482517737, 0.9798903066232244, 0.9608049921482191, 0.9283611367807652, 0.008712802707947198, 0.9807207567047126, 0.9836546520418057, 0.993234608240855, 0.993234608240855, 0.9884745195064827, 0.9677383384988418, 0.9799435909802986, 0.9709477146945178, 0.993234608240855, 0.050990152215407245, 0.9650641271181758, 0.9781750735023304, 0.993234608240855, 0.9854545020782531, 0.8563509625501962, 0.9711445204382085, 0.974637903065082, 0.9806782482994801, 0.978899216982595, 0.9015771942036697, 0.9819121266372106, 0.971554073265478, 0.978326102781162, 0.9943031553229054, 0.99091090784673]}, {\"categories\": [\"0\", \"1\", \"2\", \"3\", \"4\", \"5\", \"6\", \"7\", \"8\", \"9\", \"10\", \"11\", \"12\", \"13\", \"14\", \"15\", \"16\", \"17\", \"18\", \"19\", \"20\", \"21\", \"22\", \"23\", \"24\", \"25\", \"26\", \"27\", \"28\", \"29\", \"30\", \"31\", \"32\", \"33\", \"34\", \"35\", \"36\", \"37\", \"38\", \"39\", \"40\", \"41\", \"42\", \"43\", \"44\", \"45\", \"46\", \"47\", \"48\", \"49\", \"50\", \"51\", \"52\", \"53\", \"54\", \"55\", \"56\", \"57\", \"58\", \"59\", \"60\", \"61\", \"62\", \"64\", \"72\", \"73\"], \"mode\": \"lines\", \"name\": \"precision_score_weighted_max\", \"stepped\": true, \"type\": \"scatter\", \"data\": [0.9728461696655435, 0.9728461696655435, 0.9728461696655435, 0.9728461696655435, 0.9728461696655435, 0.9728461696655435, 0.9728461696655435, 0.9728461696655435, 0.9728461696655435, 0.9728461696655435, 0.9728461696655435, 0.9728461696655435, 0.9728461696655435, 0.9728461696655435, 0.9728461696655435, 0.9728461696655435, 0.9728461696655435, 0.9728461696655435, 0.9728461696655435, 0.9728461696655435, 0.9728461696655435, 0.9728461696655435, 0.9728461696655435, 0.9728461696655435, 0.9849163185167743, 0.9849163185167743, 0.9853634644105964, 0.993234608240855, 0.993234608240855, 0.993234608240855, 0.993234608240855, 0.993234608240855, 0.993234608240855, 0.993234608240855, 0.993234608240855, 0.993234608240855, 0.993234608240855, 0.993234608240855, 0.993234608240855, 0.993234608240855, 0.993234608240855, 0.993234608240855, 0.993234608240855, 0.993234608240855, 0.993234608240855, 0.993234608240855, 0.993234608240855, 0.993234608240855, 0.993234608240855, 0.993234608240855, 0.993234608240855, 0.993234608240855, 0.993234608240855, 0.993234608240855, 0.993234608240855, 0.993234608240855, 0.993234608240855, 0.993234608240855, 0.993234608240855, 0.993234608240855, 0.993234608240855, 0.993234608240855, 0.993234608240855, 0.993234608240855, 0.9943031553229054, 0.9943031553229054]}], \"average_precision_score_macro\": [{\"categories\": [\"0\", \"1\", \"2\", \"3\", \"4\", \"5\", \"6\", \"7\", \"8\", \"9\", \"10\", \"11\", \"12\", \"13\", \"14\", \"15\", \"16\", \"17\", \"18\", \"19\", \"20\", \"21\", \"22\", \"23\", \"24\", \"25\", \"26\", \"27\", \"28\", \"29\", \"30\", \"31\", \"32\", \"33\", \"34\", \"35\", \"36\", \"37\", \"38\", \"39\", \"40\", \"41\", \"42\", \"43\", \"44\", \"45\", \"46\", \"47\", \"48\", \"49\", \"50\", \"51\", \"52\", \"53\", \"54\", \"55\", \"56\", \"57\", \"58\", \"59\", \"60\", \"61\", \"62\", \"64\", \"72\", \"73\"], \"mode\": \"markers\", \"name\": \"average_precision_score_macro\", \"stepped\": false, \"type\": \"scatter\", \"data\": [0.9961104269616887, 0.994582006511337, 0.9437485001037667, 0.9614951322755066, 0.9731147020672302, 0.9122054064314572, 0.9687148036679425, 0.8701083412831638, 0.9621027707893466, 0.9916630619939133, 0.9428590019813224, 0.8900477372428458, 0.9033340306380847, 0.9866211675362615, 0.8962670567336973, 0.9855898154126871, 0.9265879056634695, 0.9405514363978771, 0.9457021374715288, 0.9740839482329502, 0.9595319157753543, 0.8779953051529183, 0.9739109059049257, 0.98700117203449, 0.9972816972484113, 0.9217736119359132, 0.9972019292290298, 0.9994333308446827, 0.9972521491785548, 0.9994458418072292, 0.9783585418466441, 0.9883428331443888, 0.9956816618970477, 0.9806076294727131, 0.9750900144516675, 0.053619062018452825, 0.9971341292352591, 0.9962395635427151, 0.9875528284348893, 0.9703507508668195, 0.1324291815268029, 0.9970221618678888, 0.9970595381824244, 0.9994762899304981, 0.9994807057928391, 0.9986371742521417, 0.9934178728260763, 0.9962461644924883, 0.9880185914699607, 0.99948974471515, 0.1321346174185973, 0.9908126772460284, 0.9961993742874153, 0.9994499550387147, 0.9972940657520528, 0.9081546782075509, 0.9896476638802019, 0.994194194150503, 0.9971001487582278, 0.9939223209494885, 0.9390970732062351, 0.9971580662791526, 0.9881157321918446, 0.993894409036445, 0.9996077667247387, 0.9995210598567009]}, {\"categories\": [\"0\", \"1\", \"2\", \"3\", \"4\", \"5\", \"6\", \"7\", \"8\", \"9\", \"10\", \"11\", \"12\", \"13\", \"14\", \"15\", \"16\", \"17\", \"18\", \"19\", \"20\", \"21\", \"22\", \"23\", \"24\", \"25\", \"26\", \"27\", \"28\", \"29\", \"30\", \"31\", \"32\", \"33\", \"34\", \"35\", \"36\", \"37\", \"38\", \"39\", \"40\", \"41\", \"42\", \"43\", \"44\", \"45\", \"46\", \"47\", \"48\", \"49\", \"50\", \"51\", \"52\", \"53\", \"54\", \"55\", \"56\", \"57\", \"58\", \"59\", \"60\", \"61\", \"62\", \"64\", \"72\", \"73\"], \"mode\": \"lines\", \"name\": \"average_precision_score_macro_max\", \"stepped\": true, \"type\": \"scatter\", \"data\": [0.9961104269616887, 0.9961104269616887, 0.9961104269616887, 0.9961104269616887, 0.9961104269616887, 0.9961104269616887, 0.9961104269616887, 0.9961104269616887, 0.9961104269616887, 0.9961104269616887, 0.9961104269616887, 0.9961104269616887, 0.9961104269616887, 0.9961104269616887, 0.9961104269616887, 0.9961104269616887, 0.9961104269616887, 0.9961104269616887, 0.9961104269616887, 0.9961104269616887, 0.9961104269616887, 0.9961104269616887, 0.9961104269616887, 0.9961104269616887, 0.9972816972484113, 0.9972816972484113, 0.9972816972484113, 0.9994333308446827, 0.9994333308446827, 0.9994458418072292, 0.9994458418072292, 0.9994458418072292, 0.9994458418072292, 0.9994458418072292, 0.9994458418072292, 0.9994458418072292, 0.9994458418072292, 0.9994458418072292, 0.9994458418072292, 0.9994458418072292, 0.9994458418072292, 0.9994458418072292, 0.9994458418072292, 0.9994762899304981, 0.9994807057928391, 0.9994807057928391, 0.9994807057928391, 0.9994807057928391, 0.9994807057928391, 0.99948974471515, 0.99948974471515, 0.99948974471515, 0.99948974471515, 0.99948974471515, 0.99948974471515, 0.99948974471515, 0.99948974471515, 0.99948974471515, 0.99948974471515, 0.99948974471515, 0.99948974471515, 0.99948974471515, 0.99948974471515, 0.99948974471515, 0.9996077667247387, 0.9996077667247387]}], \"f1_score_micro\": [{\"categories\": [\"0\", \"1\", \"2\", \"3\", \"4\", \"5\", \"6\", \"7\", \"8\", \"9\", \"10\", \"11\", \"12\", \"13\", \"14\", \"15\", \"16\", \"17\", \"18\", \"19\", \"20\", \"21\", \"22\", \"23\", \"24\", \"25\", \"26\", \"27\", \"28\", \"29\", \"30\", \"31\", \"32\", \"33\", \"34\", \"35\", \"36\", \"37\", \"38\", \"39\", \"40\", \"41\", \"42\", \"43\", \"44\", \"45\", \"46\", \"47\", \"48\", \"49\", \"50\", \"51\", \"52\", \"53\", \"54\", \"55\", \"56\", \"57\", \"58\", \"59\", \"60\", \"61\", \"62\", \"64\", \"72\", \"73\"], \"mode\": \"markers\", \"name\": \"f1_score_micro\", \"stepped\": false, \"type\": \"scatter\", \"data\": [0.9717230609057783, 0.9658320319278154, 0.8868696859274683, 0.9204528891202498, 0.9304737116085372, 0.8491428075655041, 0.9216328301231996, 0.7843727225403436, 0.9234010064202671, 0.9652385910116259, 0.8927624501127884, 0.8149904563595352, 0.8491393371507895, 0.9593527676557349, 0.8232309560992539, 0.9510949158424433, 0.8620909248655213, 0.8892139510671525, 0.8909908034010066, 0.929875065070276, 0.9062988027069234, 0.7955266354329342, 0.9387211521776851, 0.9457921221585979, 0.9840985597778934, 0.8497622765920527, 0.9846867950720111, 0.9929290300190873, 0.9840985597778934, 0.9929290300190873, 0.9375446815894499, 0.953461738677772, 0.9829134131528718, 0.9393059170570883, 0.9345878882526462, 0.06543293423564116, 0.9799774423043554, 0.9793857365955232, 0.9605309734513273, 0.9263387124761409, 0.09309734513274337, 0.9799774423043554, 0.9829220891896581, 0.9929290300190873, 0.9929290300190873, 0.9882179420440742, 0.9670085025160506, 0.9793857365955232, 0.9699652958528544, 0.9929290300190873, 0.12256290126670137, 0.9640690612528197, 0.9776192955058131, 0.9929290300190873, 0.9846867950720111, 0.8491653652611486, 0.9705587367690438, 0.9740812077043206, 0.9799757070969981, 0.9782023251778588, 0.891584244317196, 0.9811573833073052, 0.9705552663543294, 0.9776123546763837, 0.9941089710220371, 0.9905726184279022]}, {\"categories\": [\"0\", \"1\", \"2\", \"3\", \"4\", \"5\", \"6\", \"7\", \"8\", \"9\", \"10\", \"11\", \"12\", \"13\", \"14\", \"15\", \"16\", \"17\", \"18\", \"19\", \"20\", \"21\", \"22\", \"23\", \"24\", \"25\", \"26\", \"27\", \"28\", \"29\", \"30\", \"31\", \"32\", \"33\", \"34\", \"35\", \"36\", \"37\", \"38\", \"39\", \"40\", \"41\", \"42\", \"43\", \"44\", \"45\", \"46\", \"47\", \"48\", \"49\", \"50\", \"51\", \"52\", \"53\", \"54\", \"55\", \"56\", \"57\", \"58\", \"59\", \"60\", \"61\", \"62\", \"64\", \"72\", \"73\"], \"mode\": \"lines\", \"name\": \"f1_score_micro_max\", \"stepped\": true, \"type\": \"scatter\", \"data\": [0.9717230609057783, 0.9717230609057783, 0.9717230609057783, 0.9717230609057783, 0.9717230609057783, 0.9717230609057783, 0.9717230609057783, 0.9717230609057783, 0.9717230609057783, 0.9717230609057783, 0.9717230609057783, 0.9717230609057783, 0.9717230609057783, 0.9717230609057783, 0.9717230609057783, 0.9717230609057783, 0.9717230609057783, 0.9717230609057783, 0.9717230609057783, 0.9717230609057783, 0.9717230609057783, 0.9717230609057783, 0.9717230609057783, 0.9717230609057783, 0.9840985597778934, 0.9840985597778934, 0.9846867950720111, 0.9929290300190873, 0.9929290300190873, 0.9929290300190873, 0.9929290300190873, 0.9929290300190873, 0.9929290300190873, 0.9929290300190873, 0.9929290300190873, 0.9929290300190873, 0.9929290300190873, 0.9929290300190873, 0.9929290300190873, 0.9929290300190873, 0.9929290300190873, 0.9929290300190873, 0.9929290300190873, 0.9929290300190873, 0.9929290300190873, 0.9929290300190873, 0.9929290300190873, 0.9929290300190873, 0.9929290300190873, 0.9929290300190873, 0.9929290300190873, 0.9929290300190873, 0.9929290300190873, 0.9929290300190873, 0.9929290300190873, 0.9929290300190873, 0.9929290300190873, 0.9929290300190873, 0.9929290300190873, 0.9929290300190873, 0.9929290300190873, 0.9929290300190873, 0.9929290300190873, 0.9929290300190873, 0.9941089710220371, 0.9941089710220371]}], \"average_precision_score_micro\": [{\"categories\": [\"0\", \"1\", \"2\", \"3\", \"4\", \"5\", \"6\", \"7\", \"8\", \"9\", \"10\", \"11\", \"12\", \"13\", \"14\", \"15\", \"16\", \"17\", \"18\", \"19\", \"20\", \"21\", \"22\", \"23\", \"24\", \"25\", \"26\", \"27\", \"28\", \"29\", \"30\", \"31\", \"32\", \"33\", \"34\", \"35\", \"36\", \"37\", \"38\", \"39\", \"40\", \"41\", \"42\", \"43\", \"44\", \"45\", \"46\", \"47\", \"48\", \"49\", \"50\", \"51\", \"52\", \"53\", \"54\", \"55\", \"56\", \"57\", \"58\", \"59\", \"60\", \"61\", \"62\", \"64\", \"72\", \"73\"], \"mode\": \"markers\", \"name\": \"average_precision_score_micro\", \"stepped\": false, \"type\": \"scatter\", \"data\": [0.9956185400535358, 0.9944065996446663, 0.943871001798682, 0.9630633595202266, 0.9765737172078893, 0.9134831832154509, 0.9717733135619065, 0.8446510572699143, 0.9648133066245437, 0.99332692937852, 0.9376577090210049, 0.8698362946471712, 0.8906136252954147, 0.9885382636506674, 0.9014594922710476, 0.9880139570458759, 0.9199898160082439, 0.9343055439099179, 0.9441640019070634, 0.976846784884103, 0.963206771971483, 0.8558563509040293, 0.9763123885029701, 0.9873562041216492, 0.997578853156978, 0.9230700304688085, 0.9976219783011213, 0.9996043716260943, 0.9976424493894159, 0.9996045817085765, 0.982144314368897, 0.989915886091999, 0.9962843137920316, 0.9819406188873329, 0.9766734416450124, 0.08054275693839849, 0.997331223368219, 0.9966377347708363, 0.9905044795439621, 0.9743259471961743, 0.09989631427859677, 0.9972538067788319, 0.9972646337751397, 0.9996008535906519, 0.9996109804287755, 0.9989540988313674, 0.9949369585418266, 0.9965519062938852, 0.9909374813740006, 0.9996273852570532, 0.11500848030244919, 0.992078087843589, 0.9966469330859521, 0.9996074970393714, 0.9975613254727126, 0.923492846011593, 0.9917829408996305, 0.9953946670764056, 0.9972400779342955, 0.9953349640547549, 0.9473823121114489, 0.9973417830441518, 0.9909720708280826, 0.9953382590619704, 0.9996744873412684, 0.9994355609830133]}, {\"categories\": [\"0\", \"1\", \"2\", \"3\", \"4\", \"5\", \"6\", \"7\", \"8\", \"9\", \"10\", \"11\", \"12\", \"13\", \"14\", \"15\", \"16\", \"17\", \"18\", \"19\", \"20\", \"21\", \"22\", \"23\", \"24\", \"25\", \"26\", \"27\", \"28\", \"29\", \"30\", \"31\", \"32\", \"33\", \"34\", \"35\", \"36\", \"37\", \"38\", \"39\", \"40\", \"41\", \"42\", \"43\", \"44\", \"45\", \"46\", \"47\", \"48\", \"49\", \"50\", \"51\", \"52\", \"53\", \"54\", \"55\", \"56\", \"57\", \"58\", \"59\", \"60\", \"61\", \"62\", \"64\", \"72\", \"73\"], \"mode\": \"lines\", \"name\": \"average_precision_score_micro_max\", \"stepped\": true, \"type\": \"scatter\", \"data\": [0.9956185400535358, 0.9956185400535358, 0.9956185400535358, 0.9956185400535358, 0.9956185400535358, 0.9956185400535358, 0.9956185400535358, 0.9956185400535358, 0.9956185400535358, 0.9956185400535358, 0.9956185400535358, 0.9956185400535358, 0.9956185400535358, 0.9956185400535358, 0.9956185400535358, 0.9956185400535358, 0.9956185400535358, 0.9956185400535358, 0.9956185400535358, 0.9956185400535358, 0.9956185400535358, 0.9956185400535358, 0.9956185400535358, 0.9956185400535358, 0.997578853156978, 0.997578853156978, 0.9976219783011213, 0.9996043716260943, 0.9996043716260943, 0.9996045817085765, 0.9996045817085765, 0.9996045817085765, 0.9996045817085765, 0.9996045817085765, 0.9996045817085765, 0.9996045817085765, 0.9996045817085765, 0.9996045817085765, 0.9996045817085765, 0.9996045817085765, 0.9996045817085765, 0.9996045817085765, 0.9996045817085765, 0.9996045817085765, 0.9996109804287755, 0.9996109804287755, 0.9996109804287755, 0.9996109804287755, 0.9996109804287755, 0.9996273852570532, 0.9996273852570532, 0.9996273852570532, 0.9996273852570532, 0.9996273852570532, 0.9996273852570532, 0.9996273852570532, 0.9996273852570532, 0.9996273852570532, 0.9996273852570532, 0.9996273852570532, 0.9996273852570532, 0.9996273852570532, 0.9996273852570532, 0.9996273852570532, 0.9996744873412684, 0.9996744873412684]}], \"AUC_micro\": [{\"categories\": [\"0\", \"1\", \"2\", \"3\", \"4\", \"5\", \"6\", \"7\", \"8\", \"9\", \"10\", \"11\", \"12\", \"13\", \"14\", \"15\", \"16\", \"17\", \"18\", \"19\", \"20\", \"21\", \"22\", \"23\", \"24\", \"25\", \"26\", \"27\", \"28\", \"29\", \"30\", \"31\", \"32\", \"33\", \"34\", \"35\", \"36\", \"37\", \"38\", \"39\", \"40\", \"41\", \"42\", \"43\", \"44\", \"45\", \"46\", \"47\", \"48\", \"49\", \"50\", \"51\", \"52\", \"53\", \"54\", \"55\", \"56\", \"57\", \"58\", \"59\", \"60\", \"61\", \"62\", \"64\", \"72\", \"73\"], \"mode\": \"markers\", \"name\": \"AUC_micro\", \"stepped\": false, \"type\": \"scatter\", \"data\": [0.9992834454108941, 0.9991210731959252, 0.988436987721445, 0.9937287832025932, 0.9960273562798289, 0.9822442074218841, 0.994386433336461, 0.9693992398907227, 0.9939062257471551, 0.9987568210406721, 0.9883000190482389, 0.9738886505475348, 0.9782926602980304, 0.997507546256782, 0.9790379346464512, 0.9981224279269446, 0.9841829138139098, 0.9874328352675658, 0.9897852627601648, 0.9962930082829311, 0.9924856506745398, 0.9713143833213664, 0.9960400604636478, 0.9980718196209615, 0.9996316185073943, 0.986435272113664, 0.9996343688413324, 0.9999512967119571, 0.9996403314951617, 0.9999511147003577, 0.9975207260494054, 0.9985156876451586, 0.9988881798683155, 0.9970333444848685, 0.9960950066642406, 0.41621065149176034, 0.9995530042718178, 0.999471874244849, 0.99856243111607, 0.9952593210990426, 0.49043561778348305, 0.9995422812058903, 0.9995431867207067, 0.9999505255053418, 0.9999526321260941, 0.9998727881053344, 0.9992804301523069, 0.9994606505759313, 0.9985597864094131, 0.9999549468817355, 0.5309105606124203, 0.9987553571369846, 0.9994828383837261, 0.9999516789078793, 0.9996214392046749, 0.9859786022289333, 0.9986713708627569, 0.9993260577002496, 0.9995333419105108, 0.9993170247009295, 0.9889789923653854, 0.9995653503924352, 0.9985713783603434, 0.9993085925389442, 0.9999611040409114, 0.999927620157673]}, {\"categories\": [\"0\", \"1\", \"2\", \"3\", \"4\", \"5\", \"6\", \"7\", \"8\", \"9\", \"10\", \"11\", \"12\", \"13\", \"14\", \"15\", \"16\", \"17\", \"18\", \"19\", \"20\", \"21\", \"22\", \"23\", \"24\", \"25\", \"26\", \"27\", \"28\", \"29\", \"30\", \"31\", \"32\", \"33\", \"34\", \"35\", \"36\", \"37\", \"38\", \"39\", \"40\", \"41\", \"42\", \"43\", \"44\", \"45\", \"46\", \"47\", \"48\", \"49\", \"50\", \"51\", \"52\", \"53\", \"54\", \"55\", \"56\", \"57\", \"58\", \"59\", \"60\", \"61\", \"62\", \"64\", \"72\", \"73\"], \"mode\": \"lines\", \"name\": \"AUC_micro_max\", \"stepped\": true, \"type\": \"scatter\", \"data\": [0.9992834454108941, 0.9992834454108941, 0.9992834454108941, 0.9992834454108941, 0.9992834454108941, 0.9992834454108941, 0.9992834454108941, 0.9992834454108941, 0.9992834454108941, 0.9992834454108941, 0.9992834454108941, 0.9992834454108941, 0.9992834454108941, 0.9992834454108941, 0.9992834454108941, 0.9992834454108941, 0.9992834454108941, 0.9992834454108941, 0.9992834454108941, 0.9992834454108941, 0.9992834454108941, 0.9992834454108941, 0.9992834454108941, 0.9992834454108941, 0.9996316185073943, 0.9996316185073943, 0.9996343688413324, 0.9999512967119571, 0.9999512967119571, 0.9999512967119571, 0.9999512967119571, 0.9999512967119571, 0.9999512967119571, 0.9999512967119571, 0.9999512967119571, 0.9999512967119571, 0.9999512967119571, 0.9999512967119571, 0.9999512967119571, 0.9999512967119571, 0.9999512967119571, 0.9999512967119571, 0.9999512967119571, 0.9999512967119571, 0.9999526321260941, 0.9999526321260941, 0.9999526321260941, 0.9999526321260941, 0.9999526321260941, 0.9999549468817355, 0.9999549468817355, 0.9999549468817355, 0.9999549468817355, 0.9999549468817355, 0.9999549468817355, 0.9999549468817355, 0.9999549468817355, 0.9999549468817355, 0.9999549468817355, 0.9999549468817355, 0.9999549468817355, 0.9999549468817355, 0.9999549468817355, 0.9999549468817355, 0.9999611040409114, 0.9999611040409114]}], \"AUC_weighted\": [{\"categories\": [\"0\", \"1\", \"2\", \"3\", \"4\", \"5\", \"6\", \"7\", \"8\", \"9\", \"10\", \"11\", \"12\", \"13\", \"14\", \"15\", \"16\", \"17\", \"18\", \"19\", \"20\", \"21\", \"22\", \"23\", \"24\", \"25\", \"26\", \"27\", \"28\", \"29\", \"30\", \"31\", \"32\", \"33\", \"34\", \"35\", \"36\", \"37\", \"38\", \"39\", \"40\", \"41\", \"42\", \"43\", \"44\", \"45\", \"46\", \"47\", \"48\", \"49\", \"50\", \"51\", \"52\", \"53\", \"54\", \"55\", \"56\", \"57\", \"58\", \"59\", \"60\", \"61\", \"62\", \"64\", \"72\", \"73\"], \"mode\": \"markers\", \"name\": \"AUC_weighted\", \"stepped\": false, \"type\": \"scatter\", \"data\": [0.9993405469061903, 0.9991243559099905, 0.9881403191187094, 0.9933410181744197, 0.9956804728042808, 0.981791927530043, 0.9937462330184491, 0.970632000568639, 0.9931707787609078, 0.9986441933673109, 0.9884404514614319, 0.9755784252590299, 0.980187156141783, 0.9968684516768318, 0.9769598428285817, 0.9978529581894554, 0.9851341499551957, 0.9881408943281796, 0.9896873353336078, 0.9959626075412744, 0.9916787156477911, 0.9719679861860111, 0.9953783267216696, 0.9980019976486731, 0.999565385961478, 0.9858019957082353, 0.9995364937858764, 0.9999209628250915, 0.999548053431532, 0.9999190021457001, 0.9970020483515061, 0.9982557245331265, 0.9987745234522922, 0.9968263668033188, 0.9958548155256104, 0.019995347620477992, 0.999515499871562, 0.9994480833642057, 0.9982650578665959, 0.994863059357465, 0.5586197812882447, 0.9994922807662894, 0.999500016877454, 0.9999229218088763, 0.9999286398257871, 0.9997954145272884, 0.9991588688426883, 0.9994092203387375, 0.9979191626124194, 0.9999305623586849, 0.5605354709045157, 0.9986805024928191, 0.9994379312036485, 0.9999229109162411, 0.9995480997869526, 0.9819794880786811, 0.9980324658763923, 0.9991877810705144, 0.9995000188885793, 0.9991595925712703, 0.9881758116526738, 0.9995291479485976, 0.9979425459583282, 0.9991460212469798, 0.9999478628922382, 0.9999343681463687]}, {\"categories\": [\"0\", \"1\", \"2\", \"3\", \"4\", \"5\", \"6\", \"7\", \"8\", \"9\", \"10\", \"11\", \"12\", \"13\", \"14\", \"15\", \"16\", \"17\", \"18\", \"19\", \"20\", \"21\", \"22\", \"23\", \"24\", \"25\", \"26\", \"27\", \"28\", \"29\", \"30\", \"31\", \"32\", \"33\", \"34\", \"35\", \"36\", \"37\", \"38\", \"39\", \"40\", \"41\", \"42\", \"43\", \"44\", \"45\", \"46\", \"47\", \"48\", \"49\", \"50\", \"51\", \"52\", \"53\", \"54\", \"55\", \"56\", \"57\", \"58\", \"59\", \"60\", \"61\", \"62\", \"64\", \"72\", \"73\"], \"mode\": \"lines\", \"name\": \"AUC_weighted_max\", \"stepped\": true, \"type\": \"scatter\", \"data\": [0.9993405469061903, 0.9993405469061903, 0.9993405469061903, 0.9993405469061903, 0.9993405469061903, 0.9993405469061903, 0.9993405469061903, 0.9993405469061903, 0.9993405469061903, 0.9993405469061903, 0.9993405469061903, 0.9993405469061903, 0.9993405469061903, 0.9993405469061903, 0.9993405469061903, 0.9993405469061903, 0.9993405469061903, 0.9993405469061903, 0.9993405469061903, 0.9993405469061903, 0.9993405469061903, 0.9993405469061903, 0.9993405469061903, 0.9993405469061903, 0.999565385961478, 0.999565385961478, 0.999565385961478, 0.9999209628250915, 0.9999209628250915, 0.9999209628250915, 0.9999209628250915, 0.9999209628250915, 0.9999209628250915, 0.9999209628250915, 0.9999209628250915, 0.9999209628250915, 0.9999209628250915, 0.9999209628250915, 0.9999209628250915, 0.9999209628250915, 0.9999209628250915, 0.9999209628250915, 0.9999209628250915, 0.9999229218088763, 0.9999286398257871, 0.9999286398257871, 0.9999286398257871, 0.9999286398257871, 0.9999286398257871, 0.9999305623586849, 0.9999305623586849, 0.9999305623586849, 0.9999305623586849, 0.9999305623586849, 0.9999305623586849, 0.9999305623586849, 0.9999305623586849, 0.9999305623586849, 0.9999305623586849, 0.9999305623586849, 0.9999305623586849, 0.9999305623586849, 0.9999305623586849, 0.9999305623586849, 0.9999478628922382, 0.9999478628922382]}], \"f1_score_macro\": [{\"categories\": [\"0\", \"1\", \"2\", \"3\", \"4\", \"5\", \"6\", \"7\", \"8\", \"9\", \"10\", \"11\", \"12\", \"13\", \"14\", \"15\", \"16\", \"17\", \"18\", \"19\", \"20\", \"21\", \"22\", \"23\", \"24\", \"25\", \"26\", \"27\", \"28\", \"29\", \"30\", \"31\", \"32\", \"33\", \"34\", \"35\", \"36\", \"37\", \"38\", \"39\", \"40\", \"41\", \"42\", \"43\", \"44\", \"45\", \"46\", \"47\", \"48\", \"49\", \"50\", \"51\", \"52\", \"53\", \"54\", \"55\", \"56\", \"57\", \"58\", \"59\", \"60\", \"61\", \"62\", \"64\", \"72\", \"73\"], \"mode\": \"markers\", \"name\": \"f1_score_macro\", \"stepped\": false, \"type\": \"scatter\", \"data\": [0.9715990787781316, 0.9656909066933036, 0.8844333274569165, 0.9185689059770563, 0.9302508610236113, 0.8474377442842582, 0.9196139274904361, 0.7715912008156163, 0.9221537849324124, 0.9638036999599585, 0.889363326113821, 0.7953288051042235, 0.8432017178225234, 0.9589010521527179, 0.8190064525105303, 0.9492237243177003, 0.8568521521290917, 0.8867140752896049, 0.8897789723672519, 0.9292296027545877, 0.9045451759714357, 0.7790123827799356, 0.9378329583161508, 0.9458133278126573, 0.9839975091160926, 0.8473337806053985, 0.9846946298607427, 0.9929370394619648, 0.9841504548245906, 0.9928783348523268, 0.9377973409770275, 0.9530394086022911, 0.9827191584894373, 0.9365810878092382, 0.9320641000766419, 0.012134199607528425, 0.9799466103898103, 0.9793415075239403, 0.9590736850402253, 0.9255416635123932, 0.017026665681108177, 0.9798473146422889, 0.9830793773828127, 0.9929370394619648, 0.9929370394619648, 0.9883809386138326, 0.9662003523142616, 0.979494671342743, 0.9693627249795753, 0.9929370394619648, 0.06768412487048987, 0.9632756591531815, 0.9773895424717696, 0.9929370394619648, 0.9845515035787319, 0.8491895169578528, 0.9697088982104832, 0.9740123568473098, 0.9798628721821153, 0.9782390701712684, 0.8885055505716226, 0.9811285365809107, 0.9699680702830863, 0.9776913393418474, 0.9942300324824757, 0.9903280130446521]}, {\"categories\": [\"0\", \"1\", \"2\", \"3\", \"4\", \"5\", \"6\", \"7\", \"8\", \"9\", \"10\", \"11\", \"12\", \"13\", \"14\", \"15\", \"16\", \"17\", \"18\", \"19\", \"20\", \"21\", \"22\", \"23\", \"24\", \"25\", \"26\", \"27\", \"28\", \"29\", \"30\", \"31\", \"32\", \"33\", \"34\", \"35\", \"36\", \"37\", \"38\", \"39\", \"40\", \"41\", \"42\", \"43\", \"44\", \"45\", \"46\", \"47\", \"48\", \"49\", \"50\", \"51\", \"52\", \"53\", \"54\", \"55\", \"56\", \"57\", \"58\", \"59\", \"60\", \"61\", \"62\", \"64\", \"72\", \"73\"], \"mode\": \"lines\", \"name\": \"f1_score_macro_max\", \"stepped\": true, \"type\": \"scatter\", \"data\": [0.9715990787781316, 0.9715990787781316, 0.9715990787781316, 0.9715990787781316, 0.9715990787781316, 0.9715990787781316, 0.9715990787781316, 0.9715990787781316, 0.9715990787781316, 0.9715990787781316, 0.9715990787781316, 0.9715990787781316, 0.9715990787781316, 0.9715990787781316, 0.9715990787781316, 0.9715990787781316, 0.9715990787781316, 0.9715990787781316, 0.9715990787781316, 0.9715990787781316, 0.9715990787781316, 0.9715990787781316, 0.9715990787781316, 0.9715990787781316, 0.9839975091160926, 0.9839975091160926, 0.9846946298607427, 0.9929370394619648, 0.9929370394619648, 0.9929370394619648, 0.9929370394619648, 0.9929370394619648, 0.9929370394619648, 0.9929370394619648, 0.9929370394619648, 0.9929370394619648, 0.9929370394619648, 0.9929370394619648, 0.9929370394619648, 0.9929370394619648, 0.9929370394619648, 0.9929370394619648, 0.9929370394619648, 0.9929370394619648, 0.9929370394619648, 0.9929370394619648, 0.9929370394619648, 0.9929370394619648, 0.9929370394619648, 0.9929370394619648, 0.9929370394619648, 0.9929370394619648, 0.9929370394619648, 0.9929370394619648, 0.9929370394619648, 0.9929370394619648, 0.9929370394619648, 0.9929370394619648, 0.9929370394619648, 0.9929370394619648, 0.9929370394619648, 0.9929370394619648, 0.9929370394619648, 0.9929370394619648, 0.9942300324824757, 0.9942300324824757]}], \"f1_score_weighted\": [{\"categories\": [\"0\", \"1\", \"2\", \"3\", \"4\", \"5\", \"6\", \"7\", \"8\", \"9\", \"10\", \"11\", \"12\", \"13\", \"14\", \"15\", \"16\", \"17\", \"18\", \"19\", \"20\", \"21\", \"22\", \"23\", \"24\", \"25\", \"26\", \"27\", \"28\", \"29\", \"30\", \"31\", \"32\", \"33\", \"34\", \"35\", \"36\", \"37\", \"38\", \"39\", \"40\", \"41\", \"42\", \"43\", \"44\", \"45\", \"46\", \"47\", \"48\", \"49\", \"50\", \"51\", \"52\", \"53\", \"54\", \"55\", \"56\", \"57\", \"58\", \"59\", \"60\", \"61\", \"62\", \"64\", \"72\", \"73\"], \"mode\": \"markers\", \"name\": \"f1_score_weighted\", \"stepped\": false, \"type\": \"scatter\", \"data\": [0.9718250256879714, 0.9660116741973714, 0.8857126487198863, 0.9200795610786134, 0.9304638082484246, 0.8470057033603847, 0.9215407276875893, 0.7718963935818128, 0.9232104260151646, 0.9649504365490633, 0.8913694792934705, 0.7970597638375555, 0.8455603633997008, 0.9590619232292255, 0.8186739428990562, 0.9511185288152217, 0.8594332100633453, 0.8867129497323816, 0.8901373678933732, 0.9299555097248428, 0.9056171272702207, 0.7840896549505201, 0.9385271790279555, 0.9461093160199479, 0.9841856940401735, 0.8497336798038958, 0.9847380575606349, 0.9929631157415851, 0.9841400926303233, 0.9929536312833285, 0.9376531125513756, 0.9536440827463568, 0.982849322430891, 0.9393118801423193, 0.9343665837179408, 0.010360234400754193, 0.980044455379331, 0.9793844816937781, 0.9601773204365299, 0.9263232023877459, 0.01592803345440496, 0.9800447227889858, 0.9829919190337719, 0.9929631157415851, 0.9929631157415851, 0.988231033170732, 0.9668259194958411, 0.979399513593998, 0.9698657991280658, 0.9929631157415851, 0.06700766517810844, 0.963985557934971, 0.9776286791871026, 0.9929631157415851, 0.9847663723000888, 0.8496827573631089, 0.9704514834959849, 0.9740526913154479, 0.9800358592885973, 0.9782297191687632, 0.890683742200863, 0.9812277747732114, 0.970456503991605, 0.9776480581109709, 0.9941236718260121, 0.9906026534520794]}, {\"categories\": [\"0\", \"1\", \"2\", \"3\", \"4\", \"5\", \"6\", \"7\", \"8\", \"9\", \"10\", \"11\", \"12\", \"13\", \"14\", \"15\", \"16\", \"17\", \"18\", \"19\", \"20\", \"21\", \"22\", \"23\", \"24\", \"25\", \"26\", \"27\", \"28\", \"29\", \"30\", \"31\", \"32\", \"33\", \"34\", \"35\", \"36\", \"37\", \"38\", \"39\", \"40\", \"41\", \"42\", \"43\", \"44\", \"45\", \"46\", \"47\", \"48\", \"49\", \"50\", \"51\", \"52\", \"53\", \"54\", \"55\", \"56\", \"57\", \"58\", \"59\", \"60\", \"61\", \"62\", \"64\", \"72\", \"73\"], \"mode\": \"lines\", \"name\": \"f1_score_weighted_max\", \"stepped\": true, \"type\": \"scatter\", \"data\": [0.9718250256879714, 0.9718250256879714, 0.9718250256879714, 0.9718250256879714, 0.9718250256879714, 0.9718250256879714, 0.9718250256879714, 0.9718250256879714, 0.9718250256879714, 0.9718250256879714, 0.9718250256879714, 0.9718250256879714, 0.9718250256879714, 0.9718250256879714, 0.9718250256879714, 0.9718250256879714, 0.9718250256879714, 0.9718250256879714, 0.9718250256879714, 0.9718250256879714, 0.9718250256879714, 0.9718250256879714, 0.9718250256879714, 0.9718250256879714, 0.9841856940401735, 0.9841856940401735, 0.9847380575606349, 0.9929631157415851, 0.9929631157415851, 0.9929631157415851, 0.9929631157415851, 0.9929631157415851, 0.9929631157415851, 0.9929631157415851, 0.9929631157415851, 0.9929631157415851, 0.9929631157415851, 0.9929631157415851, 0.9929631157415851, 0.9929631157415851, 0.9929631157415851, 0.9929631157415851, 0.9929631157415851, 0.9929631157415851, 0.9929631157415851, 0.9929631157415851, 0.9929631157415851, 0.9929631157415851, 0.9929631157415851, 0.9929631157415851, 0.9929631157415851, 0.9929631157415851, 0.9929631157415851, 0.9929631157415851, 0.9929631157415851, 0.9929631157415851, 0.9929631157415851, 0.9929631157415851, 0.9929631157415851, 0.9929631157415851, 0.9929631157415851, 0.9929631157415851, 0.9929631157415851, 0.9929631157415851, 0.9941236718260121, 0.9941236718260121]}], \"precision_score_micro\": [{\"categories\": [\"0\", \"1\", \"2\", \"3\", \"4\", \"5\", \"6\", \"7\", \"8\", \"9\", \"10\", \"11\", \"12\", \"13\", \"14\", \"15\", \"16\", \"17\", \"18\", \"19\", \"20\", \"21\", \"22\", \"23\", \"24\", \"25\", \"26\", \"27\", \"28\", \"29\", \"30\", \"31\", \"32\", \"33\", \"34\", \"35\", \"36\", \"37\", \"38\", \"39\", \"40\", \"41\", \"42\", \"43\", \"44\", \"45\", \"46\", \"47\", \"48\", \"49\", \"50\", \"51\", \"52\", \"53\", \"54\", \"55\", \"56\", \"57\", \"58\", \"59\", \"60\", \"61\", \"62\", \"64\", \"72\", \"73\"], \"mode\": \"markers\", \"name\": \"precision_score_micro\", \"stepped\": false, \"type\": \"scatter\", \"data\": [0.9717230609057783, 0.9658320319278154, 0.8868696859274683, 0.9204528891202498, 0.9304737116085372, 0.8491428075655041, 0.9216328301231996, 0.7843727225403436, 0.9234010064202673, 0.9652385910116259, 0.8927624501127884, 0.8149904563595352, 0.8491393371507895, 0.9593527676557349, 0.8232309560992539, 0.9510949158424433, 0.8620909248655213, 0.8892139510671525, 0.8909908034010063, 0.929875065070276, 0.9062988027069234, 0.7955266354329342, 0.9387211521776854, 0.9457921221585979, 0.9840985597778934, 0.8497622765920527, 0.9846867950720111, 0.9929290300190873, 0.9840985597778934, 0.9929290300190873, 0.9375446815894499, 0.953461738677772, 0.9829134131528718, 0.9393059170570883, 0.9345878882526462, 0.06543293423564116, 0.9799774423043554, 0.9793857365955232, 0.9605309734513273, 0.926338712476141, 0.09309734513274337, 0.9799774423043554, 0.9829220891896581, 0.9929290300190873, 0.9929290300190873, 0.9882179420440742, 0.9670085025160506, 0.9793857365955232, 0.9699652958528544, 0.9929290300190873, 0.12256290126670137, 0.9640690612528197, 0.9776192955058131, 0.9929290300190873, 0.9846867950720111, 0.8491653652611486, 0.9705587367690438, 0.9740812077043206, 0.9799757070969981, 0.9782023251778588, 0.891584244317196, 0.9811573833073052, 0.9705552663543294, 0.9776123546763837, 0.9941089710220371, 0.9905726184279022]}, {\"categories\": [\"0\", \"1\", \"2\", \"3\", \"4\", \"5\", \"6\", \"7\", \"8\", \"9\", \"10\", \"11\", \"12\", \"13\", \"14\", \"15\", \"16\", \"17\", \"18\", \"19\", \"20\", \"21\", \"22\", \"23\", \"24\", \"25\", \"26\", \"27\", \"28\", \"29\", \"30\", \"31\", \"32\", \"33\", \"34\", \"35\", \"36\", \"37\", \"38\", \"39\", \"40\", \"41\", \"42\", \"43\", \"44\", \"45\", \"46\", \"47\", \"48\", \"49\", \"50\", \"51\", \"52\", \"53\", \"54\", \"55\", \"56\", \"57\", \"58\", \"59\", \"60\", \"61\", \"62\", \"64\", \"72\", \"73\"], \"mode\": \"lines\", \"name\": \"precision_score_micro_max\", \"stepped\": true, \"type\": \"scatter\", \"data\": [0.9717230609057783, 0.9717230609057783, 0.9717230609057783, 0.9717230609057783, 0.9717230609057783, 0.9717230609057783, 0.9717230609057783, 0.9717230609057783, 0.9717230609057783, 0.9717230609057783, 0.9717230609057783, 0.9717230609057783, 0.9717230609057783, 0.9717230609057783, 0.9717230609057783, 0.9717230609057783, 0.9717230609057783, 0.9717230609057783, 0.9717230609057783, 0.9717230609057783, 0.9717230609057783, 0.9717230609057783, 0.9717230609057783, 0.9717230609057783, 0.9840985597778934, 0.9840985597778934, 0.9846867950720111, 0.9929290300190873, 0.9929290300190873, 0.9929290300190873, 0.9929290300190873, 0.9929290300190873, 0.9929290300190873, 0.9929290300190873, 0.9929290300190873, 0.9929290300190873, 0.9929290300190873, 0.9929290300190873, 0.9929290300190873, 0.9929290300190873, 0.9929290300190873, 0.9929290300190873, 0.9929290300190873, 0.9929290300190873, 0.9929290300190873, 0.9929290300190873, 0.9929290300190873, 0.9929290300190873, 0.9929290300190873, 0.9929290300190873, 0.9929290300190873, 0.9929290300190873, 0.9929290300190873, 0.9929290300190873, 0.9929290300190873, 0.9929290300190873, 0.9929290300190873, 0.9929290300190873, 0.9929290300190873, 0.9929290300190873, 0.9929290300190873, 0.9929290300190873, 0.9929290300190873, 0.9929290300190873, 0.9941089710220371, 0.9941089710220371]}], \"weighted_accuracy\": [{\"categories\": [\"0\", \"1\", \"2\", \"3\", \"4\", \"5\", \"6\", \"7\", \"8\", \"9\", \"10\", \"11\", \"12\", \"13\", \"14\", \"15\", \"16\", \"17\", \"18\", \"19\", \"20\", \"21\", \"22\", \"23\", \"24\", \"25\", \"26\", \"27\", \"28\", \"29\", \"30\", \"31\", \"32\", \"33\", \"34\", \"35\", \"36\", \"37\", \"38\", \"39\", \"40\", \"41\", \"42\", \"43\", \"44\", \"45\", \"46\", \"47\", \"48\", \"49\", \"50\", \"51\", \"52\", \"53\", \"54\", \"55\", \"56\", \"57\", \"58\", \"59\", \"60\", \"61\", \"62\", \"64\", \"72\", \"73\"], \"mode\": \"markers\", \"name\": \"weighted_accuracy\", \"stepped\": false, \"type\": \"scatter\", \"data\": [0.9708185722029322, 0.9647085164720718, 0.8859545790728458, 0.9199255244402854, 0.9287325069259749, 0.8474794791559278, 0.9214777826955315, 0.7794203211911869, 0.9224236204608423, 0.9655272845860907, 0.8907442336190371, 0.81224297839965, 0.8498604849136301, 0.9587146456384115, 0.8200577676752792, 0.9510047125634198, 0.8598016058608376, 0.8875954984571829, 0.8905227169819661, 0.9284227463726644, 0.9057180296059917, 0.7962048705113363, 0.9375423881013989, 0.944264193274287, 0.9838928290562203, 0.8472863878463684, 0.9845663776865077, 0.9929816847844466, 0.9839516235881469, 0.9930327529604615, 0.935840359540012, 0.9523770939242187, 0.9826703876731511, 0.9392112466284518, 0.9339931275394194, 0.05495228197279715, 0.9804284808622787, 0.9793083616293611, 0.9610151771040265, 0.9260898278716116, 0.08534697311365573, 0.9804987625645701, 0.9831078926322471, 0.9929816847844466, 0.9929816847844466, 0.9879540360101435, 0.9670662087927479, 0.9792424244034341, 0.9693919885069686, 0.9929816847844466, 0.11853942922299199, 0.9642698677613746, 0.9776888679743371, 0.9929816847844466, 0.9844696918559679, 0.8470938373706094, 0.9704637828409066, 0.9740854300053634, 0.9805053310387251, 0.977989649906319, 0.8906124127930782, 0.9816522582252363, 0.9699093636902058, 0.9773792217587989, 0.9940519256798233, 0.990920868781819]}, {\"categories\": [\"0\", \"1\", \"2\", \"3\", \"4\", \"5\", \"6\", \"7\", \"8\", \"9\", \"10\", \"11\", \"12\", \"13\", \"14\", \"15\", \"16\", \"17\", \"18\", \"19\", \"20\", \"21\", \"22\", \"23\", \"24\", \"25\", \"26\", \"27\", \"28\", \"29\", \"30\", \"31\", \"32\", \"33\", \"34\", \"35\", \"36\", \"37\", \"38\", \"39\", \"40\", \"41\", \"42\", \"43\", \"44\", \"45\", \"46\", \"47\", \"48\", \"49\", \"50\", \"51\", \"52\", \"53\", \"54\", \"55\", \"56\", \"57\", \"58\", \"59\", \"60\", \"61\", \"62\", \"64\", \"72\", \"73\"], \"mode\": \"lines\", \"name\": \"weighted_accuracy_max\", \"stepped\": true, \"type\": \"scatter\", \"data\": [0.9708185722029322, 0.9708185722029322, 0.9708185722029322, 0.9708185722029322, 0.9708185722029322, 0.9708185722029322, 0.9708185722029322, 0.9708185722029322, 0.9708185722029322, 0.9708185722029322, 0.9708185722029322, 0.9708185722029322, 0.9708185722029322, 0.9708185722029322, 0.9708185722029322, 0.9708185722029322, 0.9708185722029322, 0.9708185722029322, 0.9708185722029322, 0.9708185722029322, 0.9708185722029322, 0.9708185722029322, 0.9708185722029322, 0.9708185722029322, 0.9838928290562203, 0.9838928290562203, 0.9845663776865077, 0.9929816847844466, 0.9929816847844466, 0.9930327529604615, 0.9930327529604615, 0.9930327529604615, 0.9930327529604615, 0.9930327529604615, 0.9930327529604615, 0.9930327529604615, 0.9930327529604615, 0.9930327529604615, 0.9930327529604615, 0.9930327529604615, 0.9930327529604615, 0.9930327529604615, 0.9930327529604615, 0.9930327529604615, 0.9930327529604615, 0.9930327529604615, 0.9930327529604615, 0.9930327529604615, 0.9930327529604615, 0.9930327529604615, 0.9930327529604615, 0.9930327529604615, 0.9930327529604615, 0.9930327529604615, 0.9930327529604615, 0.9930327529604615, 0.9930327529604615, 0.9930327529604615, 0.9930327529604615, 0.9930327529604615, 0.9930327529604615, 0.9930327529604615, 0.9930327529604615, 0.9930327529604615, 0.9940519256798233, 0.9940519256798233]}], \"recall_score_weighted\": [{\"categories\": [\"0\", \"1\", \"2\", \"3\", \"4\", \"5\", \"6\", \"7\", \"8\", \"9\", \"10\", \"11\", \"12\", \"13\", \"14\", \"15\", \"16\", \"17\", \"18\", \"19\", \"20\", \"21\", \"22\", \"23\", \"24\", \"25\", \"26\", \"27\", \"28\", \"29\", \"30\", \"31\", \"32\", \"33\", \"34\", \"35\", \"36\", \"37\", \"38\", \"39\", \"40\", \"41\", \"42\", \"43\", \"44\", \"45\", \"46\", \"47\", \"48\", \"49\", \"50\", \"51\", \"52\", \"53\", \"54\", \"55\", \"56\", \"57\", \"58\", \"59\", \"60\", \"61\", \"62\", \"64\", \"72\", \"73\"], \"mode\": \"markers\", \"name\": \"recall_score_weighted\", \"stepped\": false, \"type\": \"scatter\", \"data\": [0.9717230609057783, 0.9658320319278154, 0.8868696859274683, 0.9204528891202498, 0.9304737116085372, 0.8491428075655041, 0.9216328301231996, 0.7843727225403436, 0.9234010064202673, 0.9652385910116259, 0.8927624501127884, 0.8149904563595352, 0.8491393371507895, 0.9593527676557349, 0.8232309560992539, 0.9510949158424433, 0.8620909248655213, 0.8892139510671525, 0.8909908034010063, 0.929875065070276, 0.9062988027069234, 0.7955266354329342, 0.9387211521776854, 0.9457921221585979, 0.9840985597778934, 0.8497622765920527, 0.9846867950720111, 0.9929290300190873, 0.9840985597778934, 0.9929290300190873, 0.9375446815894499, 0.953461738677772, 0.9829134131528718, 0.9393059170570883, 0.9345878882526462, 0.06543293423564116, 0.9799774423043554, 0.9793857365955232, 0.9605309734513273, 0.926338712476141, 0.09309734513274337, 0.9799774423043554, 0.9829220891896581, 0.9929290300190873, 0.9929290300190873, 0.9882179420440742, 0.9670085025160506, 0.9793857365955232, 0.9699652958528544, 0.9929290300190873, 0.12256290126670137, 0.9640690612528197, 0.9776192955058131, 0.9929290300190873, 0.9846867950720111, 0.8491653652611486, 0.9705587367690438, 0.9740812077043206, 0.9799757070969981, 0.9782023251778588, 0.891584244317196, 0.9811573833073052, 0.9705552663543294, 0.9776123546763837, 0.9941089710220371, 0.9905726184279022]}, {\"categories\": [\"0\", \"1\", \"2\", \"3\", \"4\", \"5\", \"6\", \"7\", \"8\", \"9\", \"10\", \"11\", \"12\", \"13\", \"14\", \"15\", \"16\", \"17\", \"18\", \"19\", \"20\", \"21\", \"22\", \"23\", \"24\", \"25\", \"26\", \"27\", \"28\", \"29\", \"30\", \"31\", \"32\", \"33\", \"34\", \"35\", \"36\", \"37\", \"38\", \"39\", \"40\", \"41\", \"42\", \"43\", \"44\", \"45\", \"46\", \"47\", \"48\", \"49\", \"50\", \"51\", \"52\", \"53\", \"54\", \"55\", \"56\", \"57\", \"58\", \"59\", \"60\", \"61\", \"62\", \"64\", \"72\", \"73\"], \"mode\": \"lines\", \"name\": \"recall_score_weighted_max\", \"stepped\": true, \"type\": \"scatter\", \"data\": [0.9717230609057783, 0.9717230609057783, 0.9717230609057783, 0.9717230609057783, 0.9717230609057783, 0.9717230609057783, 0.9717230609057783, 0.9717230609057783, 0.9717230609057783, 0.9717230609057783, 0.9717230609057783, 0.9717230609057783, 0.9717230609057783, 0.9717230609057783, 0.9717230609057783, 0.9717230609057783, 0.9717230609057783, 0.9717230609057783, 0.9717230609057783, 0.9717230609057783, 0.9717230609057783, 0.9717230609057783, 0.9717230609057783, 0.9717230609057783, 0.9840985597778934, 0.9840985597778934, 0.9846867950720111, 0.9929290300190873, 0.9929290300190873, 0.9929290300190873, 0.9929290300190873, 0.9929290300190873, 0.9929290300190873, 0.9929290300190873, 0.9929290300190873, 0.9929290300190873, 0.9929290300190873, 0.9929290300190873, 0.9929290300190873, 0.9929290300190873, 0.9929290300190873, 0.9929290300190873, 0.9929290300190873, 0.9929290300190873, 0.9929290300190873, 0.9929290300190873, 0.9929290300190873, 0.9929290300190873, 0.9929290300190873, 0.9929290300190873, 0.9929290300190873, 0.9929290300190873, 0.9929290300190873, 0.9929290300190873, 0.9929290300190873, 0.9929290300190873, 0.9929290300190873, 0.9929290300190873, 0.9929290300190873, 0.9929290300190873, 0.9929290300190873, 0.9929290300190873, 0.9929290300190873, 0.9929290300190873, 0.9941089710220371, 0.9941089710220371]}], \"norm_macro_recall\": [{\"categories\": [\"0\", \"1\", \"2\", \"3\", \"4\", \"5\", \"6\", \"7\", \"8\", \"9\", \"10\", \"11\", \"12\", \"13\", \"14\", \"15\", \"16\", \"17\", \"18\", \"19\", \"20\", \"21\", \"22\", \"23\", \"24\", \"25\", \"26\", \"27\", \"28\", \"29\", \"30\", \"31\", \"32\", \"33\", \"34\", \"35\", \"36\", \"37\", \"38\", \"39\", \"40\", \"41\", \"42\", \"43\", \"44\", \"45\", \"46\", \"47\", \"48\", \"49\", \"50\", \"51\", \"52\", \"53\", \"54\", \"55\", \"56\", \"57\", \"58\", \"59\", \"60\", \"61\", \"62\", \"64\", \"72\", \"73\"], \"mode\": \"markers\", \"name\": \"norm_macro_recall\", \"stepped\": false, \"type\": \"scatter\", \"data\": [0.9698571006583743, 0.9632843667497728, 0.875541101220825, 0.9120704730968878, 0.9244931171386783, 0.8340652055951843, 0.9124139358060639, 0.7661173960852621, 0.9154555565951089, 0.9610431663317177, 0.8825698560434034, 0.7964516402688033, 0.8314715648180883, 0.9557595603238186, 0.8067994127929289, 0.9457451619295751, 0.8490272813677672, 0.8785636562577099, 0.8791066833099641, 0.9236488669222371, 0.8963521834328345, 0.7720176676975373, 0.9329703019689151, 0.9415392814514861, 0.9824939706584527, 0.8356992980116704, 0.9830573912218734, 0.9921569998449083, 0.982440107271256, 0.9920746953181594, 0.9325020859689195, 0.9495348143109347, 0.981486201019792, 0.9327441370876548, 0.9280929777005797, 0.0, 0.9771409277824024, 0.9772362588557216, 0.9554208960459558, 0.9181931670860513, 0.0, 0.9770681277096024, 0.9806938063947035, 0.9921569998449083, 0.9921569998449083, 0.9870567598756079, 0.9629293260470441, 0.9772976516234712, 0.9671234092934204, 0.9921569998449083, 0.030119391327348755, 0.959493295538168, 0.9751276340903438, 0.9921569998449083, 0.9831288912933733, 0.834738244877886, 0.9670332410433058, 0.9712702140561591, 0.9770523224306391, 0.9760483328016605, 0.8807632263560159, 0.9784396290811035, 0.967864150034161, 0.9754310488510433, 0.9935711412590498, 0.9889939627637426]}, {\"categories\": [\"0\", \"1\", \"2\", \"3\", \"4\", \"5\", \"6\", \"7\", \"8\", \"9\", \"10\", \"11\", \"12\", \"13\", \"14\", \"15\", \"16\", \"17\", \"18\", \"19\", \"20\", \"21\", \"22\", \"23\", \"24\", \"25\", \"26\", \"27\", \"28\", \"29\", \"30\", \"31\", \"32\", \"33\", \"34\", \"35\", \"36\", \"37\", \"38\", \"39\", \"40\", \"41\", \"42\", \"43\", \"44\", \"45\", \"46\", \"47\", \"48\", \"49\", \"50\", \"51\", \"52\", \"53\", \"54\", \"55\", \"56\", \"57\", \"58\", \"59\", \"60\", \"61\", \"62\", \"64\", \"72\", \"73\"], \"mode\": \"lines\", \"name\": \"norm_macro_recall_max\", \"stepped\": true, \"type\": \"scatter\", \"data\": [0.9698571006583743, 0.9698571006583743, 0.9698571006583743, 0.9698571006583743, 0.9698571006583743, 0.9698571006583743, 0.9698571006583743, 0.9698571006583743, 0.9698571006583743, 0.9698571006583743, 0.9698571006583743, 0.9698571006583743, 0.9698571006583743, 0.9698571006583743, 0.9698571006583743, 0.9698571006583743, 0.9698571006583743, 0.9698571006583743, 0.9698571006583743, 0.9698571006583743, 0.9698571006583743, 0.9698571006583743, 0.9698571006583743, 0.9698571006583743, 0.9824939706584527, 0.9824939706584527, 0.9830573912218734, 0.9921569998449083, 0.9921569998449083, 0.9921569998449083, 0.9921569998449083, 0.9921569998449083, 0.9921569998449083, 0.9921569998449083, 0.9921569998449083, 0.9921569998449083, 0.9921569998449083, 0.9921569998449083, 0.9921569998449083, 0.9921569998449083, 0.9921569998449083, 0.9921569998449083, 0.9921569998449083, 0.9921569998449083, 0.9921569998449083, 0.9921569998449083, 0.9921569998449083, 0.9921569998449083, 0.9921569998449083, 0.9921569998449083, 0.9921569998449083, 0.9921569998449083, 0.9921569998449083, 0.9921569998449083, 0.9921569998449083, 0.9921569998449083, 0.9921569998449083, 0.9921569998449083, 0.9921569998449083, 0.9921569998449083, 0.9921569998449083, 0.9921569998449083, 0.9921569998449083, 0.9921569998449083, 0.9935711412590498, 0.9935711412590498]}], \"log_loss\": [{\"categories\": [\"0\", \"1\", \"2\", \"3\", \"4\", \"5\", \"6\", \"7\", \"8\", \"9\", \"10\", \"11\", \"12\", \"13\", \"14\", \"15\", \"16\", \"17\", \"18\", \"19\", \"20\", \"21\", \"22\", \"23\", \"24\", \"25\", \"26\", \"27\", \"28\", \"29\", \"30\", \"31\", \"32\", \"33\", \"34\", \"35\", \"36\", \"37\", \"38\", \"39\", \"40\", \"41\", \"42\", \"43\", \"44\", \"45\", \"46\", \"47\", \"48\", \"49\", \"50\", \"51\", \"52\", \"53\", \"54\", \"55\", \"56\", \"57\", \"58\", \"59\", \"60\", \"61\", \"62\", \"64\", \"72\", \"73\"], \"mode\": \"markers\", \"name\": \"log_loss\", \"stepped\": false, \"type\": \"scatter\", \"data\": [0.09356537691309562, 0.12222284555591663, 0.8057210992288205, 1.065970673701364, 0.6580419106859465, 0.9482783979638005, 0.5579949079383237, 1.135121178253494, 0.8040882938502693, 0.17911536862045502, 1.1608220862790715, 1.2313225074789333, 1.403732988142, 0.29555554563568803, 0.9885226197045934, 0.35527007683997736, 1.1850097107199569, 1.3746972230339627, 1.1367275732335798, 0.9573538392648896, 0.664219710955624, 1.2252924922898605, 0.8742706511379883, 0.29769114240607764, 0.10304543343973938, 1.4697723005391503, 0.10025761037582422, 0.0727640684288687, 0.10052362885337048, 0.07243154235378993, 0.660811957644172, 0.19162705320057022, 0.12416790661259709, 0.5107219418692522, 0.6149166324818636, 2.3214912732087076, 0.10715170968679957, 0.11859210833163143, 0.505793344694847, 0.4606345796477386, 2.3201034733238584, 0.10897499891521423, 0.10741074441205804, 0.07224229408126744, 0.07309557987312938, 0.093358750068707, 0.10975530801076175, 0.11903539867769512, 0.14133793640364953, 0.0726098598204726, 2.300662059705311, 0.16444358662729636, 0.11780387604945468, 0.07276263199017922, 0.1029221794190239, 0.5026048277674033, 0.15549184447870792, 0.09137836211414536, 0.10863270653154397, 0.0891234348298886, 0.6283809689732797, 0.10733684707345784, 0.14129469518956012, 0.08927008424658808, 0.1205267096078017, 0.04740733251737089]}, {\"categories\": [\"0\", \"1\", \"2\", \"3\", \"4\", \"5\", \"6\", \"7\", \"8\", \"9\", \"10\", \"11\", \"12\", \"13\", \"14\", \"15\", \"16\", \"17\", \"18\", \"19\", \"20\", \"21\", \"22\", \"23\", \"24\", \"25\", \"26\", \"27\", \"28\", \"29\", \"30\", \"31\", \"32\", \"33\", \"34\", \"35\", \"36\", \"37\", \"38\", \"39\", \"40\", \"41\", \"42\", \"43\", \"44\", \"45\", \"46\", \"47\", \"48\", \"49\", \"50\", \"51\", \"52\", \"53\", \"54\", \"55\", \"56\", \"57\", \"58\", \"59\", \"60\", \"61\", \"62\", \"64\", \"72\", \"73\"], \"mode\": \"lines\", \"name\": \"log_loss_min\", \"stepped\": true, \"type\": \"scatter\", \"data\": [0.09356537691309562, 0.09356537691309562, 0.09356537691309562, 0.09356537691309562, 0.09356537691309562, 0.09356537691309562, 0.09356537691309562, 0.09356537691309562, 0.09356537691309562, 0.09356537691309562, 0.09356537691309562, 0.09356537691309562, 0.09356537691309562, 0.09356537691309562, 0.09356537691309562, 0.09356537691309562, 0.09356537691309562, 0.09356537691309562, 0.09356537691309562, 0.09356537691309562, 0.09356537691309562, 0.09356537691309562, 0.09356537691309562, 0.09356537691309562, 0.09356537691309562, 0.09356537691309562, 0.09356537691309562, 0.0727640684288687, 0.0727640684288687, 0.07243154235378993, 0.07243154235378993, 0.07243154235378993, 0.07243154235378993, 0.07243154235378993, 0.07243154235378993, 0.07243154235378993, 0.07243154235378993, 0.07243154235378993, 0.07243154235378993, 0.07243154235378993, 0.07243154235378993, 0.07243154235378993, 0.07243154235378993, 0.07224229408126744, 0.07224229408126744, 0.07224229408126744, 0.07224229408126744, 0.07224229408126744, 0.07224229408126744, 0.07224229408126744, 0.07224229408126744, 0.07224229408126744, 0.07224229408126744, 0.07224229408126744, 0.07224229408126744, 0.07224229408126744, 0.07224229408126744, 0.07224229408126744, 0.07224229408126744, 0.07224229408126744, 0.07224229408126744, 0.07224229408126744, 0.07224229408126744, 0.07224229408126744, 0.07224229408126744, 0.04740733251737089]}], \"accuracy\": [{\"categories\": [\"0\", \"1\", \"2\", \"3\", \"4\", \"5\", \"6\", \"7\", \"8\", \"9\", \"10\", \"11\", \"12\", \"13\", \"14\", \"15\", \"16\", \"17\", \"18\", \"19\", \"20\", \"21\", \"22\", \"23\", \"24\", \"25\", \"26\", \"27\", \"28\", \"29\", \"30\", \"31\", \"32\", \"33\", \"34\", \"35\", \"36\", \"37\", \"38\", \"39\", \"40\", \"41\", \"42\", \"43\", \"44\", \"45\", \"46\", \"47\", \"48\", \"49\", \"50\", \"51\", \"52\", \"53\", \"54\", \"55\", \"56\", \"57\", \"58\", \"59\", \"60\", \"61\", \"62\", \"64\", \"72\", \"73\"], \"mode\": \"markers\", \"name\": \"accuracy\", \"stepped\": false, \"type\": \"scatter\", \"data\": [0.9717230609057783, 0.9658320319278154, 0.8868696859274683, 0.9204528891202498, 0.9304737116085372, 0.8491428075655041, 0.9216328301231996, 0.7843727225403436, 0.9234010064202673, 0.9652385910116259, 0.8927624501127884, 0.8149904563595352, 0.8491393371507895, 0.9593527676557349, 0.8232309560992539, 0.9510949158424433, 0.8620909248655213, 0.8892139510671525, 0.8909908034010063, 0.929875065070276, 0.9062988027069234, 0.7955266354329342, 0.9387211521776854, 0.9457921221585979, 0.9840985597778934, 0.8497622765920527, 0.9846867950720111, 0.9929290300190873, 0.9840985597778934, 0.9929290300190873, 0.9375446815894499, 0.953461738677772, 0.9829134131528718, 0.9393059170570883, 0.9345878882526462, 0.06543293423564116, 0.9799774423043554, 0.9793857365955232, 0.9605309734513273, 0.926338712476141, 0.09309734513274337, 0.9799774423043554, 0.9829220891896581, 0.9929290300190873, 0.9929290300190873, 0.9882179420440742, 0.9670085025160506, 0.9793857365955232, 0.9699652958528544, 0.9929290300190873, 0.12256290126670137, 0.9640690612528197, 0.9776192955058131, 0.9929290300190873, 0.9846867950720111, 0.8491653652611486, 0.9705587367690438, 0.9740812077043206, 0.9799757070969981, 0.9782023251778588, 0.891584244317196, 0.9811573833073052, 0.9705552663543294, 0.9776123546763837, 0.9941089710220371, 0.9905726184279022]}, {\"categories\": [\"0\", \"1\", \"2\", \"3\", \"4\", \"5\", \"6\", \"7\", \"8\", \"9\", \"10\", \"11\", \"12\", \"13\", \"14\", \"15\", \"16\", \"17\", \"18\", \"19\", \"20\", \"21\", \"22\", \"23\", \"24\", \"25\", \"26\", \"27\", \"28\", \"29\", \"30\", \"31\", \"32\", \"33\", \"34\", \"35\", \"36\", \"37\", \"38\", \"39\", \"40\", \"41\", \"42\", \"43\", \"44\", \"45\", \"46\", \"47\", \"48\", \"49\", \"50\", \"51\", \"52\", \"53\", \"54\", \"55\", \"56\", \"57\", \"58\", \"59\", \"60\", \"61\", \"62\", \"64\", \"72\", \"73\"], \"mode\": \"lines\", \"name\": \"accuracy_max\", \"stepped\": true, \"type\": \"scatter\", \"data\": [0.9717230609057783, 0.9717230609057783, 0.9717230609057783, 0.9717230609057783, 0.9717230609057783, 0.9717230609057783, 0.9717230609057783, 0.9717230609057783, 0.9717230609057783, 0.9717230609057783, 0.9717230609057783, 0.9717230609057783, 0.9717230609057783, 0.9717230609057783, 0.9717230609057783, 0.9717230609057783, 0.9717230609057783, 0.9717230609057783, 0.9717230609057783, 0.9717230609057783, 0.9717230609057783, 0.9717230609057783, 0.9717230609057783, 0.9717230609057783, 0.9840985597778934, 0.9840985597778934, 0.9846867950720111, 0.9929290300190873, 0.9929290300190873, 0.9929290300190873, 0.9929290300190873, 0.9929290300190873, 0.9929290300190873, 0.9929290300190873, 0.9929290300190873, 0.9929290300190873, 0.9929290300190873, 0.9929290300190873, 0.9929290300190873, 0.9929290300190873, 0.9929290300190873, 0.9929290300190873, 0.9929290300190873, 0.9929290300190873, 0.9929290300190873, 0.9929290300190873, 0.9929290300190873, 0.9929290300190873, 0.9929290300190873, 0.9929290300190873, 0.9929290300190873, 0.9929290300190873, 0.9929290300190873, 0.9929290300190873, 0.9929290300190873, 0.9929290300190873, 0.9929290300190873, 0.9929290300190873, 0.9929290300190873, 0.9929290300190873, 0.9929290300190873, 0.9929290300190873, 0.9929290300190873, 0.9929290300190873, 0.9941089710220371, 0.9941089710220371]}], \"average_precision_score_weighted\": [{\"categories\": [\"0\", \"1\", \"2\", \"3\", \"4\", \"5\", \"6\", \"7\", \"8\", \"9\", \"10\", \"11\", \"12\", \"13\", \"14\", \"15\", \"16\", \"17\", \"18\", \"19\", \"20\", \"21\", \"22\", \"23\", \"24\", \"25\", \"26\", \"27\", \"28\", \"29\", \"30\", \"31\", \"32\", \"33\", \"34\", \"35\", \"36\", \"37\", \"38\", \"39\", \"40\", \"41\", \"42\", \"43\", \"44\", \"45\", \"46\", \"47\", \"48\", \"49\", \"50\", \"51\", \"52\", \"53\", \"54\", \"55\", \"56\", \"57\", \"58\", \"59\", \"60\", \"61\", \"62\", \"64\", \"72\", \"73\"], \"mode\": \"markers\", \"name\": \"average_precision_score_weighted\", \"stepped\": false, \"type\": \"scatter\", \"data\": [0.995993474196436, 0.9947486543539463, 0.9447084358551777, 0.9627059270686532, 0.974259385611866, 0.9127804078596178, 0.9700840656842009, 0.8715239409318347, 0.9629624754322104, 0.9928194107775014, 0.944181781353868, 0.8919746403067739, 0.9048447740790733, 0.9866530260822172, 0.8975170619998394, 0.9865355930876516, 0.9285234823426866, 0.9419514044816012, 0.9465419680710128, 0.975120272321572, 0.9602664085409705, 0.8798622574116969, 0.9747806758472347, 0.9872723432079956, 0.9973494745765675, 0.9233637651413076, 0.997250083738542, 0.9994286708357185, 0.9973015931956329, 0.9994384123385045, 0.9787309749971443, 0.9885017673302524, 0.9957193571845329, 0.9816055903866261, 0.9763337430563434, 0.05473098430102937, 0.9971449248683607, 0.99647022857608, 0.9882498718207456, 0.9711190327483601, 0.1347526284750576, 0.9970301576180406, 0.9970683119457077, 0.999470201157072, 0.9994740366228866, 0.9986622147595934, 0.993851957647282, 0.9963654267296682, 0.9881521263403072, 0.9994844902958011, 0.13453048639089737, 0.9912153747707274, 0.9963370450436582, 0.9994458846120728, 0.9973416523436749, 0.9084835928957039, 0.9896796075340608, 0.9941867698963893, 0.9971133998171494, 0.9937303187153596, 0.9401895853981757, 0.997173075630134, 0.988261440373158, 0.9937069902762647, 0.9995968649397176, 0.9995107571336288]}, {\"categories\": [\"0\", \"1\", \"2\", \"3\", \"4\", \"5\", \"6\", \"7\", \"8\", \"9\", \"10\", \"11\", \"12\", \"13\", \"14\", \"15\", \"16\", \"17\", \"18\", \"19\", \"20\", \"21\", \"22\", \"23\", \"24\", \"25\", \"26\", \"27\", \"28\", \"29\", \"30\", \"31\", \"32\", \"33\", \"34\", \"35\", \"36\", \"37\", \"38\", \"39\", \"40\", \"41\", \"42\", \"43\", \"44\", \"45\", \"46\", \"47\", \"48\", \"49\", \"50\", \"51\", \"52\", \"53\", \"54\", \"55\", \"56\", \"57\", \"58\", \"59\", \"60\", \"61\", \"62\", \"64\", \"72\", \"73\"], \"mode\": \"lines\", \"name\": \"average_precision_score_weighted_max\", \"stepped\": true, \"type\": \"scatter\", \"data\": [0.995993474196436, 0.995993474196436, 0.995993474196436, 0.995993474196436, 0.995993474196436, 0.995993474196436, 0.995993474196436, 0.995993474196436, 0.995993474196436, 0.995993474196436, 0.995993474196436, 0.995993474196436, 0.995993474196436, 0.995993474196436, 0.995993474196436, 0.995993474196436, 0.995993474196436, 0.995993474196436, 0.995993474196436, 0.995993474196436, 0.995993474196436, 0.995993474196436, 0.995993474196436, 0.995993474196436, 0.9973494745765675, 0.9973494745765675, 0.9973494745765675, 0.9994286708357185, 0.9994286708357185, 0.9994384123385045, 0.9994384123385045, 0.9994384123385045, 0.9994384123385045, 0.9994384123385045, 0.9994384123385045, 0.9994384123385045, 0.9994384123385045, 0.9994384123385045, 0.9994384123385045, 0.9994384123385045, 0.9994384123385045, 0.9994384123385045, 0.9994384123385045, 0.999470201157072, 0.9994740366228866, 0.9994740366228866, 0.9994740366228866, 0.9994740366228866, 0.9994740366228866, 0.9994844902958011, 0.9994844902958011, 0.9994844902958011, 0.9994844902958011, 0.9994844902958011, 0.9994844902958011, 0.9994844902958011, 0.9994844902958011, 0.9994844902958011, 0.9994844902958011, 0.9994844902958011, 0.9994844902958011, 0.9994844902958011, 0.9994844902958011, 0.9994844902958011, 0.9995968649397176, 0.9995968649397176]}], \"matthews_correlation\": [{\"categories\": [\"0\", \"1\", \"2\", \"3\", \"4\", \"5\", \"6\", \"7\", \"8\", \"9\", \"10\", \"11\", \"12\", \"13\", \"14\", \"15\", \"16\", \"17\", \"18\", \"19\", \"20\", \"21\", \"22\", \"23\", \"24\", \"25\", \"26\", \"27\", \"28\", \"29\", \"30\", \"31\", \"32\", \"33\", \"34\", \"35\", \"36\", \"37\", \"38\", \"39\", \"40\", \"41\", \"42\", \"43\", \"44\", \"45\", \"46\", \"47\", \"48\", \"49\", \"50\", \"51\", \"52\", \"53\", \"54\", \"55\", \"56\", \"57\", \"58\", \"59\", \"60\", \"61\", \"62\", \"64\", \"72\", \"73\"], \"mode\": \"markers\", \"name\": \"matthews_correlation\", \"stepped\": false, \"type\": \"scatter\", \"data\": [0.9686214024174216, 0.9621291233116306, 0.8747024720733994, 0.9119195906380313, 0.9228279901132506, 0.8328737378850741, 0.9130167796291724, 0.7643190901588388, 0.9151303270192104, 0.9614915499435636, 0.8816548319065912, 0.7983102779430397, 0.8332634917069981, 0.9548737606970421, 0.8046331726483809, 0.945947522555989, 0.8479379289515533, 0.8777461052895399, 0.8793079104047299, 0.9223413572426826, 0.8961456702240695, 0.7757840781811345, 0.9321268610476426, 0.9399874637112507, 0.9823593564828513, 0.8340685017006647, 0.9830050679954875, 0.9921536786142783, 0.9823540551869602, 0.9921517274115988, 0.9307442755973894, 0.9483747038857653, 0.98103690912598, 0.9329941807592552, 0.9277482027357736, -0.062299738498854486, 0.9777649307201909, 0.977097392593204, 0.9561525584401013, 0.9182119133660063, 0.0, 0.9777646187165091, 0.9810474171229829, 0.9921536786142783, 0.9921536786142783, 0.9869040713960558, 0.9633812565112343, 0.977098187062152, 0.9666903344209267, 0.9921536786142783, 0.032198841465137976, 0.9601228081119736, 0.975134553195316, 0.9921536786142783, 0.9830124467281423, 0.8329145424523092, 0.967304840073343, 0.9711992336760538, 0.9777598636660952, 0.9757972875996176, 0.8806268130173486, 0.9790814981665384, 0.967348723939684, 0.9751398904250295, 0.9934604623902341, 0.9895308689876025]}, {\"categories\": [\"0\", \"1\", \"2\", \"3\", \"4\", \"5\", \"6\", \"7\", \"8\", \"9\", \"10\", \"11\", \"12\", \"13\", \"14\", \"15\", \"16\", \"17\", \"18\", \"19\", \"20\", \"21\", \"22\", \"23\", \"24\", \"25\", \"26\", \"27\", \"28\", \"29\", \"30\", \"31\", \"32\", \"33\", \"34\", \"35\", \"36\", \"37\", \"38\", \"39\", \"40\", \"41\", \"42\", \"43\", \"44\", \"45\", \"46\", \"47\", \"48\", \"49\", \"50\", \"51\", \"52\", \"53\", \"54\", \"55\", \"56\", \"57\", \"58\", \"59\", \"60\", \"61\", \"62\", \"64\", \"72\", \"73\"], \"mode\": \"lines\", \"name\": \"matthews_correlation_max\", \"stepped\": true, \"type\": \"scatter\", \"data\": [0.9686214024174216, 0.9686214024174216, 0.9686214024174216, 0.9686214024174216, 0.9686214024174216, 0.9686214024174216, 0.9686214024174216, 0.9686214024174216, 0.9686214024174216, 0.9686214024174216, 0.9686214024174216, 0.9686214024174216, 0.9686214024174216, 0.9686214024174216, 0.9686214024174216, 0.9686214024174216, 0.9686214024174216, 0.9686214024174216, 0.9686214024174216, 0.9686214024174216, 0.9686214024174216, 0.9686214024174216, 0.9686214024174216, 0.9686214024174216, 0.9823593564828513, 0.9823593564828513, 0.9830050679954875, 0.9921536786142783, 0.9921536786142783, 0.9921536786142783, 0.9921536786142783, 0.9921536786142783, 0.9921536786142783, 0.9921536786142783, 0.9921536786142783, 0.9921536786142783, 0.9921536786142783, 0.9921536786142783, 0.9921536786142783, 0.9921536786142783, 0.9921536786142783, 0.9921536786142783, 0.9921536786142783, 0.9921536786142783, 0.9921536786142783, 0.9921536786142783, 0.9921536786142783, 0.9921536786142783, 0.9921536786142783, 0.9921536786142783, 0.9921536786142783, 0.9921536786142783, 0.9921536786142783, 0.9921536786142783, 0.9921536786142783, 0.9921536786142783, 0.9921536786142783, 0.9921536786142783, 0.9921536786142783, 0.9921536786142783, 0.9921536786142783, 0.9921536786142783, 0.9921536786142783, 0.9921536786142783, 0.9934604623902341, 0.9934604623902341]}]}, \"metricName\": null, \"primaryMetricName\": \"AUC_weighted\", \"showLegend\": false}, \"run_metrics\": [{\"name\": \"experiment_status\", \"run_id\": \"AutoML_1dd22a48-91f4-415b-8bd9-1a986ec1d9c8\", \"categories\": [0, 1, 2, 3, 4, 5, 6, 7, 8, 9, 10, 11, 12, 13], \"series\": [{\"data\": [\"DatasetEvaluation\", \"FeaturesGeneration\", \"DatasetFeaturization\", \"DatasetFeaturizationCompleted\", \"DatasetCrossValidationSplit\", \"ModelSelection\", \"BestRunExplainModel\", \"ModelExplanationDataSetSetup\", \"PickSurrogateModel\", \"EngineeredFeatureExplanations\", \"EngineeredFeatureExplanations\", \"RawFeaturesExplanations\", \"RawFeaturesExplanations\", \"BestRunExplainModel\"]}]}, {\"name\": \"experiment_status_description\", \"run_id\": \"AutoML_1dd22a48-91f4-415b-8bd9-1a986ec1d9c8\", \"categories\": [0, 1, 2, 3, 4, 5, 6, 7, 8, 9, 10, 11, 12, 13], \"series\": [{\"data\": [\"Gathering dataset statistics.\", \"Generating features for the dataset.\", \"Beginning to fit featurizers and featurize the dataset.\", \"Completed fit featurizers and featurizing the dataset.\", \"Generating individually featurized CV splits.\", \"Beginning model selection.\", \"Best run model explanations started\", \"Model explanations data setup completed\", \"Choosing LightGBM as the surrogate model for explanations\", \"Computation of engineered features started\", \"Computation of engineered features completed\", \"Computation of raw features started\", \"Computation of raw features completed\", \"Best run model explanations completed\"]}]}, {\"name\": \"recall_score_macro\", \"run_id\": \"AutoML_1dd22a48-91f4-415b-8bd9-1a986ec1d9c8\", \"categories\": [0], \"series\": [{\"data\": [0.9942140271331447]}]}, {\"name\": \"precision_score_weighted\", \"run_id\": \"AutoML_1dd22a48-91f4-415b-8bd9-1a986ec1d9c8\", \"categories\": [0], \"series\": [{\"data\": [0.9943031553229054]}]}, {\"name\": \"f1_score_micro\", \"run_id\": \"AutoML_1dd22a48-91f4-415b-8bd9-1a986ec1d9c8\", \"categories\": [0], \"series\": [{\"data\": [0.9941089710220371]}]}, {\"name\": \"average_precision_score_micro\", \"run_id\": \"AutoML_1dd22a48-91f4-415b-8bd9-1a986ec1d9c8\", \"categories\": [0], \"series\": [{\"data\": [0.9996744873412684]}]}, {\"name\": \"accuracy\", \"run_id\": \"AutoML_1dd22a48-91f4-415b-8bd9-1a986ec1d9c8\", \"categories\": [0], \"series\": [{\"data\": [0.9941089710220371]}]}, {\"name\": \"precision_score_micro\", \"run_id\": \"AutoML_1dd22a48-91f4-415b-8bd9-1a986ec1d9c8\", \"categories\": [0], \"series\": [{\"data\": [0.9941089710220371]}]}, {\"name\": \"recall_score_micro\", \"run_id\": \"AutoML_1dd22a48-91f4-415b-8bd9-1a986ec1d9c8\", \"categories\": [0], \"series\": [{\"data\": [0.9941089710220371]}]}, {\"name\": \"precision_score_macro\", \"run_id\": \"AutoML_1dd22a48-91f4-415b-8bd9-1a986ec1d9c8\", \"categories\": [0], \"series\": [{\"data\": [0.9944097615520029]}]}, {\"name\": \"log_loss\", \"run_id\": \"AutoML_1dd22a48-91f4-415b-8bd9-1a986ec1d9c8\", \"categories\": [0], \"series\": [{\"data\": [0.1205267096078017]}]}, {\"name\": \"weighted_accuracy\", \"run_id\": \"AutoML_1dd22a48-91f4-415b-8bd9-1a986ec1d9c8\", \"categories\": [0], \"series\": [{\"data\": [0.9940519256798233]}]}, {\"name\": \"AUC_micro\", \"run_id\": \"AutoML_1dd22a48-91f4-415b-8bd9-1a986ec1d9c8\", \"categories\": [0], \"series\": [{\"data\": [0.9999611040409114]}]}, {\"name\": \"f1_score_weighted\", \"run_id\": \"AutoML_1dd22a48-91f4-415b-8bd9-1a986ec1d9c8\", \"categories\": [0], \"series\": [{\"data\": [0.9941236718260121]}]}, {\"name\": \"average_precision_score_macro\", \"run_id\": \"AutoML_1dd22a48-91f4-415b-8bd9-1a986ec1d9c8\", \"categories\": [0], \"series\": [{\"data\": [0.9996077667247387]}]}, {\"name\": \"AUC_weighted\", \"run_id\": \"AutoML_1dd22a48-91f4-415b-8bd9-1a986ec1d9c8\", \"categories\": [0], \"series\": [{\"data\": [0.9999478628922382]}]}, {\"name\": \"norm_macro_recall\", \"run_id\": \"AutoML_1dd22a48-91f4-415b-8bd9-1a986ec1d9c8\", \"categories\": [0], \"series\": [{\"data\": [0.9935711412590498]}]}, {\"name\": \"average_precision_score_weighted\", \"run_id\": \"AutoML_1dd22a48-91f4-415b-8bd9-1a986ec1d9c8\", \"categories\": [0], \"series\": [{\"data\": [0.9995968649397176]}]}, {\"name\": \"AUC_macro\", \"run_id\": \"AutoML_1dd22a48-91f4-415b-8bd9-1a986ec1d9c8\", \"categories\": [0], \"series\": [{\"data\": [0.9999492902476458]}]}, {\"name\": \"matthews_correlation\", \"run_id\": \"AutoML_1dd22a48-91f4-415b-8bd9-1a986ec1d9c8\", \"categories\": [0], \"series\": [{\"data\": [0.9934604623902341]}]}, {\"name\": \"f1_score_macro\", \"run_id\": \"AutoML_1dd22a48-91f4-415b-8bd9-1a986ec1d9c8\", \"categories\": [0], \"series\": [{\"data\": [0.9942300324824757]}]}, {\"name\": \"balanced_accuracy\", \"run_id\": \"AutoML_1dd22a48-91f4-415b-8bd9-1a986ec1d9c8\", \"categories\": [0], \"series\": [{\"data\": [0.9942140271331447]}]}, {\"name\": \"recall_score_weighted\", \"run_id\": \"AutoML_1dd22a48-91f4-415b-8bd9-1a986ec1d9c8\", \"categories\": [0], \"series\": [{\"data\": [0.9941089710220371]}]}], \"run_logs\": \"\\nRun is completed.\", \"graph\": {}, \"widget_settings\": {\"childWidgetDisplay\": \"popup\", \"send_telemetry\": false, \"log_level\": \"INFO\", \"sdk_version\": \"1.19.0\"}, \"loading\": false}"
          },
          "metadata": {}
        }
      ],
      "execution_count": 12,
      "metadata": {
        "gather": {
          "logged": 1609980938526
        }
      }
    },
    {
      "cell_type": "code",
      "source": [
        "children = list(remote_run.get_children())\n",
        "metricslist = {}\n",
        "for run in children:\n",
        "    properties = run.get_properties()\n",
        "    metrics = {k: v for k, v in run.get_metrics().items() if isinstance(v, float)}\n",
        "    metricslist[int(properties['iteration'])] = metrics\n",
        "\n",
        "import pandas as pd\n",
        "rundata = pd.DataFrame(metricslist).sort_index(1)\n",
        "rundata"
      ],
      "outputs": [
        {
          "output_type": "execute_result",
          "execution_count": 13,
          "data": {
            "text/plain": "                                         0         1         2         3  \\\nweighted_accuracy                 0.970819  0.964709  0.885955  0.919926   \nAUC_micro                         0.999283  0.999121  0.988437  0.993729   \nrecall_score_micro                0.971723  0.965832  0.886870  0.920453   \naverage_precision_score_weighted  0.995993  0.994749  0.944708  0.962706   \nf1_score_macro                    0.971599  0.965691  0.884433  0.918569   \nf1_score_weighted                 0.971825  0.966012  0.885713  0.920080   \nrecall_score_macro                0.972871  0.966956  0.887987  0.920863   \nlog_loss                          0.093565  0.122223  0.805721  1.065971   \naverage_precision_score_micro     0.995619  0.994407  0.943871  0.963063   \nAUC_weighted                      0.999341  0.999124  0.988140  0.993341   \nrecall_score_weighted             0.971723  0.965832  0.886870  0.920453   \nf1_score_micro                    0.971723  0.965832  0.886870  0.920453   \nbalanced_accuracy                 0.972871  0.966956  0.887987  0.920863   \nprecision_score_weighted          0.972846  0.967643  0.890516  0.924370   \nnorm_macro_recall                 0.969857  0.963284  0.875541  0.912070   \nAUC_macro                         0.999375  0.999118  0.988232  0.993267   \naverage_precision_score_macro     0.996110  0.994582  0.943749  0.961495   \naccuracy                          0.971723  0.965832  0.886870  0.920453   \nmatthews_correlation              0.968621  0.962129  0.874702  0.911920   \nprecision_score_macro             0.971306  0.965905  0.887370  0.921234   \nprecision_score_micro             0.971723  0.965832  0.886870  0.920453   \n\n                                         4         5         6         7  \\\nweighted_accuracy                 0.928733  0.847479  0.921478  0.779420   \nAUC_micro                         0.996027  0.982244  0.994386  0.969399   \nrecall_score_micro                0.930474  0.849143  0.921633  0.784373   \naverage_precision_score_weighted  0.974259  0.912780  0.970084  0.871524   \nf1_score_macro                    0.930251  0.847438  0.919614  0.771591   \nf1_score_weighted                 0.930464  0.847006  0.921541  0.771896   \nrecall_score_macro                0.932044  0.850659  0.921173  0.789506   \nlog_loss                          0.658042  0.948278  0.557995  1.135121   \naverage_precision_score_micro     0.976574  0.913483  0.971773  0.844651   \nAUC_weighted                      0.995680  0.981792  0.993746  0.970632   \nrecall_score_weighted             0.930474  0.849143  0.921633  0.784373   \nf1_score_micro                    0.930474  0.849143  0.921633  0.784373   \nbalanced_accuracy                 0.932044  0.850659  0.921173  0.789506   \nprecision_score_weighted          0.932519  0.852588  0.923775  0.806552   \nnorm_macro_recall                 0.924493  0.834065  0.912414  0.766117   \nAUC_macro                         0.995567  0.982016  0.993630  0.970903   \naverage_precision_score_macro     0.973115  0.912205  0.968715  0.870108   \naccuracy                          0.930474  0.849143  0.921633  0.784373   \nmatthews_correlation              0.922828  0.832874  0.913017  0.764319   \nprecision_score_macro             0.930634  0.851738  0.920515  0.800319   \nprecision_score_micro             0.930474  0.849143  0.921633  0.784373   \n\n                                         8         9  ...        64  65  66  \\\nweighted_accuracy                 0.922424  0.965527  ...  0.977379 NaN NaN   \nAUC_micro                         0.993906  0.998757  ...  0.999309 NaN NaN   \nrecall_score_micro                0.923401  0.965239  ...  0.977612 NaN NaN   \naverage_precision_score_weighted  0.962962  0.992819  ...  0.993707 NaN NaN   \nf1_score_macro                    0.922154  0.963804  ...  0.977691 NaN NaN   \nf1_score_weighted                 0.923210  0.964950  ...  0.977648 NaN NaN   \nrecall_score_macro                0.923910  0.964939  ...  0.977888 NaN NaN   \nlog_loss                          0.804088  0.179115  ...  0.089270 NaN NaN   \naverage_precision_score_micro     0.964813  0.993327  ...  0.995338 NaN NaN   \nAUC_weighted                      0.993171  0.998644  ...  0.999146 NaN NaN   \nrecall_score_weighted             0.923401  0.965239  ...  0.977612 NaN NaN   \nf1_score_micro                    0.923401  0.965239  ...  0.977612 NaN NaN   \nbalanced_accuracy                 0.923910  0.964939  ...  0.977888 NaN NaN   \nprecision_score_weighted          0.926734  0.966538  ...  0.978326 NaN NaN   \nnorm_macro_recall                 0.915456  0.961043  ...  0.975431 NaN NaN   \nAUC_macro                         0.993190  0.998537  ...  0.999176 NaN NaN   \naverage_precision_score_macro     0.962103  0.991663  ...  0.993894 NaN NaN   \naccuracy                          0.923401  0.965239  ...  0.977612 NaN NaN   \nmatthews_correlation              0.915130  0.961492  ...  0.975140 NaN NaN   \nprecision_score_macro             0.924072  0.964622  ...  0.978141 NaN NaN   \nprecision_score_micro             0.923401  0.965239  ...  0.977612 NaN NaN   \n\n                                  67  68  69  70  71        72        73  \nweighted_accuracy                NaN NaN NaN NaN NaN  0.994052  0.990921  \nAUC_micro                        NaN NaN NaN NaN NaN  0.999961  0.999928  \nrecall_score_micro               NaN NaN NaN NaN NaN  0.994109  0.990573  \naverage_precision_score_weighted NaN NaN NaN NaN NaN  0.999597  0.999511  \nf1_score_macro                   NaN NaN NaN NaN NaN  0.994230  0.990328  \nf1_score_weighted                NaN NaN NaN NaN NaN  0.994124  0.990603  \nrecall_score_macro               NaN NaN NaN NaN NaN  0.994214  0.990095  \nlog_loss                         NaN NaN NaN NaN NaN  0.120527  0.047407  \naverage_precision_score_micro    NaN NaN NaN NaN NaN  0.999674  0.999436  \nAUC_weighted                     NaN NaN NaN NaN NaN  0.999948  0.999934  \nrecall_score_weighted            NaN NaN NaN NaN NaN  0.994109  0.990573  \nf1_score_micro                   NaN NaN NaN NaN NaN  0.994109  0.990573  \nbalanced_accuracy                NaN NaN NaN NaN NaN  0.994214  0.990095  \nprecision_score_weighted         NaN NaN NaN NaN NaN  0.994303  0.990911  \nnorm_macro_recall                NaN NaN NaN NaN NaN  0.993571  0.988994  \nAUC_macro                        NaN NaN NaN NaN NaN  0.999949  0.999936  \naverage_precision_score_macro    NaN NaN NaN NaN NaN  0.999608  0.999521  \naccuracy                         NaN NaN NaN NaN NaN  0.994109  0.990573  \nmatthews_correlation             NaN NaN NaN NaN NaN  0.993460  0.989531  \nprecision_score_macro            NaN NaN NaN NaN NaN  0.994410  0.990861  \nprecision_score_micro            NaN NaN NaN NaN NaN  0.994109  0.990573  \n\n[21 rows x 74 columns]",
            "text/html": "<div>\n<style scoped>\n    .dataframe tbody tr th:only-of-type {\n        vertical-align: middle;\n    }\n\n    .dataframe tbody tr th {\n        vertical-align: top;\n    }\n\n    .dataframe thead th {\n        text-align: right;\n    }\n</style>\n<table border=\"1\" class=\"dataframe\">\n  <thead>\n    <tr style=\"text-align: right;\">\n      <th></th>\n      <th>0</th>\n      <th>1</th>\n      <th>2</th>\n      <th>3</th>\n      <th>4</th>\n      <th>5</th>\n      <th>6</th>\n      <th>7</th>\n      <th>8</th>\n      <th>9</th>\n      <th>...</th>\n      <th>64</th>\n      <th>65</th>\n      <th>66</th>\n      <th>67</th>\n      <th>68</th>\n      <th>69</th>\n      <th>70</th>\n      <th>71</th>\n      <th>72</th>\n      <th>73</th>\n    </tr>\n  </thead>\n  <tbody>\n    <tr>\n      <th>weighted_accuracy</th>\n      <td>0.970819</td>\n      <td>0.964709</td>\n      <td>0.885955</td>\n      <td>0.919926</td>\n      <td>0.928733</td>\n      <td>0.847479</td>\n      <td>0.921478</td>\n      <td>0.779420</td>\n      <td>0.922424</td>\n      <td>0.965527</td>\n      <td>...</td>\n      <td>0.977379</td>\n      <td>NaN</td>\n      <td>NaN</td>\n      <td>NaN</td>\n      <td>NaN</td>\n      <td>NaN</td>\n      <td>NaN</td>\n      <td>NaN</td>\n      <td>0.994052</td>\n      <td>0.990921</td>\n    </tr>\n    <tr>\n      <th>AUC_micro</th>\n      <td>0.999283</td>\n      <td>0.999121</td>\n      <td>0.988437</td>\n      <td>0.993729</td>\n      <td>0.996027</td>\n      <td>0.982244</td>\n      <td>0.994386</td>\n      <td>0.969399</td>\n      <td>0.993906</td>\n      <td>0.998757</td>\n      <td>...</td>\n      <td>0.999309</td>\n      <td>NaN</td>\n      <td>NaN</td>\n      <td>NaN</td>\n      <td>NaN</td>\n      <td>NaN</td>\n      <td>NaN</td>\n      <td>NaN</td>\n      <td>0.999961</td>\n      <td>0.999928</td>\n    </tr>\n    <tr>\n      <th>recall_score_micro</th>\n      <td>0.971723</td>\n      <td>0.965832</td>\n      <td>0.886870</td>\n      <td>0.920453</td>\n      <td>0.930474</td>\n      <td>0.849143</td>\n      <td>0.921633</td>\n      <td>0.784373</td>\n      <td>0.923401</td>\n      <td>0.965239</td>\n      <td>...</td>\n      <td>0.977612</td>\n      <td>NaN</td>\n      <td>NaN</td>\n      <td>NaN</td>\n      <td>NaN</td>\n      <td>NaN</td>\n      <td>NaN</td>\n      <td>NaN</td>\n      <td>0.994109</td>\n      <td>0.990573</td>\n    </tr>\n    <tr>\n      <th>average_precision_score_weighted</th>\n      <td>0.995993</td>\n      <td>0.994749</td>\n      <td>0.944708</td>\n      <td>0.962706</td>\n      <td>0.974259</td>\n      <td>0.912780</td>\n      <td>0.970084</td>\n      <td>0.871524</td>\n      <td>0.962962</td>\n      <td>0.992819</td>\n      <td>...</td>\n      <td>0.993707</td>\n      <td>NaN</td>\n      <td>NaN</td>\n      <td>NaN</td>\n      <td>NaN</td>\n      <td>NaN</td>\n      <td>NaN</td>\n      <td>NaN</td>\n      <td>0.999597</td>\n      <td>0.999511</td>\n    </tr>\n    <tr>\n      <th>f1_score_macro</th>\n      <td>0.971599</td>\n      <td>0.965691</td>\n      <td>0.884433</td>\n      <td>0.918569</td>\n      <td>0.930251</td>\n      <td>0.847438</td>\n      <td>0.919614</td>\n      <td>0.771591</td>\n      <td>0.922154</td>\n      <td>0.963804</td>\n      <td>...</td>\n      <td>0.977691</td>\n      <td>NaN</td>\n      <td>NaN</td>\n      <td>NaN</td>\n      <td>NaN</td>\n      <td>NaN</td>\n      <td>NaN</td>\n      <td>NaN</td>\n      <td>0.994230</td>\n      <td>0.990328</td>\n    </tr>\n    <tr>\n      <th>f1_score_weighted</th>\n      <td>0.971825</td>\n      <td>0.966012</td>\n      <td>0.885713</td>\n      <td>0.920080</td>\n      <td>0.930464</td>\n      <td>0.847006</td>\n      <td>0.921541</td>\n      <td>0.771896</td>\n      <td>0.923210</td>\n      <td>0.964950</td>\n      <td>...</td>\n      <td>0.977648</td>\n      <td>NaN</td>\n      <td>NaN</td>\n      <td>NaN</td>\n      <td>NaN</td>\n      <td>NaN</td>\n      <td>NaN</td>\n      <td>NaN</td>\n      <td>0.994124</td>\n      <td>0.990603</td>\n    </tr>\n    <tr>\n      <th>recall_score_macro</th>\n      <td>0.972871</td>\n      <td>0.966956</td>\n      <td>0.887987</td>\n      <td>0.920863</td>\n      <td>0.932044</td>\n      <td>0.850659</td>\n      <td>0.921173</td>\n      <td>0.789506</td>\n      <td>0.923910</td>\n      <td>0.964939</td>\n      <td>...</td>\n      <td>0.977888</td>\n      <td>NaN</td>\n      <td>NaN</td>\n      <td>NaN</td>\n      <td>NaN</td>\n      <td>NaN</td>\n      <td>NaN</td>\n      <td>NaN</td>\n      <td>0.994214</td>\n      <td>0.990095</td>\n    </tr>\n    <tr>\n      <th>log_loss</th>\n      <td>0.093565</td>\n      <td>0.122223</td>\n      <td>0.805721</td>\n      <td>1.065971</td>\n      <td>0.658042</td>\n      <td>0.948278</td>\n      <td>0.557995</td>\n      <td>1.135121</td>\n      <td>0.804088</td>\n      <td>0.179115</td>\n      <td>...</td>\n      <td>0.089270</td>\n      <td>NaN</td>\n      <td>NaN</td>\n      <td>NaN</td>\n      <td>NaN</td>\n      <td>NaN</td>\n      <td>NaN</td>\n      <td>NaN</td>\n      <td>0.120527</td>\n      <td>0.047407</td>\n    </tr>\n    <tr>\n      <th>average_precision_score_micro</th>\n      <td>0.995619</td>\n      <td>0.994407</td>\n      <td>0.943871</td>\n      <td>0.963063</td>\n      <td>0.976574</td>\n      <td>0.913483</td>\n      <td>0.971773</td>\n      <td>0.844651</td>\n      <td>0.964813</td>\n      <td>0.993327</td>\n      <td>...</td>\n      <td>0.995338</td>\n      <td>NaN</td>\n      <td>NaN</td>\n      <td>NaN</td>\n      <td>NaN</td>\n      <td>NaN</td>\n      <td>NaN</td>\n      <td>NaN</td>\n      <td>0.999674</td>\n      <td>0.999436</td>\n    </tr>\n    <tr>\n      <th>AUC_weighted</th>\n      <td>0.999341</td>\n      <td>0.999124</td>\n      <td>0.988140</td>\n      <td>0.993341</td>\n      <td>0.995680</td>\n      <td>0.981792</td>\n      <td>0.993746</td>\n      <td>0.970632</td>\n      <td>0.993171</td>\n      <td>0.998644</td>\n      <td>...</td>\n      <td>0.999146</td>\n      <td>NaN</td>\n      <td>NaN</td>\n      <td>NaN</td>\n      <td>NaN</td>\n      <td>NaN</td>\n      <td>NaN</td>\n      <td>NaN</td>\n      <td>0.999948</td>\n      <td>0.999934</td>\n    </tr>\n    <tr>\n      <th>recall_score_weighted</th>\n      <td>0.971723</td>\n      <td>0.965832</td>\n      <td>0.886870</td>\n      <td>0.920453</td>\n      <td>0.930474</td>\n      <td>0.849143</td>\n      <td>0.921633</td>\n      <td>0.784373</td>\n      <td>0.923401</td>\n      <td>0.965239</td>\n      <td>...</td>\n      <td>0.977612</td>\n      <td>NaN</td>\n      <td>NaN</td>\n      <td>NaN</td>\n      <td>NaN</td>\n      <td>NaN</td>\n      <td>NaN</td>\n      <td>NaN</td>\n      <td>0.994109</td>\n      <td>0.990573</td>\n    </tr>\n    <tr>\n      <th>f1_score_micro</th>\n      <td>0.971723</td>\n      <td>0.965832</td>\n      <td>0.886870</td>\n      <td>0.920453</td>\n      <td>0.930474</td>\n      <td>0.849143</td>\n      <td>0.921633</td>\n      <td>0.784373</td>\n      <td>0.923401</td>\n      <td>0.965239</td>\n      <td>...</td>\n      <td>0.977612</td>\n      <td>NaN</td>\n      <td>NaN</td>\n      <td>NaN</td>\n      <td>NaN</td>\n      <td>NaN</td>\n      <td>NaN</td>\n      <td>NaN</td>\n      <td>0.994109</td>\n      <td>0.990573</td>\n    </tr>\n    <tr>\n      <th>balanced_accuracy</th>\n      <td>0.972871</td>\n      <td>0.966956</td>\n      <td>0.887987</td>\n      <td>0.920863</td>\n      <td>0.932044</td>\n      <td>0.850659</td>\n      <td>0.921173</td>\n      <td>0.789506</td>\n      <td>0.923910</td>\n      <td>0.964939</td>\n      <td>...</td>\n      <td>0.977888</td>\n      <td>NaN</td>\n      <td>NaN</td>\n      <td>NaN</td>\n      <td>NaN</td>\n      <td>NaN</td>\n      <td>NaN</td>\n      <td>NaN</td>\n      <td>0.994214</td>\n      <td>0.990095</td>\n    </tr>\n    <tr>\n      <th>precision_score_weighted</th>\n      <td>0.972846</td>\n      <td>0.967643</td>\n      <td>0.890516</td>\n      <td>0.924370</td>\n      <td>0.932519</td>\n      <td>0.852588</td>\n      <td>0.923775</td>\n      <td>0.806552</td>\n      <td>0.926734</td>\n      <td>0.966538</td>\n      <td>...</td>\n      <td>0.978326</td>\n      <td>NaN</td>\n      <td>NaN</td>\n      <td>NaN</td>\n      <td>NaN</td>\n      <td>NaN</td>\n      <td>NaN</td>\n      <td>NaN</td>\n      <td>0.994303</td>\n      <td>0.990911</td>\n    </tr>\n    <tr>\n      <th>norm_macro_recall</th>\n      <td>0.969857</td>\n      <td>0.963284</td>\n      <td>0.875541</td>\n      <td>0.912070</td>\n      <td>0.924493</td>\n      <td>0.834065</td>\n      <td>0.912414</td>\n      <td>0.766117</td>\n      <td>0.915456</td>\n      <td>0.961043</td>\n      <td>...</td>\n      <td>0.975431</td>\n      <td>NaN</td>\n      <td>NaN</td>\n      <td>NaN</td>\n      <td>NaN</td>\n      <td>NaN</td>\n      <td>NaN</td>\n      <td>NaN</td>\n      <td>0.993571</td>\n      <td>0.988994</td>\n    </tr>\n    <tr>\n      <th>AUC_macro</th>\n      <td>0.999375</td>\n      <td>0.999118</td>\n      <td>0.988232</td>\n      <td>0.993267</td>\n      <td>0.995567</td>\n      <td>0.982016</td>\n      <td>0.993630</td>\n      <td>0.970903</td>\n      <td>0.993190</td>\n      <td>0.998537</td>\n      <td>...</td>\n      <td>0.999176</td>\n      <td>NaN</td>\n      <td>NaN</td>\n      <td>NaN</td>\n      <td>NaN</td>\n      <td>NaN</td>\n      <td>NaN</td>\n      <td>NaN</td>\n      <td>0.999949</td>\n      <td>0.999936</td>\n    </tr>\n    <tr>\n      <th>average_precision_score_macro</th>\n      <td>0.996110</td>\n      <td>0.994582</td>\n      <td>0.943749</td>\n      <td>0.961495</td>\n      <td>0.973115</td>\n      <td>0.912205</td>\n      <td>0.968715</td>\n      <td>0.870108</td>\n      <td>0.962103</td>\n      <td>0.991663</td>\n      <td>...</td>\n      <td>0.993894</td>\n      <td>NaN</td>\n      <td>NaN</td>\n      <td>NaN</td>\n      <td>NaN</td>\n      <td>NaN</td>\n      <td>NaN</td>\n      <td>NaN</td>\n      <td>0.999608</td>\n      <td>0.999521</td>\n    </tr>\n    <tr>\n      <th>accuracy</th>\n      <td>0.971723</td>\n      <td>0.965832</td>\n      <td>0.886870</td>\n      <td>0.920453</td>\n      <td>0.930474</td>\n      <td>0.849143</td>\n      <td>0.921633</td>\n      <td>0.784373</td>\n      <td>0.923401</td>\n      <td>0.965239</td>\n      <td>...</td>\n      <td>0.977612</td>\n      <td>NaN</td>\n      <td>NaN</td>\n      <td>NaN</td>\n      <td>NaN</td>\n      <td>NaN</td>\n      <td>NaN</td>\n      <td>NaN</td>\n      <td>0.994109</td>\n      <td>0.990573</td>\n    </tr>\n    <tr>\n      <th>matthews_correlation</th>\n      <td>0.968621</td>\n      <td>0.962129</td>\n      <td>0.874702</td>\n      <td>0.911920</td>\n      <td>0.922828</td>\n      <td>0.832874</td>\n      <td>0.913017</td>\n      <td>0.764319</td>\n      <td>0.915130</td>\n      <td>0.961492</td>\n      <td>...</td>\n      <td>0.975140</td>\n      <td>NaN</td>\n      <td>NaN</td>\n      <td>NaN</td>\n      <td>NaN</td>\n      <td>NaN</td>\n      <td>NaN</td>\n      <td>NaN</td>\n      <td>0.993460</td>\n      <td>0.989531</td>\n    </tr>\n    <tr>\n      <th>precision_score_macro</th>\n      <td>0.971306</td>\n      <td>0.965905</td>\n      <td>0.887370</td>\n      <td>0.921234</td>\n      <td>0.930634</td>\n      <td>0.851738</td>\n      <td>0.920515</td>\n      <td>0.800319</td>\n      <td>0.924072</td>\n      <td>0.964622</td>\n      <td>...</td>\n      <td>0.978141</td>\n      <td>NaN</td>\n      <td>NaN</td>\n      <td>NaN</td>\n      <td>NaN</td>\n      <td>NaN</td>\n      <td>NaN</td>\n      <td>NaN</td>\n      <td>0.994410</td>\n      <td>0.990861</td>\n    </tr>\n    <tr>\n      <th>precision_score_micro</th>\n      <td>0.971723</td>\n      <td>0.965832</td>\n      <td>0.886870</td>\n      <td>0.920453</td>\n      <td>0.930474</td>\n      <td>0.849143</td>\n      <td>0.921633</td>\n      <td>0.784373</td>\n      <td>0.923401</td>\n      <td>0.965239</td>\n      <td>...</td>\n      <td>0.977612</td>\n      <td>NaN</td>\n      <td>NaN</td>\n      <td>NaN</td>\n      <td>NaN</td>\n      <td>NaN</td>\n      <td>NaN</td>\n      <td>NaN</td>\n      <td>0.994109</td>\n      <td>0.990573</td>\n    </tr>\n  </tbody>\n</table>\n<p>21 rows × 74 columns</p>\n</div>"
          },
          "metadata": {}
        }
      ],
      "execution_count": 13,
      "metadata": {
        "gather": {
          "logged": 1609981060616
        }
      }
    },
    {
      "cell_type": "code",
      "source": [
        "best_run, fitted_model = remote_run.get_output()\n",
        "best_run_metrics = best_run.get_metrics()"
      ],
      "outputs": [],
      "execution_count": 14,
      "metadata": {
        "gather": {
          "logged": 1609981072485
        }
      }
    },
    {
      "cell_type": "code",
      "source": [
        "os.makedirs('./outputs', exist_ok=True)\n",
        "\n",
        "joblib.dump(fitted_model, filename='outputs/automl.joblib')\n",
        "\n",
        "model_name = best_run.properties['model_name']\n",
        "model_name"
      ],
      "outputs": [
        {
          "output_type": "execute_result",
          "execution_count": 15,
          "data": {
            "text/plain": "'AutoML1dd22a48972'"
          },
          "metadata": {}
        }
      ],
      "execution_count": 15,
      "metadata": {
        "gather": {
          "logged": 1609981072949
        }
      }
    },
    {
      "cell_type": "code",
      "source": [
        "# best_run, fitted_model = local_run.get_output()\n",
        "# best_run_metrics = best_run.get_metrics()"
      ],
      "outputs": [],
      "execution_count": null,
      "metadata": {}
    },
    {
      "cell_type": "code",
      "source": [
        "script_file = 'score.py'\n",
        "\n",
        "best_run.download_file('outputs/scoring_file_v_1_0_0.py', script_file)"
      ],
      "outputs": [],
      "execution_count": 16,
      "metadata": {
        "gather": {
          "logged": 1609981073234
        }
      }
    },
    {
      "cell_type": "code",
      "source": [
        "# find the run with the highest accuracy value.\n",
        "# best_run, fitted_model = remote_run.get_output()\n",
        "\n",
        "# register model in workspace\n",
        "description = 'Automated Machine Learning Model'\n",
        "tags = None\n",
        "model1 = remote_run.register_model(model_name = model_name, description=description, tags=tags)\n",
        "remote_run.model_id # Use this id to deploy the model as a web service in Azure"
      ],
      "outputs": [
        {
          "output_type": "execute_result",
          "execution_count": 17,
          "data": {
            "text/plain": "'AutoML1dd22a48972'"
          },
          "metadata": {}
        }
      ],
      "execution_count": 17,
      "metadata": {
        "gather": {
          "logged": 1609981073856
        }
      }
    },
    {
      "cell_type": "code",
      "source": [
        "# # find the run with the highest accuracy value.\n",
        "# best_run, fitted_model = local_run.get_output()\n",
        "\n",
        "# # register model in workspace\n",
        "# description = 'Automated Machine Learning Model'\n",
        "# tags = None\n",
        "# model2 = local_run.register_model(model_name = model_name, description=description, tags=tags)\n",
        "# local_run.model_id # Use this id to deploy the model as a web service in Azure"
      ],
      "outputs": [],
      "execution_count": null,
      "metadata": {}
    },
    {
      "cell_type": "code",
      "source": [
        "# # find 30 random samples from test set\n",
        "# n = 30\n",
        "# X_test = digits.data[:100, :]\n",
        "# y_test = digits.target[:100]\n",
        "# sample_indices = np.random.permutation(X_test.shape[0])[0:n]\n",
        "# test_samples = X_test[sample_indices]\n",
        "\n",
        "\n",
        "# # predict using the  model\n",
        "# result = fitted_model.predict(test_samples)\n",
        "\n",
        "# # compare actual value vs. the predicted values:\n",
        "# i = 0\n",
        "# plt.figure(figsize = (20, 1))\n",
        "\n",
        "# for s in sample_indices:\n",
        "#     plt.subplot(1, n, i + 1)\n",
        "#     plt.axhline('')\n",
        "#     plt.axvline('')\n",
        "    \n",
        "#     # use different color for misclassified sample\n",
        "#     font_color = 'red' if y_test[s] != result[i] else 'black'\n",
        "#     clr_map = plt.cm.gray if y_test[s] != result[i] else plt.cm.Greys\n",
        "    \n",
        "#     plt.text(x = 2, y = -2, s = result[i], fontsize = 18, color = font_color)\n",
        "#     plt.imshow(X_test[s].reshape(8, 8), cmap = clr_map)\n",
        "    \n",
        "#     i = i + 1\n",
        "# plt.show()"
      ],
      "outputs": [],
      "execution_count": 22,
      "metadata": {
        "gather": {
          "logged": 1609981763167
        }
      }
    },
    {
      "cell_type": "code",
      "source": [
        "# from azureml.core.experiment import Experiment\n",
        "# experiment = Experiment(ws, 'Tutorial-automl-remote')\n",
        "# remote_run = experiment.submit(automl_config, show_output=True)\n",
        "remote_run.get_portal_url()\n",
        "env = best_run.get_environment()\n",
        "\n",
        "script_file = 'score.py'\n",
        "\n",
        "inference_config = InferenceConfig(entry_script = script_file, environment = env)\n",
        "\n",
        "aci_config = AciWebservice.deploy_configuration(cpu_cores = 1, memory_gb = 1)\n",
        "\n",
        "aci_service_name = 'automl-mnist-classifier'\n",
        "print(aci_service_name)"
      ],
      "outputs": [
        {
          "output_type": "stream",
          "name": "stdout",
          "text": [
            "automl-mnist-classifier\n"
          ]
        }
      ],
      "execution_count": 19,
      "metadata": {
        "gather": {
          "logged": 1609981353406
        }
      }
    },
    {
      "cell_type": "code",
      "source": [
        "print('Best Run Id: ', best_run.id)\n",
        "print('\\n Accuracy:', best_run_metrics['accuracy'])\n",
        "print(fitted_model._final_estimator)\n",
        "print(best_run.get_tags())"
      ],
      "outputs": [
        {
          "output_type": "stream",
          "name": "stdout",
          "text": [
            "Best Run Id:  AutoML_1dd22a48-91f4-415b-8bd9-1a986ec1d9c8_72\n",
            "\n",
            " Accuracy: 0.9941089710220371\n",
            "PreFittedSoftVotingClassifier(classification_labels=None,\n",
            "                              estimators=[('49',\n",
            "                                           Pipeline(memory=None,\n",
            "                                                    steps=[('minmaxscaler',\n",
            "                                                            MinMaxScaler(copy=True,\n",
            "                                                                         feature_range=(0,\n",
            "                                                                                        1))),\n",
            "                                                           ('svcwrapper',\n",
            "                                                            SVCWrapper(C=51.79474679231202,\n",
            "                                                                       break_ties=False,\n",
            "                                                                       cache_size=200,\n",
            "                                                                       class_weight=None,\n",
            "                                                                       coef0=0.0,\n",
            "                                                                       decision_function_shape='ovr',\n",
            "                                                                       degree=3,\n",
            "                                                                       gamma='scale',\n",
            "                                                                       kernel='rbf',\n",
            "                                                                       max_iter=-1,\n",
            "                                                                       pro...\n",
            "                                                                       coef0=0.0,\n",
            "                                                                       decision_function_shape='ovr',\n",
            "                                                                       degree=3,\n",
            "                                                                       gamma='scale',\n",
            "                                                                       kernel='rbf',\n",
            "                                                                       max_iter=-1,\n",
            "                                                                       probability=True,\n",
            "                                                                       random_state=None,\n",
            "                                                                       shrinking=True,\n",
            "                                                                       tol=0.001,\n",
            "                                                                       verbose=False))],\n",
            "                                                    verbose=False))],\n",
            "                              flatten_transform=None,\n",
            "                              weights=[0.14285714285714285, 0.14285714285714285,\n",
            "                                       0.14285714285714285, 0.14285714285714285,\n",
            "                                       0.14285714285714285, 0.14285714285714285,\n",
            "                                       0.14285714285714285])\n",
            "{'_aml_system_azureml.automlComponent': 'AutoML', '_aml_system_ComputeTargetStatus': '{\"AllocationState\":\"steady\",\"PreparingNodeCount\":0,\"RunningNodeCount\":5,\"CurrentNodeCount\":5}', 'ensembled_iterations': '[49, 44, 43, 53, 27, 33, 54]', 'ensembled_algorithms': \"['SVM', 'SVM', 'SVM', 'SVM', 'SVM', 'KNN', 'SVM']\", 'ensemble_weights': '[0.14285714285714285, 0.14285714285714285, 0.14285714285714285, 0.14285714285714285, 0.14285714285714285, 0.14285714285714285, 0.14285714285714285]', 'best_individual_pipeline_score': '0.9999305623586849', 'best_individual_iteration': '49', '_aml_system_automl_is_child_run_end_telemetry_event_logged': 'True', 'model_explain_run_id': 'AutoML_1dd22a48-91f4-415b-8bd9-1a986ec1d9c8_ModelExplain', 'model_explanation': 'True'}\n"
          ]
        }
      ],
      "execution_count": 20,
      "metadata": {
        "gather": {
          "logged": 1609981358918
        }
      }
    },
    {
      "cell_type": "code",
      "source": [
        "service = Model.deploy(ws, aci_service_name, [model1], inference_config, aci_config)\n",
        "service.wait_for_deployment(True)\n",
        "print(\"State: \" + service.state)\n",
        "print(\"Scoring URI: \" + service.scoring_uri)"
      ],
      "outputs": [
        {
          "output_type": "stream",
          "name": "stdout",
          "text": [
            "Tips: You can try get_logs(): https://aka.ms/debugimage#dockerlog or local deployment: https://aka.ms/debugimage#debug-locally to debug if deployment takes longer than 10 minutes.\n",
            "Running.......................................................\n",
            "Succeeded\n",
            "ACI service creation operation finished, operation \"Succeeded\"\n",
            "State: Healthy\n",
            "Scoring URI: http://4de0afd6-0c1e-422a-895e-26f0600405ab.southcentralus.azurecontainer.io/score\n"
          ]
        }
      ],
      "execution_count": 21,
      "metadata": {
        "gather": {
          "logged": 1609981762754
        }
      }
    },
    {
      "cell_type": "code",
      "source": [
        "# #########################Method 1###########################################\n",
        "# #data_test = data_test.to_pandas_dataframe().dropna()\n",
        "# data_sample = data_test.sample(3)\n",
        "# y_true = data_sample.pop('Species')\n",
        "# sample_json = json.dumps({'data':data_sample.to_dict(orient='records')})\n",
        "# print(sample_json)"
      ],
      "outputs": [],
      "execution_count": null,
      "metadata": {}
    },
    {
      "cell_type": "code",
      "source": [
        "# output = service.run(sample_json)\n",
        "# print('Prediction: ', output)\n",
        "# print('True Values: ', y_true.values)"
      ],
      "outputs": [],
      "execution_count": null,
      "metadata": {}
    },
    {
      "cell_type": "code",
      "source": [
        "%run endpoint.py"
      ],
      "outputs": [
        {
          "output_type": "stream",
          "name": "stdout",
          "text": [
            "{\"result\": [4]}\n"
          ]
        }
      ],
      "execution_count": 23,
      "metadata": {}
    },
    {
      "cell_type": "code",
      "source": [
        "# service.get_logs()"
      ],
      "outputs": [],
      "execution_count": null,
      "metadata": {}
    },
    {
      "cell_type": "code",
      "source": [
        "service.delete()"
      ],
      "outputs": [],
      "execution_count": null,
      "metadata": {}
    }
  ],
  "metadata": {
    "kernelspec": {
      "name": "python3",
      "language": "python",
      "display_name": "Python 3"
    },
    "language_info": {
      "name": "python",
      "version": "3.6.9",
      "mimetype": "text/x-python",
      "codemirror_mode": {
        "name": "ipython",
        "version": 3
      },
      "pygments_lexer": "ipython3",
      "nbconvert_exporter": "python",
      "file_extension": ".py"
    },
    "kernel_info": {
      "name": "python3"
    },
    "nteract": {
      "version": "nteract-front-end@1.0.0"
    }
  },
  "nbformat": 4,
  "nbformat_minor": 2
}
>>>>>>> eb5a6479ffdb5ca12a18c9d4c31a66f40f70a155:mnist-project/automl/automl-mnist-classifier-submit.ipynb
